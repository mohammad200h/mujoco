{
 "cells": [
  {
   "cell_type": "markdown",
   "metadata": {},
   "source": [
    "### Useful Links"
   ]
  },
  {
   "cell_type": "markdown",
   "metadata": {},
   "source": [
    "https://www.youtube.com/watch?v=VokUbWUhU-c&t=37s"
   ]
  },
  {
   "cell_type": "markdown",
   "metadata": {},
   "source": [
    "### imports"
   ]
  },
  {
   "cell_type": "code",
   "execution_count": 24,
   "metadata": {},
   "outputs": [
    {
     "name": "stdout",
     "output_type": "stream",
     "text": [
      "Requirement already satisfied: gmsh in /Users/mohammadhamid/.pyenv/versions/3.10.6/lib/python3.10/site-packages (4.13.1)\n",
      "\n",
      "\u001b[1m[\u001b[0m\u001b[34;49mnotice\u001b[0m\u001b[1;39;49m]\u001b[0m\u001b[39;49m A new release of pip available: \u001b[0m\u001b[31;49m22.2.1\u001b[0m\u001b[39;49m -> \u001b[0m\u001b[32;49m24.3.1\u001b[0m\n",
      "\u001b[1m[\u001b[0m\u001b[34;49mnotice\u001b[0m\u001b[1;39;49m]\u001b[0m\u001b[39;49m To update, run: \u001b[0m\u001b[32;49mpip install --upgrade pip\u001b[0m\n"
     ]
    }
   ],
   "source": [
    "!pip install gmsh\n",
    "\n",
    "import gmsh\n",
    "import tempfile\n"
   ]
  },
  {
   "cell_type": "markdown",
   "metadata": {},
   "source": [
    "#### Generate Rectangle"
   ]
  },
  {
   "cell_type": "code",
   "execution_count": 26,
   "metadata": {},
   "outputs": [],
   "source": [
    "\n",
    "def get_rectangle(center = [0,0],length = 1.0, width = 1.0,mesh_size=0.5):\n",
    "\n",
    "  # Define the coordinates of the square\n",
    "  x_min = center[0] - length / 2\n",
    "  x_max = center[0] + length / 2\n",
    "  y_min = center[1] - width / 2\n",
    "  y_max = center[1] + width / 2\n",
    "\n",
    "  # Define the points\n",
    "  p1 = gmsh.model.geo.addPoint(x_min, y_min, 0 , mesh_size)\n",
    "  p2 = gmsh.model.geo.addPoint(x_max, y_min, 0 , mesh_size)\n",
    "  p3 = gmsh.model.geo.addPoint(x_max, y_max, 0 , mesh_size)\n",
    "  p4 = gmsh.model.geo.addPoint(x_min, y_max, 0 , mesh_size)\n",
    "\n",
    "  # Define the lines\n",
    "  l1 = gmsh.model.geo.addLine(p1, p2)\n",
    "  l2 = gmsh.model.geo.addLine(p2, p3)\n",
    "  l3 = gmsh.model.geo.addLine(p3, p4)\n",
    "  l4 = gmsh.model.geo.addLine(p4, p1)\n",
    "\n",
    "  # Define the loop\n",
    "  loop = gmsh.model.geo.addCurveLoop([l1, l2, l3, l4])\n",
    "\n",
    "\n",
    "  return loop"
   ]
  },
  {
   "cell_type": "code",
   "execution_count": 34,
   "metadata": {},
   "outputs": [
    {
     "name": "stderr",
     "output_type": "stream",
     "text": [
      "Warning : Gmsh has aleady been initialized\n"
     ]
    },
    {
     "name": "stdout",
     "output_type": "stream",
     "text": [
      "Info    : Meshing 1D...\n",
      "Info    : [  0%] Meshing curve 1 (Line)\n",
      "Info    : [ 30%] Meshing curve 2 (Line)\n",
      "Info    : [ 60%] Meshing curve 3 (Line)\n",
      "Info    : [ 80%] Meshing curve 4 (Line)\n",
      "Info    : Done meshing 1D (Wall 0.000233292s, CPU 0.000359s)\n",
      "Info    : 8 nodes 12 elements\n",
      "None\n",
      "Info    : Writing '/var/folders/lh/xbv45dx97wv04zkf035nffyr01643j/T/tmpzwaek_li.msh'...\n",
      "Info    : Done writing '/var/folders/lh/xbv45dx97wv04zkf035nffyr01643j/T/tmpzwaek_li.msh'\n",
      "Info    : Reading '/var/folders/lh/xbv45dx97wv04zkf035nffyr01643j/T/tmpzwaek_li.msh'...\n",
      "Info    : 8 entities\n",
      "Info    : 8 nodes\n",
      "Info    : 12 elements\n",
      "Info    : Done reading '/var/folders/lh/xbv45dx97wv04zkf035nffyr01643j/T/tmpzwaek_li.msh'\n",
      "-------------------------------------------------------\n",
      "Version       : 4.13.1\n",
      "License       : GNU General Public License\n",
      "Build OS      : MacOSARM-sdk\n",
      "Build date    : 20240524\n",
      "Build host    : gmsh.info\n",
      "Build options : 64Bit ALGLIB[contrib] ANN[contrib] Bamg Blas[petsc] Blossom Cgns DIntegration Dlopen DomHex Eigen[contrib] Fltk GMP Gmm[contrib] Hxt Jpeg Kbipack Lapack[petsc] MathEx[contrib] Med Mesh Metis[contrib] Mpeg Netgen Nii2mesh ONELAB ONELABMetamodel OpenCASCADE OpenCASCADE-CAF OpenGL OpenMP OptHom PETSc Parser Plugins Png Post QuadMeshingTools QuadTri Solver TetGen/BR TinyXML2[contrib] TouchBar Untangle Voro++[contrib] WinslowUntangler Zlib\n",
      "FLTK version  : 1.4.0\n",
      "PETSc version : 3.17.4 (real arithmtic)\n",
      "OCC version   : 7.7.2\n",
      "MED version   : 4.1.0\n",
      "Packaged by   : geuzaine\n",
      "Web site      : https://gmsh.info\n",
      "Issue tracker : https://gitlab.onelab.info/gmsh/gmsh/issues\n",
      "-------------------------------------------------------\n"
     ]
    }
   ],
   "source": [
    "\n",
    "gmsh.initialize()\n",
    "\n",
    "# create a new model\n",
    "gmsh.model.add(\"rectangle\")\n",
    "\n",
    "rectangle = get_rectangle()\n",
    "\n",
    "# synchronize the geometry\n",
    "gmsh.model.geo.synchronize()\n",
    "# generate mesh\n",
    "mesh = gmsh.model.mesh.generate(1)\n",
    "\n",
    "print(mesh)\n",
    "\n",
    "# Save mesh to a temporary file\n",
    "with tempfile.NamedTemporaryFile(suffix=\".msh\", delete=False) as tmp_mesh_file:\n",
    "    tmp_filename = tmp_mesh_file.name\n",
    "    gmsh.option.setNumber(\"Mesh.MshFileVersion\", 4.1)\n",
    "    gmsh.write(tmp_filename)\n",
    "\n",
    "# Load and visualize the mesh in Gmsh\n",
    "gmsh.open(tmp_filename)\n",
    "gmsh.fltk.run()\n",
    "\n",
    "gmsh.finalize()\n",
    "\n"
   ]
  },
  {
   "cell_type": "markdown",
   "metadata": {},
   "source": [
    "### Create Surface from Rectangle"
   ]
  },
  {
   "cell_type": "code",
   "execution_count": 28,
   "metadata": {},
   "outputs": [
    {
     "name": "stdout",
     "output_type": "stream",
     "text": [
      "Info    : Meshing 1D...\n",
      "Info    : [  0%] Meshing curve 1 (Line)\n",
      "Info    : [ 30%] Meshing curve 2 (Line)\n",
      "Info    : [ 60%] Meshing curve 3 (Line)\n",
      "Info    : [ 80%] Meshing curve 4 (Line)\n",
      "Info    : Done meshing 1D (Wall 0.00023825s, CPU 0.00036s)\n",
      "Info    : Meshing 2D...\n",
      "Info    : Meshing surface 1 (Plane, Frontal-Delaunay)\n",
      "Info    : Done meshing 2D (Wall 0.000321917s, CPU 0.000412s)\n",
      "Info    : 12 nodes 26 elements\n",
      "Info    : Writing '/var/folders/lh/xbv45dx97wv04zkf035nffyr01643j/T/tmpun2tzini.msh'...\n",
      "Info    : Done writing '/var/folders/lh/xbv45dx97wv04zkf035nffyr01643j/T/tmpun2tzini.msh'\n",
      "Info    : Reading '/var/folders/lh/xbv45dx97wv04zkf035nffyr01643j/T/tmpun2tzini.msh'...\n",
      "Info    : 9 entities\n",
      "Info    : 12 nodes\n",
      "Info    : 26 elements\n",
      "Info    : Done reading '/var/folders/lh/xbv45dx97wv04zkf035nffyr01643j/T/tmpun2tzini.msh'\n",
      "-------------------------------------------------------\n",
      "Version       : 4.13.1\n",
      "License       : GNU General Public License\n",
      "Build OS      : MacOSARM-sdk\n",
      "Build date    : 20240524\n",
      "Build host    : gmsh.info\n",
      "Build options : 64Bit ALGLIB[contrib] ANN[contrib] Bamg Blas[petsc] Blossom Cgns DIntegration Dlopen DomHex Eigen[contrib] Fltk GMP Gmm[contrib] Hxt Jpeg Kbipack Lapack[petsc] MathEx[contrib] Med Mesh Metis[contrib] Mpeg Netgen Nii2mesh ONELAB ONELABMetamodel OpenCASCADE OpenCASCADE-CAF OpenGL OpenMP OptHom PETSc Parser Plugins Png Post QuadMeshingTools QuadTri Solver TetGen/BR TinyXML2[contrib] TouchBar Untangle Voro++[contrib] WinslowUntangler Zlib\n",
      "FLTK version  : 1.4.0\n",
      "PETSc version : 3.17.4 (real arithmtic)\n",
      "OCC version   : 7.7.2\n",
      "MED version   : 4.1.0\n",
      "Packaged by   : geuzaine\n",
      "Web site      : https://gmsh.info\n",
      "Issue tracker : https://gitlab.onelab.info/gmsh/gmsh/issues\n",
      "-------------------------------------------------------\n"
     ]
    }
   ],
   "source": [
    "\n",
    "gmsh.initialize()\n",
    "\n",
    "# create a new model\n",
    "gmsh.model.add(\"surface\")\n",
    "\n",
    "rectangle = get_rectangle()\n",
    "\n",
    "\n",
    "surface = gmsh.model.geo.addPlaneSurface([rectangle])\n",
    "\n",
    "# Synchronize the geometry\n",
    "gmsh.model.geo.synchronize()\n",
    "# generate mesh\n",
    "gmsh.model.mesh.generate(2)\n",
    "\n",
    "# Save mesh to a temporary file\n",
    "with tempfile.NamedTemporaryFile(suffix=\".msh\", delete=False) as tmp_mesh_file:\n",
    "    tmp_filename = tmp_mesh_file.name\n",
    "    gmsh.option.setNumber(\"Mesh.MshFileVersion\", 4.1)\n",
    "    gmsh.write(tmp_filename)\n",
    "\n",
    "# Load and visualize the mesh in Gmsh\n",
    "gmsh.open(tmp_filename)\n",
    "gmsh.fltk.run()\n",
    "\n",
    "gmsh.finalize()"
   ]
  },
  {
   "cell_type": "markdown",
   "metadata": {},
   "source": [
    "### Create Block using extrusion"
   ]
  },
  {
   "cell_type": "code",
   "execution_count": 37,
   "metadata": {},
   "outputs": [
    {
     "name": "stdout",
     "output_type": "stream",
     "text": [
      "Info    : Meshing 1D...\n",
      "Info    : [  0%] Meshing curve 1 (Line)\n",
      "Info    : [ 10%] Meshing curve 2 (Line)\n",
      "Info    : [ 20%] Meshing curve 3 (Line)\n",
      "Info    : [ 30%] Meshing curve 4 (Line)\n",
      "Info    : [ 40%] Meshing curve 6 (Line)\n",
      "Info    : [ 50%] Meshing curve 7 (Line)\n",
      "Info    : [ 60%] Meshing curve 8 (Line)\n",
      "Info    : [ 60%] Meshing curve 9 (Line)\n",
      "Info    : [ 70%] Meshing curve 11 (Line)\n",
      "Info    : [ 80%] Meshing curve 12 (Line)\n",
      "Info    : [ 90%] Meshing curve 16 (Line)\n",
      "Info    : [100%] Meshing curve 20 (Line)\n",
      "Info    : Done meshing 1D (Wall 0.000496s, CPU 0.00064s)\n",
      "Info    : Meshing 2D...\n",
      "Info    : [  0%] Meshing surface 1 (Plane, Frontal-Delaunay)\n",
      "Info    : [ 20%] Meshing surface 13 (Surface, Frontal-Delaunay)\n",
      "Info    : [ 40%] Meshing surface 17 (Surface, Frontal-Delaunay)\n",
      "Info    : [ 60%] Meshing surface 21 (Surface, Frontal-Delaunay)\n",
      "Info    : [ 70%] Meshing surface 25 (Surface, Frontal-Delaunay)\n",
      "Info    : [ 90%] Meshing surface 26 (Plane, Frontal-Delaunay)\n",
      "Info    : Done meshing 2D (Wall 0.000634625s, CPU 0.000741s)\n",
      "Info    : 24 nodes 72 elements\n",
      "Info    : Writing '/var/folders/lh/xbv45dx97wv04zkf035nffyr01643j/T/tmp4eczz5sr.stl'...\n",
      "Info    : Done writing '/var/folders/lh/xbv45dx97wv04zkf035nffyr01643j/T/tmp4eczz5sr.stl'\n",
      "Info    : Reading '/var/folders/lh/xbv45dx97wv04zkf035nffyr01643j/T/tmp4eczz5sr.stl'...\n",
      "Info    : 44 facets in solid 0 Created by Gmsh\n",
      "Info    : Done reading '/var/folders/lh/xbv45dx97wv04zkf035nffyr01643j/T/tmp4eczz5sr.stl'\n",
      "-------------------------------------------------------\n",
      "Version       : 4.13.1\n",
      "License       : GNU General Public License\n",
      "Build OS      : MacOSARM-sdk\n",
      "Build date    : 20240524\n",
      "Build host    : gmsh.info\n",
      "Build options : 64Bit ALGLIB[contrib] ANN[contrib] Bamg Blas[petsc] Blossom Cgns DIntegration Dlopen DomHex Eigen[contrib] Fltk GMP Gmm[contrib] Hxt Jpeg Kbipack Lapack[petsc] MathEx[contrib] Med Mesh Metis[contrib] Mpeg Netgen Nii2mesh ONELAB ONELABMetamodel OpenCASCADE OpenCASCADE-CAF OpenGL OpenMP OptHom PETSc Parser Plugins Png Post QuadMeshingTools QuadTri Solver TetGen/BR TinyXML2[contrib] TouchBar Untangle Voro++[contrib] WinslowUntangler Zlib\n",
      "FLTK version  : 1.4.0\n",
      "PETSc version : 3.17.4 (real arithmtic)\n",
      "OCC version   : 7.7.2\n",
      "MED version   : 4.1.0\n",
      "Packaged by   : geuzaine\n",
      "Web site      : https://gmsh.info\n",
      "Issue tracker : https://gitlab.onelab.info/gmsh/gmsh/issues\n",
      "-------------------------------------------------------\n"
     ]
    }
   ],
   "source": [
    "gmsh.initialize()\n",
    "\n",
    "# create a new model\n",
    "gmsh.model.add(\"surface\")\n",
    "\n",
    "rectangle = get_rectangle()\n",
    "\n",
    "\n",
    "surface = gmsh.model.geo.addPlaneSurface([rectangle])\n",
    "\n",
    "height = 0.1\n",
    "extrusion = gmsh.model.geo.extrude([(2, surface)], 0, 0, height)\n",
    "\n",
    "# Synchronize the geometry\n",
    "gmsh.model.geo.synchronize()\n",
    "# generate mesh\n",
    "gmsh.model.mesh.generate(2)\n",
    "\n",
    "# Save mesh to a temporary file\n",
    "with tempfile.NamedTemporaryFile(suffix=\".stl\", delete=False) as tmp_mesh_file:\n",
    "    tmp_filename = tmp_mesh_file.name\n",
    "    gmsh.option.setNumber(\"Mesh.MshFileVersion\", 4.1)\n",
    "    gmsh.write(tmp_filename)\n",
    "\n",
    "# Load and visualize the mesh in Gmsh\n",
    "gmsh.open(tmp_filename)\n",
    "gmsh.fltk.run()\n",
    "\n",
    "gmsh.finalize()"
   ]
  },
  {
   "cell_type": "markdown",
   "metadata": {},
   "source": [
    "### Creating an arc"
   ]
  },
  {
   "cell_type": "code",
   "execution_count": 39,
   "metadata": {},
   "outputs": [],
   "source": [
    "def get_gentle_arc(center=[0, 0], radius=1.0, angle=10.0, mesh_size=0.5):\n",
    "    \"\"\"\n",
    "    Creates an arc with a gentle slope.\n",
    "\n",
    "    Parameters:\n",
    "    - center: List of two floats [x, y] representing the center of the arc.\n",
    "    - radius: Radius of the arc.\n",
    "    - angle: The central angle of the arc in degrees (smaller angle for gentler slope).\n",
    "    - mesh_size: Mesh size for Gmsh points.\n",
    "\n",
    "    Returns:\n",
    "    - arc: The curve loop defining the gentle arc.\n",
    "    \"\"\"\n",
    "    import gmsh\n",
    "    import math\n",
    "\n",
    "    # Calculate the arc's endpoint coordinates\n",
    "    start_x = center[0] + radius * math.cos(math.radians(-angle / 2))\n",
    "    start_y = center[1] + radius * math.sin(math.radians(-angle / 2))\n",
    "    end_x = center[0] + radius * math.cos(math.radians(angle / 2))\n",
    "    end_y = center[1] + radius * math.sin(math.radians(angle / 2))\n",
    "\n",
    "    # Calculate the gentle midpoint coordinates (close to the line between start and end)\n",
    "    mid_x = center[0] + radius * math.cos(math.radians(0)) * 0.9  # Adjust 0.9 for gentler arc\n",
    "    mid_y = center[1] + radius * math.sin(math.radians(0)) * 0.9\n",
    "\n",
    "    # Define the points\n",
    "    p1 = gmsh.model.geo.addPoint(start_x, start_y, 0, mesh_size)\n",
    "    p2 = gmsh.model.geo.addPoint(mid_x, mid_y, 0, mesh_size)\n",
    "    p3 = gmsh.model.geo.addPoint(end_x, end_y, 0, mesh_size)\n",
    "\n",
    "    # Define the arc\n",
    "    arc = gmsh.model.geo.addCircleArc(p1, p2, p3)\n",
    "\n",
    "    return arc"
   ]
  },
  {
   "cell_type": "code",
   "execution_count": 42,
   "metadata": {},
   "outputs": [
    {
     "name": "stdout",
     "output_type": "stream",
     "text": [
      "-------------------------------------------------------\n",
      "Version       : 4.13.1\n",
      "License       : GNU General Public License\n",
      "Build OS      : MacOSARM-sdk\n",
      "Build date    : 20240524\n",
      "Build host    : gmsh.info\n",
      "Build options : 64Bit ALGLIB[contrib] ANN[contrib] Bamg Blas[petsc] Blossom Cgns DIntegration Dlopen DomHex Eigen[contrib] Fltk GMP Gmm[contrib] Hxt Jpeg Kbipack Lapack[petsc] MathEx[contrib] Med Mesh Metis[contrib] Mpeg Netgen Nii2mesh ONELAB ONELABMetamodel OpenCASCADE OpenCASCADE-CAF OpenGL OpenMP OptHom PETSc Parser Plugins Png Post QuadMeshingTools QuadTri Solver TetGen/BR TinyXML2[contrib] TouchBar Untangle Voro++[contrib] WinslowUntangler Zlib\n",
      "FLTK version  : 1.4.0\n",
      "PETSc version : 3.17.4 (real arithmtic)\n",
      "OCC version   : 7.7.2\n",
      "MED version   : 4.1.0\n",
      "Packaged by   : geuzaine\n",
      "Web site      : https://gmsh.info\n",
      "Issue tracker : https://gitlab.onelab.info/gmsh/gmsh/issues\n",
      "-------------------------------------------------------\n"
     ]
    }
   ],
   "source": [
    "\n",
    "\n",
    "gmsh.initialize()\n",
    "gmsh.model.add(\"GentleArc\")\n",
    "arc = get_gentle_arc(center=[0, 0], radius=5.0, angle=10, mesh_size=0.5)\n",
    "gmsh.model.geo.synchronize()\n",
    "gmsh.fltk.run()\n",
    "gmsh.finalize()\n"
   ]
  },
  {
   "cell_type": "markdown",
   "metadata": {},
   "source": [
    "### Create Half Circle"
   ]
  },
  {
   "cell_type": "code",
   "execution_count": 57,
   "metadata": {},
   "outputs": [],
   "source": [
    "def create_half_circle(center=[0, 0], radius=1.0, mesh_size=0.5):\n",
    "    \"\"\"\n",
    "    Creates a half circle using two quarter-circle arcs.\n",
    "    \"\"\"\n",
    "    # Points for the half circle\n",
    "    p1 = gmsh.model.geo.addPoint(center[0] + radius, center[1], 0, mesh_size)\n",
    "    p2 = gmsh.model.geo.addPoint(center[0], center[1] + radius, 0, mesh_size)\n",
    "    p3 = gmsh.model.geo.addPoint(center[0] - radius, center[1], 0, mesh_size)\n",
    "\n",
    "    # Center point for the circle arcs\n",
    "    center_point = gmsh.model.geo.addPoint(center[0], center[1], 0, mesh_size)\n",
    "\n",
    "    # Define the arcs to form a half circle\n",
    "    arc1 = gmsh.model.geo.addCircleArc(p1, center_point, p2)\n",
    "    arc2 = gmsh.model.geo.addCircleArc(p2, center_point, p3)\n",
    "\n",
    "    # Create a loop for the half circle\n",
    "    half_circle_loop = gmsh.model.geo.addCurveLoop([arc1, arc2])\n",
    "\n",
    "    return half_circle_loop"
   ]
  },
  {
   "cell_type": "code",
   "execution_count": 55,
   "metadata": {},
   "outputs": [
    {
     "name": "stdout",
     "output_type": "stream",
     "text": [
      "-------------------------------------------------------\n",
      "Version       : 4.13.1\n",
      "License       : GNU General Public License\n",
      "Build OS      : MacOSARM-sdk\n",
      "Build date    : 20240524\n",
      "Build host    : gmsh.info\n",
      "Build options : 64Bit ALGLIB[contrib] ANN[contrib] Bamg Blas[petsc] Blossom Cgns DIntegration Dlopen DomHex Eigen[contrib] Fltk GMP Gmm[contrib] Hxt Jpeg Kbipack Lapack[petsc] MathEx[contrib] Med Mesh Metis[contrib] Mpeg Netgen Nii2mesh ONELAB ONELABMetamodel OpenCASCADE OpenCASCADE-CAF OpenGL OpenMP OptHom PETSc Parser Plugins Png Post QuadMeshingTools QuadTri Solver TetGen/BR TinyXML2[contrib] TouchBar Untangle Voro++[contrib] WinslowUntangler Zlib\n",
      "FLTK version  : 1.4.0\n",
      "PETSc version : 3.17.4 (real arithmtic)\n",
      "OCC version   : 7.7.2\n",
      "MED version   : 4.1.0\n",
      "Packaged by   : geuzaine\n",
      "Web site      : https://gmsh.info\n",
      "Issue tracker : https://gitlab.onelab.info/gmsh/gmsh/issues\n",
      "-------------------------------------------------------\n"
     ]
    }
   ],
   "source": [
    "\n",
    "gmsh.initialize()\n",
    "gmsh.model.add(\"HalfCircle\")\n",
    "half_circle_loop = create_half_circle(center=[3, 0], radius=1.0, mesh_size=0.5)\n",
    "gmsh.model.geo.synchronize()\n",
    "gmsh.fltk.run()\n",
    "gmsh.finalize()"
   ]
  },
  {
   "cell_type": "markdown",
   "metadata": {},
   "source": [
    "### Revolving"
   ]
  },
  {
   "cell_type": "code",
   "execution_count": 75,
   "metadata": {},
   "outputs": [
    {
     "name": "stderr",
     "output_type": "stream",
     "text": [
      "Warning : Gmsh has aleady been initialized\n"
     ]
    },
    {
     "name": "stdout",
     "output_type": "stream",
     "text": [
      "Info    : I'm busy! Ask me that later...\n",
      "-------------------------------------------------------\n",
      "Version       : 4.13.1\n",
      "License       : GNU General Public License\n",
      "Build OS      : MacOSARM-sdk\n",
      "Build date    : 20240524\n",
      "Build host    : gmsh.info\n",
      "Build options : 64Bit ALGLIB[contrib] ANN[contrib] Bamg Blas[petsc] Blossom Cgns DIntegration Dlopen DomHex Eigen[contrib] Fltk GMP Gmm[contrib] Hxt Jpeg Kbipack Lapack[petsc] MathEx[contrib] Med Mesh Metis[contrib] Mpeg Netgen Nii2mesh ONELAB ONELABMetamodel OpenCASCADE OpenCASCADE-CAF OpenGL OpenMP OptHom PETSc Parser Plugins Png Post QuadMeshingTools QuadTri Solver TetGen/BR TinyXML2[contrib] TouchBar Untangle Voro++[contrib] WinslowUntangler Zlib\n",
      "FLTK version  : 1.4.0\n",
      "PETSc version : 3.17.4 (real arithmtic)\n",
      "OCC version   : 7.7.2\n",
      "MED version   : 4.1.0\n",
      "Packaged by   : geuzaine\n",
      "Web site      : https://gmsh.info\n",
      "Issue tracker : https://gitlab.onelab.info/gmsh/gmsh/issues\n",
      "-------------------------------------------------------\n"
     ]
    }
   ],
   "source": [
    "import gmsh\n",
    "\n",
    "\n",
    "# Initialize Gmsh API\n",
    "gmsh.initialize()\n",
    "gmsh.model.add(\"Bowl\")\n",
    "\n",
    "# Define the half-circle creation function\n",
    "def create_half_circle(center=[0, 0], radius=1.0, mesh_size=0.5):\n",
    "    \"\"\"\n",
    "    Creates a half circle using two quarter-circle arcs.\n",
    "    \"\"\"\n",
    "    # Points for the half circle\n",
    "    p1 = gmsh.model.geo.addPoint(center[0] + radius, center[1], 0, mesh_size)\n",
    "    p2 = gmsh.model.geo.addPoint(center[0], center[1] + radius, 0, mesh_size)\n",
    "    p3 = gmsh.model.geo.addPoint(center[0] - radius, center[1], 0, mesh_size)\n",
    "\n",
    "    # Center point for the circle arcs\n",
    "    center_point = gmsh.model.geo.addPoint(center[0], center[1], 0, mesh_size)\n",
    "\n",
    "    # Define the arcs to form a half circle\n",
    "    arc1 = gmsh.model.geo.addCircleArc(p1, center_point, p2)\n",
    "    arc2 = gmsh.model.geo.addCircleArc(p2, center_point, p3)\n",
    "\n",
    "    # Create a line segment to close the half circle at the bottom\n",
    "    line_close = gmsh.model.geo.addLine(p3, p1)\n",
    "\n",
    "    # Create a loop for the half circle (two arcs + closing line)\n",
    "    half_circle_loop = gmsh.model.geo.addCurveLoop([arc1, arc2, line_close])\n",
    "\n",
    "    return half_circle_loop\n",
    "\n",
    "# Create the half circle\n",
    "half_circle_loop = create_half_circle()\n",
    "\n",
    "# Define a surface for the half circle\n",
    "half_circle_surface = gmsh.model.geo.addPlaneSurface([half_circle_loop])\n",
    "\n",
    "# Revolve the half-circle surface around the y-axis to create a bowl\n",
    "axis_point_start = gmsh.model.geo.addPoint(0, 0, 0)  # Start of axis\n",
    "axis_point_end = gmsh.model.geo.addPoint(0, 1, 0)  # End of axis (y-axis)\n",
    "\n",
    "# Revolve the surface around the y-axis (0,1,0) by 2*pi radians\n",
    "bowl_volume = gmsh.model.geo.revolve([(2, half_circle_surface)], 0, 0, 0, 0, 1, 0, 2 * 3.14159)\n",
    "\n",
    "# gmsh.model.geo.removeDuplicateEntities()\n",
    "\n",
    "\n",
    "# Synchronize the model\n",
    "gmsh.model.geo.synchronize()\n",
    "\n",
    "# Generate mesh\n",
    "gmsh.model.mesh.generate(3)\n",
    "\n",
    "gmsh.fltk.run()\n",
    "\n",
    "gmsh.finalize()"
   ]
  },
  {
   "cell_type": "markdown",
   "metadata": {},
   "source": [
    "### Combining Arc with half circule "
   ]
  },
  {
   "cell_type": "code",
   "execution_count": 48,
   "metadata": {},
   "outputs": [
    {
     "name": "stdout",
     "output_type": "stream",
     "text": [
      "-------------------------------------------------------\n",
      "Version       : 4.13.1\n",
      "License       : GNU General Public License\n",
      "Build OS      : MacOSARM-sdk\n",
      "Build date    : 20240524\n",
      "Build host    : gmsh.info\n",
      "Build options : 64Bit ALGLIB[contrib] ANN[contrib] Bamg Blas[petsc] Blossom Cgns DIntegration Dlopen DomHex Eigen[contrib] Fltk GMP Gmm[contrib] Hxt Jpeg Kbipack Lapack[petsc] MathEx[contrib] Med Mesh Metis[contrib] Mpeg Netgen Nii2mesh ONELAB ONELABMetamodel OpenCASCADE OpenCASCADE-CAF OpenGL OpenMP OptHom PETSc Parser Plugins Png Post QuadMeshingTools QuadTri Solver TetGen/BR TinyXML2[contrib] TouchBar Untangle Voro++[contrib] WinslowUntangler Zlib\n",
      "FLTK version  : 1.4.0\n",
      "PETSc version : 3.17.4 (real arithmtic)\n",
      "OCC version   : 7.7.2\n",
      "MED version   : 4.1.0\n",
      "Packaged by   : geuzaine\n",
      "Web site      : https://gmsh.info\n",
      "Issue tracker : https://gitlab.onelab.info/gmsh/gmsh/issues\n",
      "-------------------------------------------------------\n"
     ]
    }
   ],
   "source": [
    "gmsh.initialize()\n",
    "gmsh.model.add(\"CombinedGeometry\")\n",
    "\n",
    "# Create the gentle arc\n",
    "gentle_arc = get_gentle_arc(center=[0, 0], radius=2.0, angle=10, mesh_size=0.5)\n",
    "\n",
    "# Create the half circle\n",
    "half_circle_loop = create_half_circle(center=[3, 0], radius=1.0, mesh_size=0.5)\n",
    "\n",
    "# Synchronize the model to display all created parts\n",
    "gmsh.model.geo.synchronize()\n",
    "gmsh.fltk.run()\n",
    "gmsh.finalize()"
   ]
  },
  {
   "cell_type": "code",
   "execution_count": 52,
   "metadata": {},
   "outputs": [
    {
     "name": "stderr",
     "output_type": "stream",
     "text": [
      "Warning : Gmsh has aleady been initialized\n"
     ]
    },
    {
     "ename": "AssertionError",
     "evalue": "",
     "output_type": "error",
     "traceback": [
      "\u001b[0;31m---------------------------------------------------------------------------\u001b[0m",
      "\u001b[0;31mAssertionError\u001b[0m                            Traceback (most recent call last)",
      "Cell \u001b[0;32mIn[52], line 22\u001b[0m\n\u001b[1;32m     15\u001b[0m lines \u001b[38;5;241m=\u001b[39m [\n\u001b[1;32m     16\u001b[0m     geom\u001b[38;5;241m.\u001b[39madd_line(points[\u001b[38;5;241m0\u001b[39m], points[\u001b[38;5;241m1\u001b[39m]),\n\u001b[1;32m     17\u001b[0m     geom\u001b[38;5;241m.\u001b[39madd_line(points[\u001b[38;5;241m1\u001b[39m], points[\u001b[38;5;241m2\u001b[39m]),\n\u001b[1;32m     18\u001b[0m     geom\u001b[38;5;241m.\u001b[39madd_line(points[\u001b[38;5;241m2\u001b[39m], points[\u001b[38;5;241m3\u001b[39m])\n\u001b[1;32m     19\u001b[0m ]\n\u001b[1;32m     21\u001b[0m \u001b[38;5;66;03m# Create a curve loop and surface for revolving\u001b[39;00m\n\u001b[0;32m---> 22\u001b[0m curve_loop \u001b[38;5;241m=\u001b[39m \u001b[43mgeom\u001b[49m\u001b[38;5;241;43m.\u001b[39;49m\u001b[43madd_curve_loop\u001b[49m\u001b[43m(\u001b[49m\u001b[43mlines\u001b[49m\u001b[43m)\u001b[49m\n\u001b[1;32m     23\u001b[0m surface \u001b[38;5;241m=\u001b[39m geom\u001b[38;5;241m.\u001b[39madd_plane_surface(curve_loop)\n\u001b[1;32m     25\u001b[0m \u001b[38;5;66;03m# Revolve the surface around the z-axis\u001b[39;00m\n",
      "File \u001b[0;32m~/.pyenv/versions/3.10.6/lib/python3.10/site-packages/pygmsh/common/geometry.py:80\u001b[0m, in \u001b[0;36mCommonGeometry.add_curve_loop\u001b[0;34m(self, *args, **kwargs)\u001b[0m\n\u001b[1;32m     79\u001b[0m \u001b[38;5;28;01mdef\u001b[39;00m \u001b[38;5;21madd_curve_loop\u001b[39m(\u001b[38;5;28mself\u001b[39m, \u001b[38;5;241m*\u001b[39margs, \u001b[38;5;241m*\u001b[39m\u001b[38;5;241m*\u001b[39mkwargs):\n\u001b[0;32m---> 80\u001b[0m     \u001b[38;5;28;01mreturn\u001b[39;00m \u001b[43mCurveLoop\u001b[49m\u001b[43m(\u001b[49m\u001b[38;5;28;43mself\u001b[39;49m\u001b[38;5;241;43m.\u001b[39;49m\u001b[43menv\u001b[49m\u001b[43m,\u001b[49m\u001b[43m \u001b[49m\u001b[38;5;241;43m*\u001b[39;49m\u001b[43margs\u001b[49m\u001b[43m,\u001b[49m\u001b[43m \u001b[49m\u001b[38;5;241;43m*\u001b[39;49m\u001b[38;5;241;43m*\u001b[39;49m\u001b[43mkwargs\u001b[49m\u001b[43m)\u001b[49m\n",
      "File \u001b[0;32m~/.pyenv/versions/3.10.6/lib/python3.10/site-packages/pygmsh/common/curve_loop.py:26\u001b[0m, in \u001b[0;36mCurveLoop.__init__\u001b[0;34m(self, env, curves)\u001b[0m\n\u001b[1;32m     24\u001b[0m \u001b[38;5;28;01mfor\u001b[39;00m k \u001b[38;5;129;01min\u001b[39;00m \u001b[38;5;28mrange\u001b[39m(\u001b[38;5;28mlen\u001b[39m(curves) \u001b[38;5;241m-\u001b[39m \u001b[38;5;241m1\u001b[39m):\n\u001b[1;32m     25\u001b[0m     \u001b[38;5;28;01massert\u001b[39;00m curves[k]\u001b[38;5;241m.\u001b[39mpoints[\u001b[38;5;241m-\u001b[39m\u001b[38;5;241m1\u001b[39m] \u001b[38;5;241m==\u001b[39m curves[k \u001b[38;5;241m+\u001b[39m \u001b[38;5;241m1\u001b[39m]\u001b[38;5;241m.\u001b[39mpoints[\u001b[38;5;241m0\u001b[39m]\n\u001b[0;32m---> 26\u001b[0m \u001b[38;5;28;01massert\u001b[39;00m curves[\u001b[38;5;241m-\u001b[39m\u001b[38;5;241m1\u001b[39m]\u001b[38;5;241m.\u001b[39mpoints[\u001b[38;5;241m-\u001b[39m\u001b[38;5;241m1\u001b[39m] \u001b[38;5;241m==\u001b[39m curves[\u001b[38;5;241m0\u001b[39m]\u001b[38;5;241m.\u001b[39mpoints[\u001b[38;5;241m0\u001b[39m]\n\u001b[1;32m     27\u001b[0m \u001b[38;5;28mself\u001b[39m\u001b[38;5;241m.\u001b[39m_id \u001b[38;5;241m=\u001b[39m env\u001b[38;5;241m.\u001b[39maddCurveLoop([c\u001b[38;5;241m.\u001b[39m_id \u001b[38;5;28;01mfor\u001b[39;00m c \u001b[38;5;129;01min\u001b[39;00m curves])\n\u001b[1;32m     28\u001b[0m \u001b[38;5;28mself\u001b[39m\u001b[38;5;241m.\u001b[39mdim_tag \u001b[38;5;241m=\u001b[39m (\u001b[38;5;241m1\u001b[39m, \u001b[38;5;28mself\u001b[39m\u001b[38;5;241m.\u001b[39m_id)\n",
      "\u001b[0;31mAssertionError\u001b[0m: "
     ]
    }
   ],
   "source": []
  },
  {
   "cell_type": "markdown",
   "metadata": {},
   "source": [
    "https://cadquery.readthedocs.io/en/latest/free-func.html#tutorial<br>\n",
    "https://cadquery.readthedocs.io/en/latest/examples.html"
   ]
  },
  {
   "cell_type": "code",
   "execution_count": 4,
   "metadata": {},
   "outputs": [
    {
     "name": "stdout",
     "output_type": "stream",
     "text": [
      "Python 3.12.6\n"
     ]
    }
   ],
   "source": [
    "!python3 --version"
   ]
  },
  {
   "cell_type": "code",
   "execution_count": 3,
   "metadata": {},
   "outputs": [
    {
     "name": "stdout",
     "output_type": "stream",
     "text": [
      "Defaulting to user installation because normal site-packages is not writeable\n",
      "\u001b[31mERROR: Ignored the following yanked versions: 7.7.2.1\u001b[0m\u001b[31m\n",
      "\u001b[0m\u001b[31mERROR: Could not find a version that satisfies the requirement cadquery-ocp (from versions: none)\u001b[0m\u001b[31m\n",
      "\u001b[0m\u001b[31mERROR: No matching distribution found for cadquery-ocp\u001b[0m\u001b[31m\n",
      "\u001b[0m\n",
      "\u001b[1m[\u001b[0m\u001b[34;49mnotice\u001b[0m\u001b[1;39;49m]\u001b[0m\u001b[39;49m A new release of pip is available: \u001b[0m\u001b[31;49m23.3.1\u001b[0m\u001b[39;49m -> \u001b[0m\u001b[32;49m24.3.1\u001b[0m\n",
      "\u001b[1m[\u001b[0m\u001b[34;49mnotice\u001b[0m\u001b[1;39;49m]\u001b[0m\u001b[39;49m To update, run: \u001b[0m\u001b[32;49m/Library/Developer/CommandLineTools/usr/bin/python3 -m pip install --upgrade pip\u001b[0m\n"
     ]
    },
    {
     "ename": "ModuleNotFoundError",
     "evalue": "No module named 'OCP'",
     "output_type": "error",
     "traceback": [
      "\u001b[0;31m---------------------------------------------------------------------------\u001b[0m",
      "\u001b[0;31mModuleNotFoundError\u001b[0m                       Traceback (most recent call last)",
      "Cell \u001b[0;32mIn[3], line 2\u001b[0m\n\u001b[1;32m      1\u001b[0m get_ipython()\u001b[38;5;241m.\u001b[39msystem(\u001b[38;5;124m'\u001b[39m\u001b[38;5;124mpip install cadquery-ocp cadquery\u001b[39m\u001b[38;5;124m'\u001b[39m)\n\u001b[0;32m----> 2\u001b[0m \u001b[38;5;28;01mimport\u001b[39;00m \u001b[38;5;21;01mcadquery\u001b[39;00m \u001b[38;5;28;01mas\u001b[39;00m \u001b[38;5;21;01mcq\u001b[39;00m\n",
      "File \u001b[0;32m~/Library/Python/3.9/lib/python/site-packages/cadquery/__init__.py:10\u001b[0m\n\u001b[1;32m      7\u001b[0m     __version__ \u001b[38;5;241m=\u001b[39m \u001b[38;5;124m\"\u001b[39m\u001b[38;5;124m2.3.0\u001b[39m\u001b[38;5;124m\"\u001b[39m\n\u001b[1;32m      9\u001b[0m \u001b[38;5;66;03m# these items point to the OCC implementation\u001b[39;00m\n\u001b[0;32m---> 10\u001b[0m \u001b[38;5;28;01mfrom\u001b[39;00m \u001b[38;5;21;01m.\u001b[39;00m\u001b[38;5;21;01mocc_impl\u001b[39;00m\u001b[38;5;21;01m.\u001b[39;00m\u001b[38;5;21;01mgeom\u001b[39;00m \u001b[38;5;28;01mimport\u001b[39;00m Plane, BoundBox, Vector, Matrix, Location\n\u001b[1;32m     11\u001b[0m \u001b[38;5;28;01mfrom\u001b[39;00m \u001b[38;5;21;01m.\u001b[39;00m\u001b[38;5;21;01mocc_impl\u001b[39;00m\u001b[38;5;21;01m.\u001b[39;00m\u001b[38;5;21;01mshapes\u001b[39;00m \u001b[38;5;28;01mimport\u001b[39;00m (\n\u001b[1;32m     12\u001b[0m     Shape,\n\u001b[1;32m     13\u001b[0m     Vertex,\n\u001b[0;32m   (...)\u001b[0m\n\u001b[1;32m     20\u001b[0m     sortWiresByBuildOrder,\n\u001b[1;32m     21\u001b[0m )\n\u001b[1;32m     22\u001b[0m \u001b[38;5;28;01mfrom\u001b[39;00m \u001b[38;5;21;01m.\u001b[39;00m\u001b[38;5;21;01mocc_impl\u001b[39;00m \u001b[38;5;28;01mimport\u001b[39;00m exporters\n",
      "File \u001b[0;32m~/Library/Python/3.9/lib/python/site-packages/cadquery/occ_impl/geom.py:5\u001b[0m\n\u001b[1;32m      1\u001b[0m \u001b[38;5;28;01mimport\u001b[39;00m \u001b[38;5;21;01mmath\u001b[39;00m\n\u001b[1;32m      3\u001b[0m \u001b[38;5;28;01mfrom\u001b[39;00m \u001b[38;5;21;01mtyping\u001b[39;00m \u001b[38;5;28;01mimport\u001b[39;00m overload, Sequence, Union, Tuple, Type, Optional\n\u001b[0;32m----> 5\u001b[0m \u001b[38;5;28;01mfrom\u001b[39;00m \u001b[38;5;21;01mOCP\u001b[39;00m\u001b[38;5;21;01m.\u001b[39;00m\u001b[38;5;21;01mgp\u001b[39;00m \u001b[38;5;28;01mimport\u001b[39;00m (\n\u001b[1;32m      6\u001b[0m     gp_Vec,\n\u001b[1;32m      7\u001b[0m     gp_Ax1,\n\u001b[1;32m      8\u001b[0m     gp_Ax3,\n\u001b[1;32m      9\u001b[0m     gp_Pnt,\n\u001b[1;32m     10\u001b[0m     gp_Dir,\n\u001b[1;32m     11\u001b[0m     gp_Pln,\n\u001b[1;32m     12\u001b[0m     gp_Trsf,\n\u001b[1;32m     13\u001b[0m     gp_GTrsf,\n\u001b[1;32m     14\u001b[0m     gp_XYZ,\n\u001b[1;32m     15\u001b[0m     gp_EulerSequence,\n\u001b[1;32m     16\u001b[0m     gp,\n\u001b[1;32m     17\u001b[0m )\n\u001b[1;32m     18\u001b[0m \u001b[38;5;28;01mfrom\u001b[39;00m \u001b[38;5;21;01mOCP\u001b[39;00m\u001b[38;5;21;01m.\u001b[39;00m\u001b[38;5;21;01mBnd\u001b[39;00m \u001b[38;5;28;01mimport\u001b[39;00m Bnd_Box\n\u001b[1;32m     19\u001b[0m \u001b[38;5;28;01mfrom\u001b[39;00m \u001b[38;5;21;01mOCP\u001b[39;00m\u001b[38;5;21;01m.\u001b[39;00m\u001b[38;5;21;01mBRepBndLib\u001b[39;00m \u001b[38;5;28;01mimport\u001b[39;00m BRepBndLib\n",
      "\u001b[0;31mModuleNotFoundError\u001b[0m: No module named 'OCP'"
     ]
    }
   ],
   "source": [
    "!pip install cadquery-ocp cadquery\n",
    "import cadquery as cq"
   ]
  },
  {
   "cell_type": "markdown",
   "metadata": {},
   "source": [
    "### Sketches\n",
    "Sketches are the basis for 3D models in CAD. A 3D model can be created by extruding an sketch surface or revolving the sketch around an axis.\n",
    "They can also be used to indicate places where holes should be created. On could create a box from an sketch of a rectangle using extrusion. Then create a new sketch in the surface of newly created model and cut through the model using the sketch "
   ]
  },
  {
   "cell_type": "code",
   "execution_count": null,
   "metadata": {},
   "outputs": [],
   "source": []
  },
  {
   "cell_type": "code",
   "execution_count": null,
   "metadata": {},
   "outputs": [],
   "source": []
  },
  {
   "cell_type": "code",
   "execution_count": null,
   "metadata": {},
   "outputs": [],
   "source": []
  }
 ],
 "metadata": {
  "kernelspec": {
   "display_name": "Python 3",
   "language": "python",
   "name": "python3"
  },
  "language_info": {
   "codemirror_mode": {
    "name": "ipython",
    "version": 3
   },
   "file_extension": ".py",
   "mimetype": "text/x-python",
   "name": "python",
   "nbconvert_exporter": "python",
   "pygments_lexer": "ipython3",
   "version": "3.9.20"
  }
 },
 "nbformat": 4,
 "nbformat_minor": 2
}

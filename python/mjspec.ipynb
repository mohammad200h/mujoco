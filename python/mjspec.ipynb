{
  "cells": [
    {
      "cell_type": "markdown",
      "metadata": {
        "id": "klCa_-bdiWv5"
      },
      "source": [
        "![MuJoCo banner](https://raw.githubusercontent.com/google-deepmind/mujoco/main/banner.png)\n",
        "\n",
        "# <h1><center>Model Editing  <a href=\"https://colab.research.google.com/github/google-deepmind/mujoco/blob/main/python/mjspec.ipynb\"><img src=\"https://colab.research.google.com/assets/colab-badge.svg\" width=\"140\" align=\"center\"/></a></center></h1>\n",
        "\n",
        "This notebook provides an introductory tutorial for model editing in MuJoCo using the `mjSpec` API. This notebook assumes that the reader is already familiar with MuJoCo basic concepts, as demostrated in the [introductory tutorial](https://github.com/google-deepmind/mujoco?tab=readme-ov-file#getting-started). Documentation for this API can be found in the [Model Editing](https://mujoco.readthedocs.io/en/latest/programming/modeledit.html) chapter in the documentation (C API) and in the [Python chapter](https://mujoco.readthedocs.io/en/latest/python.html#model-editing). Here we use the Python API.\n",
        "\n",
        "The goal of the API is to allow users to easily interact with and modify MuJoCo\n",
        "models in Python, similarly to what the JavaScript DOM does for HTML.\n",
        "\n",
        "<!-- Copyright 2024 DeepMind Technologies Limited\n",
        "\n",
        "     Licensed under the Apache License, Version 2.0 (the \"License\");\n",
        "     you may not use this file except in compliance with the License.\n",
        "     You may obtain a copy of the License at\n",
        "\n",
        "         http://www.apache.org/licenses/LICENSE-2.0\n",
        "\n",
        "     Unless required by applicable law or agreed to in writing, software\n",
        "     distributed under the License is distributed on an \"AS IS\" BASIS,\n",
        "     WITHOUT WARRANTIES OR CONDITIONS OF ANY KIND, either express or implied.\n",
        "     See the License for the specific language governing permissions and\n",
        "     limitations under the License.\n",
        "-->\n"
      ]
    },
    {
      "cell_type": "markdown",
      "metadata": {
        "id": "sJFuNetilv4m"
      },
      "source": [
        "## All imports"
      ]
    },
    {
      "cell_type": "code",
      "execution_count": null,
      "metadata": {
        "id": "ArmOx3cBDvFR"
      },
      "outputs": [],
      "source": [
        "!pip install mujoco\n",
        "\n",
        "# Set up GPU rendering.\n",
        "from google.colab import files\n",
        "import distutils.util\n",
        "import os\n",
        "import subprocess\n",
        "if subprocess.run('nvidia-smi').returncode:\n",
        "  raise RuntimeError(\n",
        "      'Cannot communicate with GPU. '\n",
        "      'Make sure you are using a GPU Colab runtime. '\n",
        "      'Go to the Runtime menu and select Choose runtime type.')\n",
        "\n",
        "# Add an ICD config so that glvnd can pick up the Nvidia EGL driver.\n",
        "# This is usually installed as part of an Nvidia driver package, but the Colab\n",
        "# kernel doesn't install its driver via APT, and as a result the ICD is missing.\n",
        "# (https://github.com/NVIDIA/libglvnd/blob/master/src/EGL/icd_enumeration.md)\n",
        "NVIDIA_ICD_CONFIG_PATH = '/usr/share/glvnd/egl_vendor.d/10_nvidia.json'\n",
        "if not os.path.exists(NVIDIA_ICD_CONFIG_PATH):\n",
        "  with open(NVIDIA_ICD_CONFIG_PATH, 'w') as f:\n",
        "    f.write(\"\"\"{\n",
        "    \"file_format_version\" : \"1.0.0\",\n",
        "    \"ICD\" : {\n",
        "        \"library_path\" : \"libEGL_nvidia.so.0\"\n",
        "    }\n",
        "}\n",
        "\"\"\")\n",
        "\n",
        "# Configure MuJoCo to use the EGL rendering backend (requires GPU)\n",
        "print('Setting environment variable to use GPU rendering:')\n",
        "%env MUJOCO_GL=egl\n",
        "\n",
        "# Check if installation was succesful.\n",
        "try:\n",
        "  print('Checking that the installation succeeded:')\n",
        "  import mujoco as mj\n",
        "  mj.MjModel.from_xml_string('<mujoco/>')\n",
        "except Exception as e:\n",
        "  raise e from RuntimeError(\n",
        "      'Something went wrong during installation. Check the shell output above '\n",
        "      'for more information.\\n'\n",
        "      'If using a hosted Colab runtime, make sure you enable GPU acceleration '\n",
        "      'by going to the Runtime menu and selecting \"Choose runtime type\".')\n",
        "\n",
        "print('Installation successful.')\n",
        "\n",
        "# Other imports and helper functions\n",
        "import time\n",
        "import itertools\n",
        "import numpy as np\n",
        "import typing\n",
        "import dataclasses\n",
        "import random\n",
        "import math\n",
        "\n",
        "# Graphics and plotting.\n",
        "print('Installing mediapy:')\n",
        "!command -v ffmpeg >/dev/null || (apt update && apt install -y ffmpeg)\n",
        "!pip install -q mediapy\n",
        "import mediapy as media\n",
        "import matplotlib.pyplot as plt\n",
        "\n",
        "# More legible printing from numpy.\n",
        "np.set_printoptions(precision=3, suppress=True, linewidth=100)\n",
        "\n",
        "from IPython.display import clear_output\n",
        "clear_output()\n",
        "\n",
        "from pygments import highlight\n",
        "from pygments.lexers import XmlLexer\n",
        "from pygments.formatters import HtmlFormatter\n",
        "from IPython.core.display import HTML, display\n",
        "\n",
        "def print_xml(xml_string):\n",
        "    formatter = HtmlFormatter(style='lovelace')\n",
        "    highlighted_xml = highlight(xml_string, XmlLexer(), formatter)\n",
        "    display(HTML(f\"<style>{formatter.get_style_defs()}</style>{highlighted_xml}\"))\n",
        "\n",
        "import matplotlib.pyplot as plt\n",
        "import matplotlib.animation as animation\n",
        "\n",
        "def render(model, data=None, height=250):\n",
        "  if data is None:\n",
        "    data = mj.MjData(model)\n",
        "  with mj.Renderer(model, 480, 640) as renderer:\n",
        "    mj.mj_forward(model, data)\n",
        "    renderer.update_scene(data)\n",
        "    media.show_image(renderer.render(), height=height)\n",
        "\n",
        "class Arena:\n",
        "  def __init__(self):\n",
        "    self.spec = mj.MjSpec()\n",
        "    self.model = self.spec.worldbody\n",
        "    self.spec.compiler.degree = False\n",
        "    self.scene_option = mj.MjvOption()\n",
        "\n",
        "    # Make arena with textured floor.\n",
        "    chequered = self.spec.add_texture(\n",
        "        name=\"chequered\", type=mj.mjtTexture.mjTEXTURE_2D,\n",
        "        builtin=mj.mjtBuiltin.mjBUILTIN_CHECKER,\n",
        "        width=300, height=300, rgb1=[.2, .3, .4], rgb2=[.3, .4, .5])\n",
        "    grid = self.spec.add_material(\n",
        "        name='grid', texrepeat=[5, 5], reflectance=.2\n",
        "        ).textures[mj.mjtTextureRole.mjTEXROLE_RGB] = 'chequered'\n",
        "    self.model.add_geom(\n",
        "        type=mj.mjtGeom.mjGEOM_PLANE, size=[2, 2, .1], material='grid')\n",
        "    for x in [-2, 2]:\n",
        "      self.model.add_light(pos=[x, -1, 3], dir=[-x, 1, -2])\n",
        "\n",
        "  def add_tracking_camera(self,body,name=\"eye\",pos=[0,0,1],euler=[0,0,0]):\n",
        "    # camera\n",
        "    self.model.add_camera(name=name,\n",
        "                          mode =mj.mjtCamLight.mjCAMLIGHT_TRACK ,\n",
        "                          targetbody=body,\n",
        "                          pos= pos,\n",
        "                          euler=euler)\n",
        "    return name\n",
        "\n",
        "  def visulize_camera(self):\n",
        "    self.scene_option.flags[mj.mjtVisFlag.mjVIS_CAMERA] = True\n",
        "\n",
        "  def add_movable_asset(self,body,pos=[0,0,0],prefix='_'):\n",
        "    frame = self.model.add_frame(pos=pos)\n",
        "    body = frame.attach_body(body,  prefix,'')\n",
        "    body.add_freejoint()\n",
        "    return body\n",
        "\n",
        "  def add_fixed_asset(self,body,pos=[0,0,0],prefix='_'):\n",
        "    frame = self.model.add_frame(pos=pos)\n",
        "    body = frame.attach_body(body,  prefix,'')\n",
        "    return body\n",
        "\n",
        "  def remove_asset(self,body):\n",
        "    self.spec.detach_body(body)\n",
        "\n",
        "\n",
        "def render_video(robot,movable = False, width = 320, height = 200):\n",
        "  arena = Arena()\n",
        "  if movable:\n",
        "    arena.add_movable_asset(robot_root,[0,0,0.11])\n",
        "  else:\n",
        "    arena.add_fixed_asset(robot_root,[0,0,0.11])\n",
        "\n",
        "  model = arena.spec.compile()\n",
        "  data = mj.MjData(model)\n",
        "  random_state = np.random.RandomState(42)\n",
        "\n",
        "  actuators = [data.bind(actuator) for actuator in arena.spec.actuators]\n",
        "\n",
        "  # Control signal frequency, phase, amplitude.\n",
        "  freq = 5\n",
        "  phase = 2 * np.pi * random_state.rand(len(arena.spec.actuators))\n",
        "  amp = 0.9\n",
        "\n",
        "  # Simulate and display video.\n",
        "  duration = 3    # (seconds)\n",
        "  framerate = 30  # (Hz)\n",
        "  frames = []\n",
        "  mj.mj_resetData(model, data)\n",
        "  with mj.Renderer(model,width= width ,height= height) as renderer:\n",
        "    while data.time < duration:\n",
        "      # Inject controls and step the physics.\n",
        "      for i, actuator in enumerate(actuators):\n",
        "        actuator.ctrl = amp * np.sin(freq * data.time + phase[i])\n",
        "      mj.mj_step(model, data)\n",
        "      if len(frames) < data.time * framerate:\n",
        "        renderer.update_scene(data)\n",
        "        pixels = renderer.render()\n",
        "        frames.append(pixels)\n",
        "\n",
        "  media.show_video(frames, fps=framerate)"
      ]
    },
    {
      "cell_type": "markdown",
      "metadata": {
        "id": "iJRNczuyHbuc"
      },
      "source": [
        "# Parsing XML to `mjSpec` and compiling to `mjModel`\n"
      ]
    },
    {
      "cell_type": "markdown",
      "metadata": {
        "id": "MYPbnl3mxvDj"
      },
      "source": [
        "Unlike `mj_loadXML` which combines parsing and compiling, when using `mjSpec`, parsing and compiling are separate, allowing for editing steps:"
      ]
    },
    {
      "cell_type": "code",
      "execution_count": null,
      "metadata": {
        "id": "oummB7I7EfSq"
      },
      "outputs": [],
      "source": [
        "#@title A static model, from string {vertical-output: true}\n",
        "\n",
        "static_model = \"\"\"\n",
        "<mujoco>\n",
        "  <worldbody>\n",
        "    <light name=\"top\" pos=\"0 0 1\"/>\n",
        "    <geom name=\"red_box\" type=\"box\" size=\".2 .2 .2\" rgba=\"1 0 0 1\"/>\n",
        "    <geom name=\"green_sphere\" pos=\".2 .2 .2\" size=\".1\" rgba=\"0 1 0 1\"/>\n",
        "  </worldbody>\n",
        "</mujoco>\n",
        "\"\"\"\n",
        "spec = mj.MjSpec.from_string(static_model)\n",
        "model = spec.compile()\n",
        "render(model)\n",
        "\n",
        "# Change the mjSpec, re-compile and re-render\n",
        "geoms = spec.worldbody.find_all(mj.mjtObj.mjOBJ_GEOM)\n",
        "geoms[0].name = 'blue_box'\n",
        "geoms[0].rgba = [0, 0, 1, 1]\n",
        "geoms[1].name = 'yellow_sphere'\n",
        "geoms[1].rgba = [1, 1, 0, 1]\n",
        "spec.worldbody.add_geom(name='magenta cylinder',\n",
        "                        type=mj.mjtGeom.mjGEOM_CYLINDER,\n",
        "                        rgba=[1, 0, 1, 1],\n",
        "                        pos=[-.2, 0, .2],\n",
        "                        size=[.1, .1, 0])\n",
        "\n",
        "model = spec.compile()\n",
        "render(model)"
      ]
    },
    {
      "cell_type": "markdown",
      "metadata": {
        "id": "Tw_yUwqxKwCI"
      },
      "source": [
        "`mjSpec` can save XML to string, saving all modifications."
      ]
    },
    {
      "cell_type": "code",
      "execution_count": null,
      "metadata": {
        "id": "_7HAcWqNGwyw"
      },
      "outputs": [],
      "source": [
        "#@title Print an XML from an `mjSpec` {vertical-output: true}\n",
        "\n",
        "print_xml(spec.to_xml())"
      ]
    },
    {
      "cell_type": "code",
      "execution_count": null,
      "metadata": {
        "id": "A6EHNulmFHFI"
      },
      "outputs": [],
      "source": [
        "#@title Building an `mjSpec` from scratch {vertical-output: true}\n",
        "\n",
        "spec = mj.MjSpec()\n",
        "spec.worldbody.add_light(name=\"top\", pos=[0, 0, 1])\n",
        "body = spec.worldbody.add_body(name=\"box_and_sphere\", euler=[0, 0, -30])\n",
        "body.add_joint(name=\"swing\", type=mj.mjtJoint.mjJNT_HINGE,\n",
        "               axis=[1, -1, 0], pos=[-.2, -.2, -.2])\n",
        "body.add_geom(name=\"red_box\", type=mj.mjtGeom.mjGEOM_BOX,\n",
        "              size=[.2, .2, .2], rgba=[1, 0, 0, 1])\n",
        "body.add_geom(name=\"green_sphere\", pos=[.2, .2, .2],\n",
        "              size=[.1, 0, 0], rgba=[0, 1, 0, 1])\n",
        "model = spec.compile()\n",
        "\n",
        "duration = 2    # (seconds)\n",
        "framerate = 30  # (Hz)\n",
        "\n",
        "# enable joint visualization option:\n",
        "scene_option = mj.MjvOption()\n",
        "scene_option.flags[mj.mjtVisFlag.mjVIS_JOINT] = True\n",
        "\n",
        "# Simulate and display video.\n",
        "frames = []\n",
        "data = mj.MjData(model)\n",
        "mj.mj_resetData(model, data)\n",
        "with mj.Renderer(model) as renderer:\n",
        "  while data.time < duration:\n",
        "    mj.mj_step(model, data)\n",
        "    if len(frames) < data.time * framerate:\n",
        "      renderer.update_scene(data, scene_option=scene_option)\n",
        "      pixels = renderer.render()\n",
        "      frames.append(pixels)\n",
        "\n",
        "media.show_video(frames, fps=framerate)\n"
      ]
    },
    {
      "cell_type": "markdown",
      "metadata": {
        "id": "3N4YEIVt75_T"
      },
      "source": [
        "# Control example"
      ]
    },
    {
      "cell_type": "markdown",
      "metadata": {
        "id": "TcQuv56BwaJf"
      },
      "source": [
        "A key feature of this library is the ability to easily attach multiple models into a larger one. Disambiguation of duplicated names from different\n",
        "models, or multiple instances of the same model, is handled via user-defined namespacing.\n",
        "\n",
        "One example use case is when we want robots with a variable number of joints, as is a fundamental change to the kinematic structure. The following snippets realise this scenario."
      ]
    },
    {
      "cell_type": "code",
      "execution_count": null,
      "metadata": {
        "id": "7C-hfbtj8nRV"
      },
      "outputs": [],
      "source": [
        "leg_model = \"\"\"\n",
        "<mujoco>\n",
        "  <compiler angle=\"radian\"/>\n",
        "\n",
        "  <default>\n",
        "    <joint damping=\"2\" type=\"hinge\"/>\n",
        "    <geom type=\"capsule\"/>\n",
        "  </default>\n",
        "\n",
        "  <worldbody>\n",
        "    <body name=\"thigh\">\n",
        "      <joint name=\"hip\" axis=\"0 0 1\"/>\n",
        "      <body name=\"shin\">\n",
        "        <joint name=\"knee\" axis=\"0 1 0\"/>\n",
        "      </body>\n",
        "    </body>\n",
        "  </worldbody>\n",
        "\n",
        "  <actuator>\n",
        "    <position joint=\"hip\" kp=\"10\"/>\n",
        "    <position joint=\"knee\" kp=\"10\"/>\n",
        "  </actuator>\n",
        "</mujoco>\n",
        "\"\"\"\n",
        "\n",
        "class Leg(object):\n",
        "  \"\"\"A 2-DoF leg with position actuators.\"\"\"\n",
        "  def __init__(self, length, rgba):\n",
        "    self.spec = mj.MjSpec.from_string(leg_model)\n",
        "\n",
        "    # Thigh:\n",
        "    thigh = self.spec.find_body('thigh')\n",
        "    thigh.add_geom(fromto=[0, 0, 0, length, 0, 0], size=[length/4, 0, 0], rgba=rgba)\n",
        "\n",
        "    # Hip:\n",
        "    shin = self.spec.find_body('shin')\n",
        "    shin.add_geom(fromto=[0, 0, 0, 0, 0, -length], size=[length/5, 0, 0], rgba=rgba)\n",
        "    shin.pos[0] = length"
      ]
    },
    {
      "cell_type": "markdown",
      "metadata": {
        "id": "MQGsxnIB_RLO"
      },
      "source": [
        "The `Leg` class describes an abstract articulated leg, with two joints and corresponding proportional-derivative actuators.\n",
        "\n",
        "Note that:\n",
        "\n",
        "- MJCF attributes correspond directly to arguments of the `add_()` methods.\n",
        "- When referencing elements, e.g when specifying the joint to which an actuator is attached, the name string of the MJCF elements is used."
      ]
    },
    {
      "cell_type": "code",
      "execution_count": null,
      "metadata": {
        "id": "kMiuMyZW_XoB"
      },
      "outputs": [],
      "source": [
        "BODY_RADIUS = 0.1\n",
        "random_state = np.random.RandomState(42)\n",
        "creature_model = \"\"\"\n",
        "<mujoco>\n",
        "  <compiler angle=\"radian\"/>\n",
        "\n",
        "  <worldbody>\n",
        "    <geom name=\"torso\" type=\"ellipsoid\" size=\"{} {} {}\"/>\n",
        "  </worldbody>\n",
        "</mujoco>\n",
        "\"\"\".format(BODY_RADIUS, BODY_RADIUS, BODY_RADIUS / 2)\n",
        "\n",
        "def make_creature(num_legs):\n",
        "  \"\"\"Constructs a creature with `num_legs` legs.\"\"\"\n",
        "  rgba = random_state.uniform([0, 0, 0, 1], [1, 1, 1, 1])\n",
        "  spec = mj.MjSpec.from_string(creature_model)\n",
        "\n",
        "  # Attach legs to equidistant sites on the circumference.\n",
        "  spec.worldbody.first_geom().rgba = rgba\n",
        "  leg = Leg(length=BODY_RADIUS, rgba=rgba)\n",
        "  for i in range(num_legs):\n",
        "    theta = 2 * i * np.pi / num_legs\n",
        "    hip_pos = BODY_RADIUS * np.array([np.cos(theta), np.sin(theta), 0])\n",
        "    hip_site = spec.worldbody.add_site(pos=hip_pos, euler=[0, 0, theta])\n",
        "    hip_site.attach(leg.spec.find_body('thigh'), '', '-' + str(i))\n",
        "\n",
        "  return spec"
      ]
    },
    {
      "cell_type": "markdown",
      "metadata": {
        "id": "QMQ3jc6-_toj"
      },
      "source": [
        "The `make_creature` function uses the `attach()` method to procedurally attach legs to the torso. Note that at this stage both the torso and hip attachment sites are children of the `worldbody`, since their parent body has yet to be instantiated. We'll now make an arena with a chequered floor and two lights, and place our creatures in a grid."
      ]
    },
    {
      "cell_type": "code",
      "execution_count": null,
      "metadata": {
        "id": "vt2JwXd__1cT"
      },
      "outputs": [],
      "source": [
        "#@title Six Creatures on a floor.{vertical-output: true}\n",
        "\n",
        "arena = mj.MjSpec()\n",
        "\n",
        "if hasattr(arena, 'compiler'):\n",
        "  arena.compiler.degree = False  # MuJoCo dev (next release).\n",
        "else:\n",
        "  arena.degree = False  # MuJoCo release\n",
        "\n",
        "# Make arena with textured floor.\n",
        "chequered = arena.add_texture(\n",
        "    name=\"chequered\", type=mj.mjtTexture.mjTEXTURE_2D,\n",
        "    builtin=mj.mjtBuiltin.mjBUILTIN_CHECKER,\n",
        "    width=300, height=300, rgb1=[.2, .3, .4], rgb2=[.3, .4, .5])\n",
        "grid = arena.add_material(\n",
        "    name='grid', texrepeat=[5, 5], reflectance=.2\n",
        "    ).textures[mj.mjtTextureRole.mjTEXROLE_RGB] = 'chequered'\n",
        "arena.worldbody.add_geom(\n",
        "    type=mj.mjtGeom.mjGEOM_PLANE, size=[2, 2, .1], material='grid')\n",
        "for x in [-2, 2]:\n",
        "  arena.worldbody.add_light(pos=[x, -1, 3], dir=[-x, 1, -2])\n",
        "\n",
        "# Instantiate 6 creatures with 3 to 8 legs.\n",
        "creatures = [make_creature(num_legs=num_legs) for num_legs in range(3, 9)]\n",
        "\n",
        "# Place them on a grid in the arena.\n",
        "height = .15\n",
        "grid = 5 * BODY_RADIUS\n",
        "xpos, ypos, zpos = np.meshgrid([-grid, 0, grid], [0, grid], [height])\n",
        "for i, spec in enumerate(creatures):\n",
        "  # Place spawn sites on a grid.\n",
        "  spawn_pos = (xpos.flat[i], ypos.flat[i], zpos.flat[i])\n",
        "  spawn_site = arena.worldbody.add_site(pos=spawn_pos, group=3)\n",
        "  # Attach to the arena at the spawn sites, with a free joint.\n",
        "  spawn_body = spawn_site.attach(spec.worldbody, '', '-' + str(i))\n",
        "  spawn_body.add_freejoint()\n",
        "\n",
        "# Instantiate the physics and render.\n",
        "model = arena.compile()\n",
        "render(model)"
      ]
    },
    {
      "cell_type": "markdown",
      "metadata": {
        "id": "mPUGkrCzAFMg"
      },
      "source": [
        "Multi-legged creatures, ready to roam! Let's inject some controls and watch them move. We'll generate a sinusoidal open-loop control signal of fixed frequency and random phase, recording both video frames and the horizontal positions of the torso geoms, in order to plot the movement trajectories."
      ]
    },
    {
      "cell_type": "code",
      "execution_count": null,
      "metadata": {
        "id": "7gz9FfNzGxPO"
      },
      "outputs": [],
      "source": [
        "#@title Video of the movement{vertical-output: true}\n",
        "\n",
        "data = mj.MjData(model)\n",
        "duration = 10   # (Seconds)\n",
        "framerate = 30  # (Hz)\n",
        "video = []\n",
        "pos_x = []\n",
        "pos_y = []\n",
        "geoms = arena.worldbody.find_all(mj.mjtObj.mjOBJ_GEOM)\n",
        "torsos_data = [data.bind(geom) for geom in geoms if 'torso' in geom.name]\n",
        "torsos_model = [model.bind(geom) for geom in geoms if 'torso' in geom.name]\n",
        "actuators = [data.bind(actuator) for actuator in arena.actuators]\n",
        "\n",
        "# Control signal frequency, phase, amplitude.\n",
        "freq = 5\n",
        "phase = 2 * np.pi * random_state.rand(len(arena.actuators))\n",
        "amp = 0.9\n",
        "\n",
        "# Simulate, saving video frames and torso locations.\n",
        "mj.mj_resetData(model, data)\n",
        "with mj.Renderer(model) as renderer:\n",
        "  while data.time < duration:\n",
        "    # Inject controls and step the physics.\n",
        "    for i, actuator in enumerate(actuators):\n",
        "      actuator.ctrl = amp * np.sin(freq * data.time + phase[i])\n",
        "    mj.mj_step(model, data)\n",
        "\n",
        "    # Save torso horizontal positions using name indexing.\n",
        "    pos_x.append([torso.xpos[0] for torso in torsos_data])\n",
        "    pos_y.append([torso.xpos[1] for torso in torsos_data])\n",
        "\n",
        "    # Save video frames.\n",
        "    if len(video) < data.time * framerate:\n",
        "      renderer.update_scene(data)\n",
        "      pixels = renderer.render()\n",
        "      video.append(pixels.copy())\n",
        "\n",
        "media.show_video(video, fps=framerate)"
      ]
    },
    {
      "cell_type": "code",
      "execution_count": null,
      "metadata": {
        "id": "qt2L52e_Tcgt"
      },
      "outputs": [],
      "source": [
        "#@title Movement trajectories{vertical-output: true}\n",
        "\n",
        "creature_colors = model.geom_rgba[torsos][:, :3]\n",
        "fig, ax = plt.subplots(figsize=(4, 4))\n",
        "ax.set_prop_cycle(color=creature_colors)\n",
        "_ = ax.plot(pos_x, pos_y, linewidth=4)"
      ]
    },
    {
      "cell_type": "markdown",
      "metadata": {
        "id": "kSEUoxifxYJ4"
      },
      "source": [
        "The plot above shows the corresponding movement trajectories of creature positions. Note how `mjSpec` attribute `id` were used to access both `xpos` and `rgba` values. This attribute is valid only after a model is compiled."
      ]
    },
    {
      "cell_type": "markdown",
      "metadata": {
        "id": "QZ8alJZz8cB1"
      },
      "source": [
        "# Model editing"
      ]
    },
    {
      "cell_type": "markdown",
      "source": [
        "First we need to download models from mujoco_menagerie"
      ],
      "metadata": {
        "id": "tOqohQC6w6K4"
      }
    },
    {
      "cell_type": "code",
      "source": [
        "# Get MuJoCo's humanoid model and a Franka arm from the MuJoCo Menagerie.\n",
        "print('Getting MuJoCo humanoid XML description from GitHub:')\n",
        "!git clone https://github.com/google-deepmind/mujoco\n",
        "humanoid_file = 'mujoco/model/humanoid/humanoid.xml'\n",
        "humanoid100_file = 'mujoco/model/humanoid/humanoid100.xml'\n",
        "print('Getting MuJoCo Menagerie Franka XML description from GitHub:')\n",
        "!git clone https://github.com/google-deepmind/mujoco_menagerie\n",
        "franka_file = 'mujoco_menagerie/franka_fr3/fr3.xml'"
      ],
      "metadata": {
        "id": "nWjeITkWw5NX"
      },
      "execution_count": null,
      "outputs": []
    },
    {
      "cell_type": "markdown",
      "metadata": {
        "id": "JN3Z4v0PyXKa"
      },
      "source": [
        "`mjSpec` elements can be traversed in two ways:\n",
        "- For all other elements, we provide a list. https://mujoco.readthedocs.io/en/latest/python.html#element-lists\n",
        "- For elements inside the kinematic tree, the tree can be traversed using the `first` and `next` functions.\n",
        "\n",
        "\n"
      ]
    },
    {
      "cell_type": "code",
      "execution_count": null,
      "metadata": {
        "id": "8IcB7nezblyT"
      },
      "outputs": [],
      "source": [
        "#@title Traversing the spec.{vertical-output: true}\n",
        "\n",
        "spec = mj.MjSpec.from_file(humanoid_file)\n",
        "\n",
        "print(\"The spec has the following actuators:\")\n",
        "for actuator in spec.actuators:\n",
        "  print(actuator.name)\n",
        "\n",
        "# Function that recursively prints all body names\n",
        "def print_bodies(parent, level=0):\n",
        "  body = parent.first_body()\n",
        "  while body:\n",
        "    print(''.join(['-' for i in range(level)]) + body.name)\n",
        "    print_bodies(body, level + 1)\n",
        "    body = parent.next_body(body)\n",
        "\n",
        "print(\"\\nThe spec has the following bodies:\")\n",
        "print_bodies(spec.worldbody)"
      ]
    },
    {
      "cell_type": "markdown",
      "metadata": {
        "id": "hcGI4orhyzvc"
      },
      "source": [
        "An `mjSpec` can be compiled multiple times. If the state has to be preserved between different compilations, then the function `recompile()` must be used, which returns a new `mjData` that contains the mapped state, possibly having a different dimension from the origin."
      ]
    },
    {
      "cell_type": "code",
      "execution_count": null,
      "metadata": {
        "id": "uh_N1Fkqk-Mi"
      },
      "outputs": [],
      "source": [
        "#@title Model re-compilation with state preservation.{vertical-output: true}\n",
        "\n",
        "spec = mj.MjSpec.from_file(humanoid100_file)\n",
        "model = spec.compile()\n",
        "data = mj.MjData(model)\n",
        "\n",
        "# Run for 5 seconds\n",
        "for i in range(1000):\n",
        "  mj.mj_step(model, data)\n",
        "\n",
        "# Show result\n",
        "render(model, data)\n",
        "\n",
        "# Create list of all bodies we want to delete\n",
        "body = spec.worldbody.first_body()\n",
        "delete_list = []\n",
        "while body:\n",
        "  geom_type = body.first_geom().type\n",
        "  if (geom_type == mj.mjtGeom.mjGEOM_BOX or\n",
        "      geom_type == mj.mjtGeom.mjGEOM_ELLIPSOID):\n",
        "    delete_list.append(body)\n",
        "  body = spec.worldbody.next_body(body)\n",
        "\n",
        "# Remove all bodies in the list from the spec\n",
        "for body in delete_list:\n",
        "  spec.detach_body(body)\n",
        "\n",
        "# # Add another humanoid\n",
        "spec_humanoid = mj.MjSpec.from_file(humanoid_file)\n",
        "attachment_frame = spec.worldbody.add_frame(pos=[0, -1, 1])\n",
        "attachment_frame.attach_body(spec_humanoid.find_body('torso'), 'a', 'b')\n",
        "\n",
        "# Recompile preserving the state\n",
        "new_model, new_data = spec.recompile(model, data)\n",
        "\n",
        "# Show result\n",
        "render(new_model, new_data)"
      ]
    },
    {
      "cell_type": "markdown",
      "metadata": {
        "id": "XmSlXirVzLqt"
      },
      "source": [
        "Let us load the humanoid model and inspect it."
      ]
    },
    {
      "cell_type": "code",
      "execution_count": null,
      "metadata": {
        "id": "UywMzsp5Hnk2"
      },
      "outputs": [],
      "source": [
        "#@title Humanoid model.{vertical-output: true}\n",
        "\n",
        "spec = mj.MjSpec.from_file(humanoid_file)\n",
        "\n",
        "model = spec.compile()\n",
        "render(model)"
      ]
    },
    {
      "cell_type": "markdown",
      "metadata": {
        "id": "owcmKeuSzQRy"
      },
      "source": [
        "We wish to remove the arms and replace them with the legs. This can be done by first storing the arm positions into frames attaches to the torso. Then we can detach the arms and self-attach the legs into the frames."
      ]
    },
    {
      "cell_type": "code",
      "execution_count": null,
      "metadata": {
        "id": "qZCyv-B0IGiG"
      },
      "outputs": [],
      "source": [
        "#@title Humanoid with arms replaced by legs.{vertical-output: true}\n",
        "\n",
        "spec = mj.MjSpec.from_file(humanoid_file)\n",
        "\n",
        "# Get the torso, arm, and leg bodies\n",
        "arm_left = spec.find_body('upper_arm_left')\n",
        "arm_right = spec.find_body('upper_arm_right')\n",
        "leg_left = spec.find_body('thigh_left')\n",
        "leg_right = spec.find_body('thigh_right')\n",
        "torso = spec.find_body('torso')\n",
        "\n",
        "# Attach frames at the arm positions\n",
        "shoulder_left = torso.add_frame(pos=arm_left.pos)\n",
        "shoulder_right = torso.add_frame(pos=arm_right.pos)\n",
        "\n",
        "# Remove the arms\n",
        "spec.detach_body(arm_left)\n",
        "spec.detach_body(arm_right)\n",
        "\n",
        "# Add new legs\n",
        "shoulder_left.attach_body(leg_left, 'shoulder', 'left')\n",
        "shoulder_right.attach_body(leg_right, 'shoulder', 'right')\n",
        "\n",
        "model = spec.compile()\n",
        "render(model, height=400)"
      ]
    },
    {
      "cell_type": "markdown",
      "metadata": {
        "id": "LnEwEjW3zdua"
      },
      "source": [
        "Similarly, different models can be attach together. Here, the right arm is detached and a robot arm from a different model is attached in its place."
      ]
    },
    {
      "cell_type": "code",
      "execution_count": null,
      "metadata": {
        "id": "w-NdFhSIIrLL"
      },
      "outputs": [],
      "source": [
        "#@title Humanoid with Franka arm.{vertical-output: true}\n",
        "\n",
        "spec = mj.MjSpec.from_file(humanoid_file)\n",
        "franka = mj.MjSpec.from_file(franka_file)\n",
        "\n",
        "if hasattr(spec, 'compiler'):\n",
        "  spec.compiler.degree = False  # MuJoCo dev (next release).\n",
        "else:\n",
        "  spec.degree = False  # MuJoCo release\n",
        "\n",
        "# Replace right arm with frame\n",
        "arm_right = spec.find_body('upper_arm_right')\n",
        "torso = spec.find_body('torso')\n",
        "shoulder_right = torso.add_frame(pos=arm_right.pos, quat=[0, 0.8509035, 0, 0.525322])\n",
        "spec.detach_body(arm_right)\n",
        "\n",
        "# Attach Franka arm to humanoid\n",
        "franka_arm = franka.find_body('fr3_link2')\n",
        "shoulder_right.attach_body(franka_arm, 'franka', '')\n",
        "\n",
        "model = spec.compile()\n",
        "render(model, height=400)"
      ]
    },
    {
      "cell_type": "markdown",
      "metadata": {
        "id": "e_idaggAznXu"
      },
      "source": [
        "When doing this, the actuators and all other objects referenced by the attached sub-tree are imported in the new model. All assets are currently imported, referenced or not."
      ]
    },
    {
      "cell_type": "code",
      "execution_count": null,
      "metadata": {
        "id": "50lOgJ7mQ2bV"
      },
      "outputs": [],
      "source": [
        "#@title Imported actuators.{vertical-output: true}\n",
        "\n",
        "for actuator in spec.actuators:\n",
        "  print(actuator.name)"
      ]
    },
    {
      "cell_type": "markdown",
      "metadata": {
        "id": "APDoWK4mz0aJ"
      },
      "source": [
        "Domain randomization can be performed by attaching multiple times the same spec, edited each time with a new instance of randomized parameters."
      ]
    },
    {
      "cell_type": "code",
      "execution_count": null,
      "metadata": {
        "id": "oHjdgkISNLKy"
      },
      "outputs": [],
      "source": [
        "#@title Humanoid with randomized heads and arm poses.{vertical-output: true}\n",
        "\n",
        "humanoid = mj.MjSpec.from_file(humanoid_file)\n",
        "spec = mj.MjSpec()\n",
        "\n",
        "# Delete all key frames to avoid name conflicts\n",
        "while humanoid.keys:\n",
        "  humanoid.keys[-1].delete()\n",
        "\n",
        "# Create a grid of humanoids by attaching humanoid to spec multiple times\n",
        "for i in range(4):\n",
        "  for j in range(4):\n",
        "    humanoid.materials[0].rgba = [\n",
        "        np.random.uniform(), np.random.uniform(),\n",
        "        np.random.uniform(), 1]  # Randomize color\n",
        "    humanoid.find_body('head').first_geom().size = [\n",
        "        .18*np.random.uniform(), 0, 0]  # Randomize head size\n",
        "    humanoid.find_body('upper_arm_left').quat = [\n",
        "        np.random.uniform(), np.random.uniform(),\n",
        "        np.random.uniform(), np.random.uniform()]  # Randomize left arm orientation\n",
        "    humanoid.find_body('upper_arm_right').quat = [\n",
        "        np.random.uniform(), np.random.uniform(),\n",
        "        np.random.uniform(), np.random.uniform()]  # Randomize right arm orientation\n",
        "\n",
        "    # attach randomized humanoid to parent spec\n",
        "    frame = spec.worldbody.add_frame(pos=[i, j, 0])\n",
        "    frame.attach_body(humanoid.find_body('torso'), str(i), str(j))\n",
        "\n",
        "spec.worldbody.add_light(mode=mj.mjtCamLight.mjCAMLIGHT_TARGETBODYCOM,\n",
        "                         targetbody='3torso3', diffuse=[.8, .8, .8],\n",
        "                         specular=[0.3, 0.3, 0.3], pos=[0, -6, 4], cutoff=30)\n",
        "model = spec.compile()\n",
        "render(model, height=400)"
      ]
    },
    {
      "cell_type": "markdown",
      "source": [
        "# Pure Models with `mjspec`\n",
        "\n",
        "A robot operates within an environment. We refer to this environment as the Arena. To add versatility to the environment, we should be able to add or remove things from the environment. To enable these functionalities in the Arena, we will use mjspec's attach, detach, and frame functionalities.\n",
        "\n"
      ],
      "metadata": {
        "id": "FFAz_uclIfVh"
      }
    },
    {
      "cell_type": "markdown",
      "source": [
        "## Creating a Robot\n",
        "Next, we will look at how to assemble a robot. We are going to create a quadruped with four identical legs. The leg model has three parts: the robot tree structure, actuation, and sensors."
      ],
      "metadata": {
        "id": "vShBTVo2MVlf"
      }
    },
    {
      "cell_type": "code",
      "source": [
        "def leg_model():\n",
        "  spec = mj.MjSpec()\n",
        "  spec.compiler.degree = False\n",
        "\n",
        "  spec.add_material(name = \"yellow\", rgba = [1,1,0,1])\n",
        "\n",
        "  # defaults for joint and geom\n",
        "  main = spec.default()\n",
        "  main.joint.damping = 10\n",
        "  main.geom.material = \"yellow\"\n",
        "  main.geom.type = mj.mjtGeom.mjGEOM_CAPSULE\n",
        "  main.geom.mass = 1\n",
        "\n",
        "  root = spec.worldbody\n",
        "  body = root\n",
        "  angle, length, radius = 0, 0.1, 0.03\n",
        "  fromto = [\n",
        "    [0]*3 + [length] + [0]*2,\n",
        "    [0]*5 + [-length]\n",
        "  ]\n",
        "  j_axis = [[0, 0, 1],[0, 1, 0]]\n",
        "  # tree\n",
        "  for i in range(2):\n",
        "    body = body.add_body(name = \"l\" + str(i), pos = [length*i, 0, 0])\n",
        "    body.add_geom(fromto = fromto[i], size = [length/4, 0, 0])\n",
        "    body.add_joint(name = \"j\" + str(i), axis= j_axis[i])\n",
        "  body.add_site(name = \"feet\", pos = [0,0, -(length + radius)])\n",
        "\n",
        "  # defaults for position actuation\n",
        "  kp = 10\n",
        "  main.actuator.trntype = mj.mjtTrn.mjTRN_JOINT\n",
        "  main.actuator.gaintype = mj.mjtGain.mjGAIN_FIXED\n",
        "  main.actuator.biastype = mj.mjtBias.mjBIAS_AFFINE\n",
        "  main.actuator.gainprm[0] =  kp\n",
        "  main.actuator.biasprm[1] = -kp\n",
        "\n",
        "  # actuators\n",
        "  for i in range(2):\n",
        "    spec.add_actuator(name = \"act\" + str(i),\n",
        "                       target = \"j\" + str(i))\n",
        "  # joint sensor\n",
        "  spec.add_sensor(name = \"j0_sensor\",\n",
        "                  objname = \"j0\",\n",
        "                  type = mj.mjtSensor.mjSENS_JOINTPOS,\n",
        "                  objtype = mj.mjtObj.mjOBJ_JOINT\n",
        "                )\n",
        "  # force sensor\n",
        "  spec.add_sensor(name = \"force_sensor\",\n",
        "                  objname = \"feet\",\n",
        "                  type = mj.mjtSensor.mjSENS_FORCE,\n",
        "                  objtype = mj.mjtObj.mjOBJ_SITE\n",
        "                )\n",
        "\n",
        "  return root ,spec"
      ],
      "metadata": {
        "id": "zh-YigtROdpE"
      },
      "execution_count": null,
      "outputs": []
    },
    {
      "cell_type": "code",
      "source": [
        "_, spec = leg_model()\n",
        "model = spec.compile()\n",
        "print_xml(spec.to_xml())"
      ],
      "metadata": {
        "id": "gRdLegMJO2V8"
      },
      "execution_count": null,
      "outputs": []
    },
    {
      "cell_type": "markdown",
      "source": [
        "Lets add this model to arena, give it some motor command and look at joint sensor value."
      ],
      "metadata": {
        "id": "vJpIVvuGPtgo"
      }
    },
    {
      "cell_type": "code",
      "source": [
        "arena = Arena()\n",
        "robot_root, _ = leg_model()\n",
        "arena.add_fixed_asset(robot_root,[0,0,0.11])\n",
        "model = arena.spec.compile()\n",
        "data = mj.MjData(model)\n",
        "\n",
        "random_state = np.random.RandomState(42)\n",
        "\n",
        "print_xml(arena.spec.to_xml())\n",
        "\n",
        "actuators = [data.bind(actuator) for actuator in arena.spec.actuators]\n",
        "sensors = [data.bind(sensor) for sensor in arena.spec.sensors]\n",
        "sensors = dict(zip(\n",
        "    [sensor.name for sensor in arena.spec.sensors],\n",
        "    [i for i, _ in enumerate(sensors)]\n",
        "))\n",
        "\n",
        "print(f\"Sensors: {sensors}\")\n",
        "\n",
        "# Control signal frequency, phase, amplitude.\n",
        "freq = 5\n",
        "phase = 2 * np.pi * random_state.rand(len(arena.spec.actuators))\n",
        "amp = 0.9\n",
        "\n",
        "# Simulate and display video.\n",
        "duration = 3    # (seconds)\n",
        "framerate = 30  # (Hz)\n",
        "frames = []\n",
        "hip_jpos = []\n",
        "\n",
        "mj.mj_resetData(model, data)\n",
        "with mj.Renderer(model) as renderer:\n",
        "  while data.time < duration:\n",
        "    # Inject controls and step the physics.\n",
        "    for i, actuator in enumerate(actuators):\n",
        "      actuator.ctrl = amp * np.sin(freq * data.time + phase[i])\n",
        "    mj.mj_step(model, data)\n",
        "    if len(frames) < data.time * framerate:\n",
        "      renderer.update_scene(data)\n",
        "      pixels = renderer.render()\n",
        "      frames.append(pixels)\n",
        "      hip_jpos.append(data.sensordata[sensors['_j0_sensor']])\n",
        "\n",
        "media.show_video(frames, fps=framerate)\n",
        "\n",
        "fig, ax = plt.subplots(figsize=(4, 2))\n",
        "_ = ax.plot( range(len(hip_jpos)),hip_jpos, linewidth=1)\n",
        "ax.set_ylabel('hip joint position')\n",
        "\n"
      ],
      "metadata": {
        "id": "P4TMqWYGhOYv"
      },
      "execution_count": null,
      "outputs": []
    },
    {
      "cell_type": "markdown",
      "source": [
        "## Component Reusablity\n",
        "Here, we illustrate component reusability by creating a quadruped using the leg component."
      ],
      "metadata": {
        "id": "x3Zpv-C25I0W"
      }
    },
    {
      "cell_type": "code",
      "source": [
        "def quadruped_model():\n",
        "  spec = mj.MjSpec()\n",
        "  spec.compiler.degree = False\n",
        "  spec.add_material(name = \"yellow\", rgba = [1, 1, 0, 1])\n",
        "\n",
        "  root = spec.worldbody\n",
        "  l_root, _ = leg_model()\n",
        "\n",
        "  body = root.add_body(name = \"torso\")\n",
        "\n",
        "  radius = 0.1\n",
        "  body.add_geom(size = [radius] * 2+[radius / 2],\n",
        "                material = \"yellow\",\n",
        "                type = mj.mjtGeom.mjGEOM_ELLIPSOID\n",
        "                )\n",
        "  #legs\n",
        "  for i in range(4):\n",
        "    theta = 2 * i * np.pi / 4\n",
        "    hip_pos = radius * np.array([np.cos(theta), np.sin(theta), 0])\n",
        "    frame = body.add_frame(pos = hip_pos,euler = [0,0,theta])\n",
        "    frame.attach_body(l_root, '', 'leg' + str(i))\n",
        "\n",
        "  return root, spec"
      ],
      "metadata": {
        "id": "LFDZMnXdyBLC"
      },
      "execution_count": null,
      "outputs": []
    },
    {
      "cell_type": "markdown",
      "source": [
        "Lets see the robot move around!"
      ],
      "metadata": {
        "id": "OHyX9dvT9jQS"
      }
    },
    {
      "cell_type": "code",
      "source": [
        "robot_root, _ = quadruped_model()\n",
        "render_video(robot_root,movable = True)"
      ],
      "metadata": {
        "id": "8Shz7-Om9h6l"
      },
      "execution_count": null,
      "outputs": []
    },
    {
      "cell_type": "markdown",
      "source": [
        "## Closed Loop Kinematic and Contact Exclusion\n",
        "Here, we are going to create a simplified [hexapod](https://www.youtube.com/watch?v=xiECumcaEx0) to illustrate how to use an equality constraint. The tree-like structure of the hexapod leads to closed-loop kinematics. Therefore, we need to replace two of the joints with equality constraints. We start by creating the LinearArm that actuates the hexapod."
      ],
      "metadata": {
        "id": "uBJmeBD_-S_b"
      }
    },
    {
      "cell_type": "code",
      "source": [
        "def linear_arm_model():\n",
        "  spec = mj.MjSpec()\n",
        "  spec.compiler.degree = False\n",
        "\n",
        "  main = spec.default()\n",
        "  main.geom.type = mj.mjtGeom.mjGEOM_CAPSULE\n",
        "  main.geom.mass = 1\n",
        "\n",
        "  kp = 200\n",
        "  main.actuator.trntype = mj.mjtTrn.mjTRN_JOINT\n",
        "  main.actuator.gaintype = mj.mjtGain.mjGAIN_FIXED\n",
        "  main.actuator.biastype = mj.mjtBias.mjBIAS_AFFINE\n",
        "  main.actuator.gainprm[0] =  kp\n",
        "  main.actuator.biasprm[1] = -kp\n",
        "\n",
        "\n",
        "  root = spec.worldbody\n",
        "  body = root\n",
        "\n",
        "  length, radius = 0.1, 0.03\n",
        "  fromto = [[0]*5+[length], [0]*5+[length*2]]\n",
        "  rgba = [[1,1,0,1], [1.0, 0.5, 0.0, 1.0]]\n",
        "  j_axis = [[1,0,0],[0,0,1]]\n",
        "  j_type = [mj.mjtJoint.mjJNT_HINGE, mj.mjtJoint.mjJNT_SLIDE]\n",
        "  j_range = [[-1,1],[0,0.05]]\n",
        "  # tree\n",
        "  for i in range(2):\n",
        "    body = body.add_body(name = \"l\"+str(i),pos = [0,0,length/2*i])\n",
        "    body.add_geom(fromto = fromto[i],\n",
        "                  size = [radius+(1e-4)*i,0,0],\n",
        "                  rgba = rgba[i]\n",
        "                  )\n",
        "    body.add_joint(name = \"j\"+str(i),\n",
        "                   axis = j_axis[i],\n",
        "                   type = j_type[i],\n",
        "                   range = j_range[i]\n",
        "                   )\n",
        "  body.add_site(name=\"arm_site\",pos=[0,0,length*2+radius])\n",
        "\n",
        "  #actuator\n",
        "  spec.add_actuator(name=\"act\",target=\"j1\")\n",
        "\n",
        "  return root, spec"
      ],
      "metadata": {
        "id": "LcP8u8yO8t7G"
      },
      "execution_count": null,
      "outputs": []
    },
    {
      "cell_type": "markdown",
      "source": [
        "Let see the robot move around! <br>\n",
        "TODO: Visulization -> Activate wireframe activate joint activate activate site."
      ],
      "metadata": {
        "id": "l3QfokPNDv1S"
      }
    },
    {
      "cell_type": "code",
      "source": [
        "\n",
        "robot_root, _ = linear_arm_model()\n",
        "render_video(robot_root)"
      ],
      "metadata": {
        "id": "5-avAt42_6jE"
      },
      "execution_count": null,
      "outputs": []
    },
    {
      "cell_type": "markdown",
      "source": [
        "Here we will use LinearArm to create the Hexapod. We will illusterate Hexopod openchain, With three equality constraint and with one joint and two equality constraint. In addition we show who to exclude contact between bodies."
      ],
      "metadata": {
        "id": "1ys1vYlUANJa"
      }
    },
    {
      "cell_type": "code",
      "source": [
        "def make_hexapod(equality3 = False,equality2 = False,\n",
        "                 exclude_contact = False):\n",
        "  spec = mj.MjSpec()\n",
        "  spec.compiler.degree = False\n",
        "  root = spec.worldbody\n",
        "  arm_model ,_ = linear_arm_model()\n",
        "\n",
        "  l_arm,r_arm = 0.1 , 0.03\n",
        "  radius = 0.1\n",
        "\n",
        "  #base\n",
        "  base = root.add_body(name=\"base\")\n",
        "  base.add_geom(size=[radius]*2+[radius/2],\n",
        "                type = mj.mjtGeom.mjGEOM_ELLIPSOID\n",
        "                )\n",
        "  arms = []\n",
        "  for i in range(3):\n",
        "    theta = 2 * i * np.pi / 3\n",
        "    pos = radius * np.array([np.cos(theta), np.sin(theta), 0])\n",
        "    frame = base.add_frame(pos = pos,euler = [0,0,theta])\n",
        "    arm = frame.attach_body(arm_model,\"arm\" + str(i), '')\n",
        "    arms.append(arm)\n",
        "\n",
        "\n",
        "  top = None\n",
        "  if equality3:\n",
        "    # creating top panel\n",
        "    top = root.add_body(name=\"top\",pos=[0,0,(l_arm+r_arm)*2])\n",
        "    top.add_geom(size=[radius]*2+[radius/2],\n",
        "                type = mj.mjtGeom.mjGEOM_ELLIPSOID\n",
        "                )\n",
        "    # adding sites to top panel\n",
        "    # and adding 3 equality constraints\n",
        "    for i in range(3):\n",
        "      theta = 2 * i * np.pi / 3\n",
        "      site_pos = radius * np.array([np.cos(theta), np.sin(theta), 0])\n",
        "      top_site = top.add_site(pos=site_pos,name=\"top_site\"+str(i),\n",
        "                              euler=[0,0,theta])\n",
        "      l2 = arms[i].bodies[0].bodies[0]\n",
        "      l2_site = l2.sites[0]\n",
        "      spec.add_equality(objtype=mj.mjtObj.mjOBJ_SITE,\n",
        "                        name1=top_site.name,\n",
        "                        name2=l2_site.name\n",
        "                        )\n",
        "\n",
        "  if equality2:\n",
        "    arm_0_l1 = arms[0].bodies[0].bodies[0]\n",
        "    top = arm_0_l1.add_body(name=\"top\",pos=[-radius,0,2*(l_arm)+r_arm])\n",
        "    top.add_geom(size=[radius]*2+[radius/2],\n",
        "                type = mj.mjtGeom.mjGEOM_ELLIPSOID\n",
        "                )\n",
        "    # adding one joint\n",
        "    top.add_joint(\n",
        "      type = mj.mjtJoint.mjJNT_BALL,\n",
        "      pos = [radius,0,0]\n",
        "    )\n",
        "    # adding sites to top panel\n",
        "    # and adding 2 equality constraints\n",
        "    for i in range(1,3):\n",
        "      theta = 2 * i * np.pi / 3\n",
        "      site_pos = radius * np.array([np.cos(theta), np.sin(theta), 0])\n",
        "      top_site = top.add_site(pos=site_pos,name=\"top_site\"+str(i),\n",
        "                              euler=[0,0,theta])\n",
        "      l2 = arms[i].bodies[0].bodies[0]\n",
        "      l2_site = l2.sites[0]\n",
        "      spec.add_equality(objtype=mj.mjtObj.mjOBJ_SITE,\n",
        "                        name1=top_site.name,\n",
        "                        name2=l2_site.name\n",
        "                        )\n",
        "\n",
        "  if exclude_contact:\n",
        "    for i in range(3):\n",
        "      l0 = arms[i].bodies[0]\n",
        "      l1 = l0.bodies[0]\n",
        "      # removing contact between l0 and l1 with base\n",
        "      spec.add_exclude(bodyname1=base.name,bodyname2=l0.name)\n",
        "      spec.add_exclude(bodyname1=base.name,bodyname2=l1.name)\n",
        "      # removing contact between l1 and top\n",
        "      spec.add_exclude(bodyname1=top.name,bodyname2=l1.name)\n",
        "\n",
        "\n",
        "  return root, spec, top"
      ],
      "metadata": {
        "id": "QgG7Zhkk_7y8"
      },
      "execution_count": null,
      "outputs": []
    },
    {
      "cell_type": "markdown",
      "source": [
        "open chain"
      ],
      "metadata": {
        "id": "C8Z3X0iuTnoE"
      }
    },
    {
      "cell_type": "code",
      "source": [
        " robot_root, _, _ = make_hexapod()\n",
        " render_video(robot_root)"
      ],
      "metadata": {
        "id": "apewdK2IA4Re"
      },
      "execution_count": null,
      "outputs": []
    },
    {
      "cell_type": "markdown",
      "source": [
        "3 eqaulity"
      ],
      "metadata": {
        "id": "wCpW__IYTqMP"
      }
    },
    {
      "cell_type": "code",
      "source": [
        " robot_root, _, _ = make_hexapod(equality3 = True)\n",
        " render_video(robot_root)"
      ],
      "metadata": {
        "id": "MneSd5tvUApr"
      },
      "execution_count": null,
      "outputs": []
    },
    {
      "cell_type": "markdown",
      "source": [
        "2 equality and a joint"
      ],
      "metadata": {
        "id": "WVjp3vIgTsaQ"
      }
    },
    {
      "cell_type": "code",
      "source": [
        " robot_root, _, _ = make_hexapod(equality2 = True)\n",
        " render_video(robot_root)"
      ],
      "metadata": {
        "id": "pSasilEQUFtF"
      },
      "execution_count": null,
      "outputs": []
    },
    {
      "cell_type": "markdown",
      "source": [
        "exclude collision"
      ],
      "metadata": {
        "id": "B7hN98krTvap"
      }
    },
    {
      "cell_type": "code",
      "source": [
        " robot_root, _, _ = make_hexapod(equality2 = True,exclude_contact=True)\n",
        " render_video(robot_root)"
      ],
      "metadata": {
        "id": "qhUX03PMUJVZ"
      },
      "execution_count": null,
      "outputs": []
    },
    {
      "cell_type": "markdown",
      "source": [
        "## Tendons\n",
        "\n",
        "Mujoco allows for two types of tendons: fixed and spatial tendons. We start by creating the tree-like structure of the robot. Then, we look at how to make use of fixed tendons. Finally, we make further modifications to the tree structure of the robot to define routes for spatial tendons."
      ],
      "metadata": {
        "id": "bq4lG34-yXli"
      }
    },
    {
      "cell_type": "code",
      "source": [
        "def arm_model_fixed_tendon():\n",
        "  spec = mj.MjSpec()\n",
        "  spec.compiler.degree = False\n",
        "  root = spec.worldbody\n",
        "\n",
        "  num_links = 3\n",
        "\n",
        "  # defaults\n",
        "  main = spec.default()\n",
        "  main.joint.axis = [0,1,0]\n",
        "\n",
        "  length = 0.2\n",
        "  body = root\n",
        "  for i in range(num_links):\n",
        "    if i > 0:\n",
        "      pos = [0, 0, (length+.03)]\n",
        "    else:\n",
        "      pos = [0]*3\n",
        "\n",
        "    body = body.add_body(name=\"l\"+str(i),pos = pos)\n",
        "    body.add_geom(name=\"g1\"+str(i),\n",
        "                  type=mj.mjtGeom.mjGEOM_CYLINDER,\n",
        "                  fromto = [0, .015, 0, 0, -.015, 0],\n",
        "                  size = [.05,0,0],\n",
        "                  rgba =[1.0, 0.5, 0.0, 1.0]\n",
        "                  )\n",
        "    body.add_geom(name= \"g2\"+str(i),\n",
        "                  type= mj.mjtGeom.mjGEOM_CAPSULE,\n",
        "                  fromto = [0]*5+[length],\n",
        "                  size = [0.02,0,0],\n",
        "                  rgba =[1,1,0,1]\n",
        "                  )\n",
        "    body.add_joint(name=\"j\"+str(i),range=[-1,1])\n",
        "\n",
        "  # creating tendon\n",
        "  tendon = spec.add_tendon(name=\"tendon\")\n",
        "  # wrapping tendon around joints\n",
        "  for i in range(num_links):\n",
        "    joint = \"j\"+str(i)\n",
        "    coef = 1\n",
        "    tendon.wrap_joint(joint,coef)\n",
        "\n",
        "  # actuation\n",
        "  kp = 1\n",
        "  main.actuator.gainprm[0] = kp\n",
        "  main.actuator.biasprm[1] = -kp\n",
        "  main.actuator.trntype = mj.mjtTrn.mjTRN_TENDON\n",
        "  main.actuator.ctrlrange = [-1,1]\n",
        "  spec.add_actuator(\n",
        "    name=\"act_tendon\", target=\"tendon\"\n",
        "  )\n",
        "\n",
        "  # leaf refers to body with no parent e.g: end-effecotr\n",
        "  leaf = body\n",
        "  return root, leaf, spec"
      ],
      "metadata": {
        "id": "WnbheMxb-va_"
      },
      "execution_count": null,
      "outputs": []
    },
    {
      "cell_type": "code",
      "source": [
        "robot_root,_, _ = arm_model_fixed_tendon()\n",
        "render_video(robot_root, width = 640, height = 480)"
      ],
      "metadata": {
        "id": "pN8Y2C81VO-X"
      },
      "execution_count": null,
      "outputs": []
    },
    {
      "cell_type": "code",
      "source": [
        "def arm_model_muscle():\n",
        "  spec = mj.MjSpec()\n",
        "  spec.compiler.degree = False\n",
        "  root = spec.worldbody\n",
        "\n",
        "  num_links = 3\n",
        "\n",
        "  # defaults\n",
        "  main = spec.default()\n",
        "  main.joint.axis = [0,1,0]\n",
        "  # muscle defaults\n",
        "  main.actuator.trntype = mj.mjtTrn.mjTRN_TENDON\n",
        "  main.actuator.dyntype  = mj.mjtDyn.mjDYN_MUSCLE\n",
        "  main.actuator.gaintype = mj.mjtGain.mjGAIN_MUSCLE\n",
        "  main.actuator.biastype = mj.mjtBias.mjBIAS_MUSCLE\n",
        "  main.actuator.dynprm[0] = 0.01 # tau act\n",
        "  main.actuator.dynprm[1] = 0.04 # tau deact\n",
        "  # range[0], range [1], force, scale,\n",
        "  # lmin, lmax, vmax, fpmax, fvmax\n",
        "  main.actuator.gainprm[0:9] = [0.75,1.05,-1,200,\n",
        "                                0.5,1.6,1.5,1.3,1.2]\n",
        "  # biasprm = gainprm\n",
        "  main.actuator.biasprm = main.actuator.gainprm[:]\n",
        "\n",
        "  length = 0.2\n",
        "  body = root\n",
        "  for i in range(num_links):\n",
        "    if i > 0:\n",
        "      pos = [0, 0, (length+.03)]\n",
        "    else:\n",
        "      pos = [0]*3\n",
        "\n",
        "    temp_b = body.add_body(name=\"l\"+str(i),pos = pos)\n",
        "    temp_b.add_geom(name=\"g1\"+str(i),\n",
        "                  type=mj.mjtGeom.mjGEOM_CYLINDER,\n",
        "                  fromto = [0, .015, 0, 0, -.015, 0],\n",
        "                  size = [.05,0,0],\n",
        "                  rgba =[1.0, 0.5, 0.0, 1.0]\n",
        "                  )\n",
        "    temp_b.add_geom(name= \"g2\"+str(i),\n",
        "                  type= mj.mjtGeom.mjGEOM_CAPSULE,\n",
        "                  fromto = [0]*5+[length],\n",
        "                  size = [0.02,0,0],\n",
        "                  rgba =[1,1,0,1]\n",
        "                  )\n",
        "    temp_b.add_joint(name=\"j\"+str(i),range=[-1,1])\n",
        "\n",
        "    # tendon routing\n",
        "    for j in range(2):\n",
        "      sign = (-1)**j\n",
        "      p_z = 0.15\n",
        "      if i==0:\n",
        "        p_z = -0.08\n",
        "      # sites on parent\n",
        "      body.add_site(\n",
        "        name=\"p\"+str(i)+str(j),\n",
        "        pos=[sign *0.025,0,p_z]\n",
        "      )\n",
        "      # sidesites\n",
        "      temp_b.add_site(\n",
        "        name=\"ch_ss\"+str(i)+str(j),\n",
        "        pos = [sign *0.08,0,0]\n",
        "      )\n",
        "      # sites on child\n",
        "      temp_b.add_site(\n",
        "        name=\"ch\"+str(i)+str(j),\n",
        "        pos = [sign * 0.025,0,0.08]\n",
        "      )\n",
        "      # tendon routing\n",
        "      t = spec.add_tendon(name=\"t\"+str(i)+str(j))\n",
        "      t.wrap_site(\"p\"+str(i)+str(j))\n",
        "      t.wrap_geom(\"g1\"+str(i),\"ch_ss\"+str(i)+str(j))\n",
        "      t.wrap_site(\"ch\"+str(i)+str(j))\n",
        "      # muscle\n",
        "      spec.add_actuator(name=\"act\"+str(i)+str(j),\n",
        "                        target = \"t\"+str(i)+str(j)\n",
        "                        )\n",
        "    body = temp_b\n",
        "  # leaf refers to body with no parent e.g: end-effecotr\n",
        "  leaf = body\n",
        "  return root,leaf, spec"
      ],
      "metadata": {
        "id": "1Tie1aSyVlSa"
      },
      "execution_count": null,
      "outputs": []
    },
    {
      "cell_type": "code",
      "source": [
        "robot_root, _, _ = arm_model_muscle()\n",
        "render_video(robot_root, width = 640, height = 480)"
      ],
      "metadata": {
        "id": "UaYfcNeTVyDO"
      },
      "execution_count": null,
      "outputs": []
    },
    {
      "cell_type": "markdown",
      "source": [
        "## Mesh and Named Defaults\n",
        "Not all models are created from primitives. Here, we will illustrate how to use meshes to create a model."
      ],
      "metadata": {
        "id": "4agSRb2wMAMC"
      }
    },
    {
      "cell_type": "code",
      "source": [
        "realsense_d435i_assets = 'mujoco_menagerie/realsense_d435i/assets/'"
      ],
      "metadata": {
        "id": "IR_sC3BPMmRY"
      },
      "execution_count": null,
      "outputs": []
    },
    {
      "cell_type": "code",
      "source": [
        "def realsense_model(path:str):\n",
        "  spec = mj.MjSpec()\n",
        "  spec.compiler.degree = False\n",
        "  root = spec.worldbody\n",
        "\n",
        "  # defaults\n",
        "  main = spec.default()\n",
        "  main.material.specular = 0\n",
        "  main.material.shininess = 0.25\n",
        "\n",
        "  # visual default\n",
        "  v_def = spec.add_default('visual', main)\n",
        "  v_def.geom.group = 2\n",
        "  v_def.geom.type = mj.mjtGeom.mjGEOM_MESH\n",
        "  v_def.geom.contype = 0\n",
        "  v_def.geom.conaffinity = 0\n",
        "  v_def.geom.mass = 0\n",
        "\n",
        "  # collision default\n",
        "  c_def = spec.add_default('collision', main)\n",
        "  c_def.geom.group =3\n",
        "  c_def.geom.type = mj.mjtGeom.mjGEOM_MESH\n",
        "  c_def.geom.mass = 0\n",
        "\n",
        "  materials = {\n",
        "    \"Black_Acrylic\":[0.070360, 0.070360, 0.070360, 1],\n",
        "    \"Cameras_Gray\":[0.296138, 0.296138, 0.296138, 1],\n",
        "    \"IR_Emitter_Lens\":[0.287440, 0.665387, 0.327778, 1],\n",
        "    \"IR_Lens\":[0.035601, 0.035601, 0.035601, 1],\n",
        "    \"IR_Rim\":[0.799102, 0.806952, 0.799103, 1],\n",
        "    \"Metal_Casing\":[1, 1, 1, 1],\n",
        "    \"RGB_Pupil\":[0.087140, 0.002866, 0.009346, 1]\n",
        "  }\n",
        "  for name,rgba in materials.items():\n",
        "    spec.add_material(name=name,rgba=rgba)\n",
        "\n",
        "  for i in range(9):\n",
        "    spec.add_mesh(name=\"d435i_\"+str(i),\n",
        "                  file=path+\"d435i_\"+str(i)+\".obj\")\n",
        "  body = root.add_body(name=\"d435i\")\n",
        "\n",
        "  #visual geoms\n",
        "  materials_order = [\"IR_Lens\",\"IR_Emitter_Lens\",\n",
        "                     \"IR_Rim\",\"IR_Lens\",\"Cameras_Gray\",\"Black_Acrylic\",\n",
        "                     \"Black_Acrylic\",\"RGB_Pupil\"\n",
        "                     ]\n",
        "  for i,material in enumerate(materials_order):\n",
        "    body.add_geom(default = v_def,\n",
        "                  meshname=\"d435i_\"+str(i),\n",
        "                  material=material\n",
        "                  )\n",
        "  body.add_geom(\n",
        "    default = v_def,\n",
        "    meshname=\"d435i_8\",\n",
        "    material=\"Metal_Casing\",\n",
        "    mass=0.072\n",
        "  )\n",
        "  # collision geom\n",
        "  body.add_geom(default = c_def,\n",
        "                type=mj.mjtGeom.mjGEOM_CAPSULE,\n",
        "                meshname=\"d435i_8\"\n",
        "                )\n",
        "\n",
        "  return root, spec"
      ],
      "metadata": {
        "id": "3qct_R8jMDAW"
      },
      "execution_count": null,
      "outputs": []
    },
    {
      "cell_type": "code",
      "source": [
        "\n",
        "robot_root, spec = realsense_model(realsense_d435i_assets)\n",
        "model = spec.compile()\n",
        "render(model)"
      ],
      "metadata": {
        "id": "DWWnJJp9VHlc"
      },
      "execution_count": null,
      "outputs": []
    },
    {
      "cell_type": "markdown",
      "source": [
        "## Camera"
      ],
      "metadata": {
        "id": "oDneqtqFd2Ny"
      }
    },
    {
      "cell_type": "code",
      "source": [
        "def camera_model(path:str):\n",
        "  camera_shell, spec = realsense_model(path)\n",
        "\n",
        "  camera_name = \"realsense\"\n",
        "  camera_shell.add_camera(name = camera_name,\n",
        "                          mode = mj.mjtCamLight.mjCAMLIGHT_FIXED ,\n",
        "                           pos= [0,0,0],\n",
        "                          euler = [3.14,0,0])\n",
        "  return camera_shell, spec, camera_name\n"
      ],
      "metadata": {
        "id": "7vOaH2sGd17G"
      },
      "execution_count": null,
      "outputs": []
    },
    {
      "cell_type": "code",
      "source": [
        "robot_root, spec,camera_name = camera_model(realsense_d435i_assets)\n",
        "model = spec.compile()\n",
        "data = mj.MjData(model)\n",
        "\n",
        "scene_option = mj.MjvOption()\n",
        "scene_option.flags[mj.mjtVisFlag.mjVIS_CAMERA] = True\n",
        "print(f\"camera name::{camera_name}\")\n",
        "with mj.Renderer(model, 480, 640) as renderer:\n",
        "  mj.mj_forward(model, data)\n",
        "  renderer.update_scene(data, scene_option = scene_option)\n",
        "  media.show_image(renderer.render())"
      ],
      "metadata": {
        "id": "MD64rGcHezVI"
      },
      "execution_count": null,
      "outputs": []
    },
    {
      "cell_type": "markdown",
      "source": [
        "## Height field\n",
        "Height fields are used to represent uneven terrain or mountains. There are many ways to generate procedural terrain. Here, we will use [Perlin Noise](https://www.youtube.com/watch?v=9x6NvGkxXhU) to generate a height field.\n",
        "\n",
        "For more inspiration, have a look at this [video](https://www.youtube.com/watch?v=gsJHzBTPG0Y).\n",
        "\n",
        "We start by installing a [Python package](https://github.com/pvigier/perlin-numpy) that helps with the generation of Perlin Noise."
      ],
      "metadata": {
        "id": "7m2F12c-fhk3"
      }
    },
    {
      "cell_type": "code",
      "source": [
        "# perlin noise\n",
        "!pip install git+https://github.com/pvigier/perlin-numpy\n",
        "from perlin_numpy import generate_perlin_noise_2d"
      ],
      "metadata": {
        "id": "FG4xYNIwf8Xr"
      },
      "execution_count": null,
      "outputs": []
    },
    {
      "cell_type": "code",
      "source": [
        "np.random.seed(0)\n",
        "noise = generate_perlin_noise_2d((256, 256), (8, 8))\n",
        "plt.imshow(noise, cmap='gray', interpolation='lanczos')\n",
        "plt.colorbar()"
      ],
      "metadata": {
        "id": "FW-xHx_4g9sf"
      },
      "execution_count": null,
      "outputs": []
    },
    {
      "cell_type": "code",
      "source": [
        "\n",
        "class ArenaHFileld:\n",
        "  def __init__(self):\n",
        "    self.spec = mj.MjSpec()\n",
        "    self.root = self.spec.worldbody\n",
        "    self.spec.compiler.degree = False\n",
        "    self.scene_option = mj.MjvOption()\n",
        "\n",
        "    # adding hfield\n",
        "    noise = generate_perlin_noise_2d((128, 128), (8, 8))\n",
        "    hfield = self.spec.add_hfield(name ='hfield',\n",
        "                                  size = [10,10,1,1],\n",
        "                                  nrow = noise.shape[0],\n",
        "                                  ncol = noise.shape[1],\n",
        "                                  userdata = noise.flatten())\n",
        "    # Make arena with textured floor.\n",
        "    chequered = self.spec.add_texture(\n",
        "        name = \"chequered\", type=mj.mjtTexture.mjTEXTURE_2D,\n",
        "        builtin = mj.mjtBuiltin.mjBUILTIN_CHECKER,\n",
        "        width = 300, height = 300, rgb1 = [.2, .3, .4],\n",
        "        rgb2 = [.3, .4, .5])\n",
        "\n",
        "    grid = self.spec.add_material(\n",
        "        name = 'chequered', texrepeat = [5, 5], reflectance = .2\n",
        "        ).textures[mj.mjtTextureRole.mjTEXROLE_RGB] = 'chequered'\n",
        "    self.root.add_geom(\n",
        "        type = mj.mjtGeom.mjGEOM_HFIELD,\n",
        "        material = 'chequered', hfieldname = 'hfield')\n",
        "\n",
        "    for x in [-5, 0, 5]:\n",
        "      for y in [-5, 0, 5]:\n",
        "        self.root.add_light(pos = [x, y, 3], dir = [-x, 1, -2])\n",
        "\n",
        "    self.camera = self.root.add_camera(name = \"topview\",\n",
        "                          mode = mj.mjtCamLight.mjCAMLIGHT_FIXED ,\n",
        "                           pos= [0,0,15],\n",
        "                          euler = [0,0,0])\n",
        "\n",
        "\n",
        "\n",
        "  def add_movable_asset(self, asset , pos = [0,0,0], prefix = '_'):\n",
        "    frame = self.root.add_frame(pos = pos)\n",
        "    body = frame.attach_body(asset, prefix, '')\n",
        "    body.add_freejoint()\n",
        "    return body\n"
      ],
      "metadata": {
        "id": "ZyLY3BFzhG-N"
      },
      "execution_count": null,
      "outputs": []
    },
    {
      "cell_type": "code",
      "source": [
        "arena = ArenaHFileld()\n",
        "q_model, _ = quadruped_model()\n",
        "\n",
        "# robots\n",
        "for x in np.arange(-5,5,2.5):\n",
        "  for y in np.arange(-5,5,2.5):\n",
        "      arena.add_movable_asset(q_model,[x,y,1],str(x)+str(y))\n",
        "\n",
        "model = arena.spec.compile()\n",
        "data = mj.MjData(model)\n",
        "# print_xml(arena.spec.to_xml())\n",
        "\n",
        "# Control signal frequency, phase, amplitude.\n",
        "freq = 5\n",
        "phase = 2 * np.pi * random_state.rand(len(arena.spec.actuators))\n",
        "amp = 0.9\n",
        "\n",
        "actuators = [data.bind(actuator) for actuator in arena.spec.actuators]\n",
        "\n",
        "# Simulate and display video.\n",
        "duration = 2    # (seconds)\n",
        "framerate = 30  # (Hz)\n",
        "frames = []\n",
        "\n",
        "mj.mj_resetData(model, data)\n",
        "with mj.Renderer(model,width=640,height=480) as renderer:\n",
        "  while data.time < duration:\n",
        "    # Inject controls and step the physics.\n",
        "    for i, actuator in enumerate(actuators):\n",
        "      actuator.ctrl = amp * np.sin(freq * data.time + phase[i])\n",
        "    mj.mj_step(model, data)\n",
        "    if len(frames) < data.time * framerate:\n",
        "      # renderer.update_scene(data,scene_option=arena.scene_option)\n",
        "      renderer.update_scene(data,camera=\"topview\")\n",
        "\n",
        "      pixels = renderer.render()\n",
        "      frames.append(pixels)\n",
        "\n",
        "media.show_video(frames, fps=framerate)"
      ],
      "metadata": {
        "id": "MV8AoDGatOUV",
        "collapsed": true
      },
      "execution_count": null,
      "outputs": []
    },
    {
      "cell_type": "markdown",
      "source": [
        "## Procedural Mesh Generation\n",
        "Mujoco has the functionality to create a mesh given vertices. These vertices can be the result of procedural mesh generation. A person can use libraries like [CadQuery](https://cadquery.readthedocs.io/en/latest/) to generate meshes and then load them with Mujoco. Here, we will not demonstrate procedural mesh generation; however, we will see how the resulting vertices can be used in Mujoco.\n",
        "\n",
        "If you would like to create your own low-poly rock, have a look at this [video](https://www.youtube.com/watch?v=1H2YaRPfpdM)."
      ],
      "metadata": {
        "id": "TPw0DzWaishD"
      }
    },
    {
      "cell_type": "markdown",
      "source": [
        "### Low Poly rock"
      ],
      "metadata": {
        "id": "cAbYT01auZrJ"
      }
    },
    {
      "cell_type": "code",
      "source": [
        "!pip install pyvista\n",
        "\n",
        "import pyvista as pv\n",
        "import numpy as np\n"
      ],
      "metadata": {
        "id": "ryZ_eLI1uecM"
      },
      "execution_count": null,
      "outputs": []
    },
    {
      "cell_type": "code",
      "source": [
        "def low_poly_rock_mesh(perturbation = 0.2):\n",
        "  # low poly sphere\n",
        "  sphere =  pv.Sphere(radius=1.0, theta_resolution=5, phi_resolution=5)\n",
        "\n",
        "  # scaling to make intial shape more rock like\n",
        "  scale=[1.0, 0.2, 0.5]\n",
        "  sphere = sphere.scale(scale)\n",
        "\n",
        "  # get sphere vertices\n",
        "  points = sphere.points\n",
        "\n",
        "  # perturbe each vertex within perturbation range\n",
        "  perturbations = np.random.uniform(-perturbation,\n",
        "                                    perturbation,\n",
        "                                    size=points.shape)\n",
        "\n",
        "  perturbed_points = points + perturbations\n",
        "  sphere.points = perturbed_points\n",
        "\n",
        "  return sphere\n",
        "\n",
        "def sample_points():\n",
        "  samples = np.random.normal(loc=0, scale= 0.1,size = (100,3))\n",
        "\n",
        "  return samples\n",
        "\n"
      ],
      "metadata": {
        "id": "lL4jckexuiic"
      },
      "execution_count": null,
      "outputs": []
    },
    {
      "cell_type": "markdown",
      "source": [
        "### High resolusion rock"
      ],
      "metadata": {
        "id": "VLNUiUwFwbh7"
      }
    },
    {
      "cell_type": "code",
      "source": [
        "!pip install git+https://github.com/mohammad200h/mj_rock_generator.git\n",
        "from mj_rock_generator import rock\n",
        "import tempfile\n",
        "from PIL import Image"
      ],
      "metadata": {
        "id": "u5tMtLHdiLvf"
      },
      "execution_count": null,
      "outputs": []
    },
    {
      "cell_type": "markdown",
      "source": [
        "### Rock Mjspec Model"
      ],
      "metadata": {
        "id": "xsxoTsMRwfv_"
      }
    },
    {
      "cell_type": "code",
      "source": [
        "def rock_model(texture,rock_func,smooth_rock = False, name=\"rock\", scale = 1):\n",
        "  spec = mj.MjSpec()\n",
        "  root = spec.worldbody\n",
        "  spec.compiler.degree = False\n",
        "\n",
        "  main = spec.default()\n",
        "  main.mesh.scale = [random.random()*scale] * 3\n",
        "\n",
        "  spec.add_texture(\n",
        "        name=\"rock\", type=mj.mjtTexture.mjTEXTURE_2D,\n",
        "        file = texture,\n",
        "        width=300, height=300)\n",
        "\n",
        "  spec.add_material(\n",
        "        name='rock',  reflectance=.2\n",
        "        ).textures[mj.mjtTextureRole.mjTEXROLE_RGB] = 'rock'\n",
        "  # defaults\n",
        "  main = spec.default()\n",
        "  main.geom.type = mj.mjtGeom.mjGEOM_MESH\n",
        "\n",
        "  mesh = rock_func()\n",
        "\n",
        "  spec.add_mesh(\n",
        "      name = \"rock\",\n",
        "      # uservert = np.array(mesh.points).flatten()\n",
        "      uservert = mesh.flatten()\n",
        "\n",
        "  )\n",
        "  root.add_geom(meshname = name )\n",
        "\n",
        "  return root, spec"
      ],
      "metadata": {
        "id": "k5dbtrk_iPYR"
      },
      "execution_count": null,
      "outputs": []
    },
    {
      "cell_type": "code",
      "source": [
        "arena = Arena()\n",
        "low_ploy = True\n",
        "rock_func = None\n",
        "\n",
        "if low_ploy:\n",
        "  rock_func = low_poly_rock_mesh\n",
        "else:\n",
        "  rock_func = rock\n",
        "\n",
        "rock_func = sample_points\n",
        "texture = generate_perlin_noise_2d((256, 256), (8, 8))\n",
        "\n",
        "with tempfile.NamedTemporaryFile(suffix=\".png\") as temp_file:\n",
        "  temp_file_path = temp_file.name\n",
        "  # \"L\" mode for grayscale\n",
        "  pil_image = Image.fromarray(texture, mode=\"L\")\n",
        "  pil_image.save(temp_file_path, format=\"png\")\n",
        "\n",
        "  r,_ = rock_model(temp_file_path,rock_func,smooth_rock = True)\n",
        "  arena.add_movable_asset(r,[0,0,0.23])\n",
        "\n",
        "  model = arena.spec.compile()\n",
        "  render(model)"
      ],
      "metadata": {
        "id": "TtzU4BeDqjWQ"
      },
      "execution_count": null,
      "outputs": []
    },
    {
      "cell_type": "markdown",
      "source": [
        "### Rocky Situation\n",
        "Here, we will create a scene using almost every model we |have created. Then, we will add more obstacles to the scene by procedurally creating two layers of rocks. Finally, we will create a robot called Frank and place it in the middle of the rocks."
      ],
      "metadata": {
        "id": "sROTJQz0xHDs"
      }
    },
    {
      "cell_type": "markdown",
      "source": [
        "### Meet Frank:\n",
        "We will use everything we have learned to create a robot called Frank. Frank's lower body is made of a quadruped. His upper body is made of a hexapod, keeping his arms level while moving. Frank's shorter arm is made of spatial tendons. In contrast, his longer arm is made of a fixed tendon with an end effector capable of adhesion."
      ],
      "metadata": {
        "id": "y2ugNOGsy39U"
      }
    },
    {
      "cell_type": "code",
      "source": [
        "def frank(realsense_d435i_assets:str):\n",
        "\n",
        "  quadroped,quadroped_spec = quadruped_model()\n",
        "  hexopad,_, top = make_hexapod(equality2 = True,\n",
        "                 exclude_contact = True)\n",
        "\n",
        "  # sticky arm\n",
        "  sticky_arm, leaf, spec = arm_model_fixed_tendon()\n",
        "\n",
        "  ee_body = leaf.add_body(pos=[0,0,0.25],name=\"ee\")\n",
        "  ee_body.add_geom(\n",
        "      type = mj.mjtGeom.mjGEOM_SPHERE,\n",
        "      size = [0.05,0,0],\n",
        "      mass = 0.1,\n",
        "      rgba = [1,1,0,1]\n",
        "  )\n",
        "\n",
        "  # TODO: Ask Alessio if this is correct\n",
        "  spec.add_actuator(\n",
        "      name = \"act_glue\",\n",
        "      ctrllimited = 1,\n",
        "      gaintype = mj.mjtGain.mjGAIN_FIXED,\n",
        "      biastype = mj.mjtBias.mjBIAS_NONE,\n",
        "      trntype = mj.mjtTrn.mjTRN_BODY\n",
        "  )\n",
        "\n",
        "  # camera\n",
        "  camera, _, camera_name = camera_model(realsense_d435i_assets)\n",
        "  cam_frame = top.add_frame(pos=[0,0,0.03],euler=[0,0,1.57])\n",
        "  cam_frame.attach_body(camera, \"\",\"_\")\n",
        "\n",
        "  #\n",
        "  muscle_arm, _, _ = arm_model_muscle()\n",
        "\n",
        "  arm_frames = [\n",
        "      {\n",
        "          \"name\":\"left\",\n",
        "          \"pos\":[0.1,0,0],\n",
        "          \"euler\":[0,1.2,0],\n",
        "          \"arm\":sticky_arm\n",
        "      },\n",
        "      {\n",
        "          \"name\":\"right\",\n",
        "          \"pos\":[-0.1,0,0],\n",
        "          \"euler\":[0,-1.2,0],\n",
        "          \"arm\":muscle_arm\n",
        "      }\n",
        "  ]\n",
        "\n",
        "  body = top\n",
        "\n",
        "  for prop in arm_frames:\n",
        "    frame = body.add_frame(pos = prop['pos'],euler=prop['euler'])\n",
        "    frame.attach_body(prop['arm'],\"\",\"_\"+prop[\"name\"])\n",
        "\n",
        "\n",
        "  frame = quadroped.add_frame(pos=[0,0,0])\n",
        "  frame.attach_body(hexopad, '','_')\n",
        "\n",
        "\n",
        "  return quadroped ,quadroped_spec,camera_name\n"
      ],
      "metadata": {
        "id": "2NnNqyl3q7qd"
      },
      "execution_count": null,
      "outputs": []
    },
    {
      "cell_type": "code",
      "source": [
        "arena = Arena()\n",
        "robot_root, _, _ = frank(realsense_d435i_assets)\n",
        "arena.add_fixed_asset(robot_root,[0,0,0.15])\n",
        "model = arena.spec.compile()\n",
        "render(model,height = 400)"
      ],
      "metadata": {
        "id": "SWRpYrfbt19I"
      },
      "execution_count": null,
      "outputs": []
    },
    {
      "cell_type": "code",
      "source": [
        "def circle_coordinates(radius, angle):\n",
        "    x = radius * math.cos(angle)\n",
        "    y = radius * math.sin(angle)\n",
        "    return x, y\n"
      ],
      "metadata": {
        "id": "EQWmXYESbvfz"
      },
      "execution_count": null,
      "outputs": []
    },
    {
      "cell_type": "code",
      "source": [
        "arena = Arena()\n",
        "robot, _ , realsense = frank(realsense_d435i_assets)\n",
        "random_state = np.random.RandomState(42)\n",
        "\n",
        "realsense = \"_realsense__right_\"\n",
        "\n",
        "# rock properties\n",
        "texture = generate_perlin_noise_2d((256, 256), (8, 8))\n",
        "radius = 1\n",
        "scale  = 1\n",
        "rock_func = sample_points\n",
        "\n",
        "with tempfile.NamedTemporaryFile(suffix=\".png\") as temp_file:\n",
        "  temp_file_path = temp_file.name\n",
        "  # \"L\" mode for grayscale\n",
        "  pil_image = Image.fromarray(texture, mode=\"L\")\n",
        "  pil_image.save(temp_file_path, format=\"png\")\n",
        "\n",
        "  # inner rocks\n",
        "  for i,angle in enumerate(np.linspace(-3.14,3.14,10)):\n",
        "    x,y = circle_coordinates(radius/2,angle)\n",
        "    name = \"inner_rock_\"+str(i)\n",
        "\n",
        "    asset,_ = rock_model(temp_file_path,rock_func, scale = scale)\n",
        "    arena.add_movable_asset(asset,[x,y,0.11],prefix=name)\n",
        "\n",
        "  # outer rocks\n",
        "  for i,angle in enumerate(np.linspace(-3.14,3.14,20)):\n",
        "    x,y = circle_coordinates(radius,angle)\n",
        "    name = \"outer_rock_\"+str(i)\n",
        "\n",
        "    asset,_ = rock_model(temp_file_path,rock_func, scale = scale)\n",
        "    arena.add_movable_asset(asset,[x,y,0.11],prefix=name)\n",
        "\n",
        "  # robot\n",
        "  arena.add_movable_asset(robot,[0,0,3])\n",
        "  top_camera = arena.add_tracking_camera(\"_world\",euler=[0,0,0],pos=[0,0,3])\n",
        "  model = arena.spec.compile()\n",
        "  data = mj.MjData(model)\n",
        "\n",
        "\n",
        "\n",
        "  # print(arena.spec.to_xml())\n",
        "  actuators = [data.bind(actuator) for actuator in arena.spec.actuators]\n",
        "  # Control signal frequency, phase, amplitude.\n",
        "  freq = 5\n",
        "  phase = 2 * np.pi * random_state.rand(len(arena.spec.actuators))\n",
        "  amp = 0.9\n",
        "\n",
        "  # Simulate and display video.\n",
        "  duration = 5    # (seconds)\n",
        "  framerate = 30  # (Hz)\n",
        "  frames = []\n",
        "  realsense_frames = []\n",
        "\n",
        "  mj.mj_resetData(model, data)\n",
        "  with mj.Renderer(model,width=640,height=480) as renderer:\n",
        "    while data.time < duration:\n",
        "      # Inject controls and step the physics.\n",
        "      for i, actuator in enumerate(actuators):\n",
        "        actuator.ctrl = amp * np.sin(freq * data.time + phase[i])\n",
        "      mj.mj_step(model, data)\n",
        "      if len(frames) < data.time * framerate:\n",
        "        # top camera\n",
        "        renderer.update_scene(data,camera=top_camera)\n",
        "        pixels = renderer.render()\n",
        "        frames.append(pixels)\n",
        "        # realsense camera\n",
        "        renderer.update_scene(data,camera=realsense)\n",
        "        pixels = renderer.render()\n",
        "        realsense_frames.append(pixels)\n",
        "\n",
        "  media.show_video(frames, fps=framerate)\n",
        "  print(\"\\n realsense camera view: \\n\")\n",
        "  media.show_video(realsense_frames, fps=framerate)\n"
      ],
      "metadata": {
        "id": "BB9Npa_8_e6p"
      },
      "execution_count": null,
      "outputs": []
    },
    {
      "cell_type": "code",
      "source": [],
      "metadata": {
        "id": "iNSrex8ce6Ar"
      },
      "execution_count": null,
      "outputs": []
    }
  ],
  "metadata": {
    "accelerator": "GPU",
    "colab": {
      "collapsed_sections": [
        "sJFuNetilv4m"
      ],
      "gpuClass": "premium",
      "private_outputs": true,
      "provenance": [],
      "gpuType": "T4"
    },
    "kernelspec": {
      "display_name": "Python 3",
      "name": "python3"
    },
    "language_info": {
      "codemirror_mode": {
        "name": "ipython",
        "version": 3
      },
      "file_extension": ".py",
      "mimetype": "text/x-python",
      "name": "python",
      "nbconvert_exporter": "python",
      "pygments_lexer": "ipython3",
      "version": "3.11.9"
    }
  },
  "nbformat": 4,
  "nbformat_minor": 0
}
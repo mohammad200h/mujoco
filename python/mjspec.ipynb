{
  "cells": [
    {
      "cell_type": "markdown",
      "metadata": {
        "id": "klCa_-bdiWv5"
      },
      "source": [
        "![MuJoCo banner](https://raw.githubusercontent.com/google-deepmind/mujoco/main/banner.png)\n",
        "\n",
        "# <h1><center>Model Editing  <a href=\"https://colab.research.google.com/github/google-deepmind/mujoco/blob/main/python/mjspec.ipynb\"><img src=\"https://colab.research.google.com/assets/colab-badge.svg\" width=\"140\" align=\"center\"/></a></center></h1>\n",
        "\n",
        "This notebook provides an introductory tutorial for model editing in MuJoCo using the `mjSpec` API. This notebook assumes that the reader is already familiar with MuJoCo basic concepts, as demostrated in the [introductory tutorial](https://github.com/google-deepmind/mujoco?tab=readme-ov-file#getting-started). Documentation for this API can be found in the [Model Editing](https://mujoco.readthedocs.io/en/latest/programming/modeledit.html) chapter in the documentation (C API) and in the [Python chapter](https://mujoco.readthedocs.io/en/latest/python.html#model-editing). Here we use the Python API.\n",
        "\n",
        "The goal of the API is to allow users to easily interact with and modify MuJoCo\n",
        "models in Python, similarly to what the JavaScript DOM does for HTML.\n",
        "\n",
        "<!-- Copyright 2024 DeepMind Technologies Limited\n",
        "\n",
        "     Licensed under the Apache License, Version 2.0 (the \"License\");\n",
        "     you may not use this file except in compliance with the License.\n",
        "     You may obtain a copy of the License at\n",
        "\n",
        "         http://www.apache.org/licenses/LICENSE-2.0\n",
        "\n",
        "     Unless required by applicable law or agreed to in writing, software\n",
        "     distributed under the License is distributed on an \"AS IS\" BASIS,\n",
        "     WITHOUT WARRANTIES OR CONDITIONS OF ANY KIND, either express or implied.\n",
        "     See the License for the specific language governing permissions and\n",
        "     limitations under the License.\n",
        "-->\n"
      ]
    },
    {
      "cell_type": "markdown",
      "metadata": {
        "id": "sJFuNetilv4m"
      },
      "source": [
        "## All imports"
      ]
    },
    {
      "cell_type": "code",
      "execution_count": null,
      "metadata": {
        "id": "ArmOx3cBDvFR"
      },
      "outputs": [],
      "source": [
        "!pip install mujoco\n",
        "\n",
        "# Set up GPU rendering.\n",
        "from google.colab import files\n",
        "import distutils.util\n",
        "import os\n",
        "import subprocess\n",
        "if subprocess.run('nvidia-smi').returncode:\n",
        "  raise RuntimeError(\n",
        "      'Cannot communicate with GPU. '\n",
        "      'Make sure you are using a GPU Colab runtime. '\n",
        "      'Go to the Runtime menu and select Choose runtime type.')\n",
        "\n",
        "# Add an ICD config so that glvnd can pick up the Nvidia EGL driver.\n",
        "# This is usually installed as part of an Nvidia driver package, but the Colab\n",
        "# kernel doesn't install its driver via APT, and as a result the ICD is missing.\n",
        "# (https://github.com/NVIDIA/libglvnd/blob/master/src/EGL/icd_enumeration.md)\n",
        "NVIDIA_ICD_CONFIG_PATH = '/usr/share/glvnd/egl_vendor.d/10_nvidia.json'\n",
        "if not os.path.exists(NVIDIA_ICD_CONFIG_PATH):\n",
        "  with open(NVIDIA_ICD_CONFIG_PATH, 'w') as f:\n",
        "    f.write(\"\"\"{\n",
        "    \"file_format_version\" : \"1.0.0\",\n",
        "    \"ICD\" : {\n",
        "        \"library_path\" : \"libEGL_nvidia.so.0\"\n",
        "    }\n",
        "}\n",
        "\"\"\")\n",
        "\n",
        "# Configure MuJoCo to use the EGL rendering backend (requires GPU)\n",
        "print('Setting environment variable to use GPU rendering:')\n",
        "%env MUJOCO_GL=egl\n",
        "\n",
        "# Check if installation was succesful.\n",
        "try:\n",
        "  print('Checking that the installation succeeded:')\n",
        "  import mujoco as mj\n",
        "  mj.MjModel.from_xml_string('<mujoco/>')\n",
        "except Exception as e:\n",
        "  raise e from RuntimeError(\n",
        "      'Something went wrong during installation. Check the shell output above '\n",
        "      'for more information.\\n'\n",
        "      'If using a hosted Colab runtime, make sure you enable GPU acceleration '\n",
        "      'by going to the Runtime menu and selecting \"Choose runtime type\".')\n",
        "\n",
        "print('Installation successful.')\n",
        "\n",
        "# Other imports and helper functions\n",
        "import time\n",
        "import itertools\n",
        "import numpy as np\n",
        "import typing\n",
        "import json\n",
        "\n",
        "# Graphics and plotting.\n",
        "print('Installing mediapy:')\n",
        "!command -v ffmpeg >/dev/null || (apt update && apt install -y ffmpeg)\n",
        "!pip install -q mediapy\n",
        "import mediapy as media\n",
        "import matplotlib.pyplot as plt\n",
        "\n",
        "# More legible printing from numpy.\n",
        "np.set_printoptions(precision=3, suppress=True, linewidth=100)\n",
        "\n",
        "from IPython.display import clear_output\n",
        "clear_output()\n",
        "\n",
        "# Get MuJoCo's humanoid model and a Franka arm from the MuJoCo Menagerie.\n",
        "print('Getting MuJoCo humanoid XML description from GitHub:')\n",
        "!git clone https://github.com/google-deepmind/mujoco\n",
        "humanoid_file = 'mujoco/model/humanoid/humanoid.xml'\n",
        "humanoid100_file = 'mujoco/model/humanoid/humanoid100.xml'\n",
        "print('Getting MuJoCo Menagerie Franka XML description from GitHub:')\n",
        "!git clone https://github.com/google-deepmind/mujoco_menagerie\n",
        "franka_file = 'mujoco_menagerie/franka_fr3/fr3.xml'\n",
        "leap_assets = 'mujoco_menagerie/leap_hand/assets/'\n",
        "!git clone -b mjspec https://github.com/mohammad200h/mujoco.git\n",
        "leap_data_file = 'mujoco/python/mjspec_tutorial_data/leap.json'\n",
        "\n",
        "\n",
        "def render(model, data=None, height=250):\n",
        "  if data is None:\n",
        "    data = mj.MjData(model)\n",
        "  with mj.Renderer(model, 480, 640) as renderer:\n",
        "    mj.mj_forward(model, data)\n",
        "    renderer.update_scene(data)\n",
        "    media.show_image(renderer.render(), height=height)"
      ]
    },
    {
      "cell_type": "markdown",
      "metadata": {
        "id": "iJRNczuyHbuc"
      },
      "source": [
        "# Parsing XML to `mjSpec` and compiling to `mjModel`\n"
      ]
    },
    {
      "cell_type": "markdown",
      "metadata": {
        "id": "MYPbnl3mxvDj"
      },
      "source": [
        "Unlike `mj_loadXML` which combines parsing and compiling, when using `mjSpec`, parsing and compiling are separate, allowing for editing steps:"
      ]
    },
    {
      "cell_type": "code",
      "execution_count": null,
      "metadata": {
        "id": "oummB7I7EfSq"
      },
      "outputs": [],
      "source": [
        "#@title A static model, from string {vertical-output: true}\n",
        "\n",
        "static_model = \"\"\"\n",
        "<mujoco>\n",
        "  <worldbody>\n",
        "    <light name=\"top\" pos=\"0 0 1\"/>\n",
        "    <geom name=\"red_box\" type=\"box\" size=\".2 .2 .2\" rgba=\"1 0 0 1\"/>\n",
        "    <geom name=\"green_sphere\" pos=\".2 .2 .2\" size=\".1\" rgba=\"0 1 0 1\"/>\n",
        "  </worldbody>\n",
        "</mujoco>\n",
        "\"\"\"\n",
        "spec = mj.MjSpec.from_string(static_model)\n",
        "model = spec.compile()\n",
        "render(model)\n",
        "\n",
        "# Change the mjSpec, re-compile and re-render\n",
        "geoms = spec.worldbody.find_all(mj.mjtObj.mjOBJ_GEOM)\n",
        "geoms[0].name = 'blue_box'\n",
        "geoms[0].rgba = [0, 0, 1, 1]\n",
        "geoms[1].name = 'yellow_sphere'\n",
        "geoms[1].rgba = [1, 1, 0, 1]\n",
        "spec.worldbody.add_geom(name='magenta cylinder',\n",
        "                        type=mj.mjtGeom.mjGEOM_CYLINDER,\n",
        "                        rgba=[1, 0, 1, 1],\n",
        "                        pos=[-.2, 0, .2],\n",
        "                        size=[.1, .1, 0])\n",
        "\n",
        "model = spec.compile()\n",
        "render(model)"
      ]
    },
    {
      "cell_type": "markdown",
      "metadata": {
        "id": "Tw_yUwqxKwCI"
      },
      "source": [
        "`mjSpec` can save XML to string, saving all modifications."
      ]
    },
    {
      "cell_type": "code",
      "execution_count": null,
      "metadata": {
        "id": "_7HAcWqNGwyw"
      },
      "outputs": [],
      "source": [
        "#@title Print an XML from an `mjSpec` {vertical-output: true}\n",
        "\n",
        "print(spec.to_xml())"
      ]
    },
    {
      "cell_type": "code",
      "execution_count": null,
      "metadata": {
        "id": "A6EHNulmFHFI"
      },
      "outputs": [],
      "source": [
        "#@title Building an `mjSpec` from scratch {vertical-output: true}\n",
        "\n",
        "spec = mj.MjSpec()\n",
        "spec.worldbody.add_light(name=\"top\", pos=[0, 0, 1])\n",
        "body = spec.worldbody.add_body(name=\"box_and_sphere\", euler=[0, 0, -30])\n",
        "body.add_joint(name=\"swing\", type=mj.mjtJoint.mjJNT_HINGE,\n",
        "               axis=[1, -1, 0], pos=[-.2, -.2, -.2])\n",
        "body.add_geom(name=\"red_box\", type=mj.mjtGeom.mjGEOM_BOX,\n",
        "              size=[.2, .2, .2], rgba=[1, 0, 0, 1])\n",
        "body.add_geom(name=\"green_sphere\", pos=[.2, .2, .2],\n",
        "              size=[.1, 0, 0], rgba=[0, 1, 0, 1])\n",
        "model = spec.compile()\n",
        "\n",
        "duration = 2    # (seconds)\n",
        "framerate = 30  # (Hz)\n",
        "\n",
        "# enable joint visualization option:\n",
        "scene_option = mj.MjvOption()\n",
        "scene_option.flags[mj.mjtVisFlag.mjVIS_JOINT] = True\n",
        "\n",
        "# Simulate and display video.\n",
        "frames = []\n",
        "data = mj.MjData(model)\n",
        "mj.mj_resetData(model, data)\n",
        "with mj.Renderer(model) as renderer:\n",
        "  while data.time < duration:\n",
        "    mj.mj_step(model, data)\n",
        "    if len(frames) < data.time * framerate:\n",
        "      renderer.update_scene(data, scene_option=scene_option)\n",
        "      pixels = renderer.render()\n",
        "      frames.append(pixels)\n",
        "\n",
        "media.show_video(frames, fps=framerate)\n"
      ]
    },
    {
      "cell_type": "markdown",
      "metadata": {
        "id": "3N4YEIVt75_T"
      },
      "source": [
        "# Control example"
      ]
    },
    {
      "cell_type": "markdown",
      "metadata": {
        "id": "TcQuv56BwaJf"
      },
      "source": [
        "A key feature of this library is the ability to easily attach multiple models into a larger one. Disambiguation of duplicated names from different\n",
        "models, or multiple instances of the same model, is handled via user-defined namespacing.\n",
        "\n",
        "One example use case is when we want robots with a variable number of joints, as is a fundamental change to the kinematic structure. The following snippets realise this scenario."
      ]
    },
    {
      "cell_type": "code",
      "execution_count": null,
      "metadata": {
        "id": "7C-hfbtj8nRV"
      },
      "outputs": [],
      "source": [
        "leg_model = \"\"\"\n",
        "<mujoco>\n",
        "  <compiler angle=\"radian\"/>\n",
        "\n",
        "  <default>\n",
        "    <joint damping=\"2\" type=\"hinge\"/>\n",
        "    <geom type=\"capsule\"/>\n",
        "  </default>\n",
        "\n",
        "  <worldbody>\n",
        "    <body name=\"thigh\">\n",
        "      <joint name=\"hip\" axis=\"0 0 1\"/>\n",
        "      <body name=\"shin\">\n",
        "        <joint name=\"knee\" axis=\"0 1 0\"/>\n",
        "      </body>\n",
        "    </body>\n",
        "  </worldbody>\n",
        "\n",
        "  <actuator>\n",
        "    <position joint=\"hip\" kp=\"10\"/>\n",
        "    <position joint=\"knee\" kp=\"10\"/>\n",
        "  </actuator>\n",
        "</mujoco>\n",
        "\"\"\"\n",
        "\n",
        "class Leg(object):\n",
        "  \"\"\"A 2-DoF leg with position actuators.\"\"\"\n",
        "  def __init__(self, length, rgba):\n",
        "    self.spec = mj.MjSpec.from_string(leg_model)\n",
        "\n",
        "    # Thigh:\n",
        "    thigh = self.spec.find_body('thigh')\n",
        "    thigh.add_geom(fromto=[0, 0, 0, length, 0, 0], size=[length/4, 0, 0], rgba=rgba)\n",
        "\n",
        "    # Hip:\n",
        "    shin = self.spec.find_body('shin')\n",
        "    shin.add_geom(fromto=[0, 0, 0, 0, 0, -length], size=[length/5, 0, 0], rgba=rgba)\n",
        "    shin.pos[0] = length"
      ]
    },
    {
      "cell_type": "markdown",
      "metadata": {
        "id": "MQGsxnIB_RLO"
      },
      "source": [
        "The `Leg` class describes an abstract articulated leg, with two joints and corresponding proportional-derivative actuators.\n",
        "\n",
        "Note that:\n",
        "\n",
        "- MJCF attributes correspond directly to arguments of the `add_()` methods.\n",
        "- When referencing elements, e.g when specifying the joint to which an actuator is attached, the name string of the MJCF elements is used."
      ]
    },
    {
      "cell_type": "code",
      "execution_count": null,
      "metadata": {
        "id": "kMiuMyZW_XoB"
      },
      "outputs": [],
      "source": [
        "BODY_RADIUS = 0.1\n",
        "random_state = np.random.RandomState(42)\n",
        "creature_model = \"\"\"\n",
        "<mujoco>\n",
        "  <compiler angle=\"radian\"/>\n",
        "\n",
        "  <worldbody>\n",
        "    <geom name=\"torso\" type=\"ellipsoid\" size=\"{} {} {}\"/>\n",
        "  </worldbody>\n",
        "</mujoco>\n",
        "\"\"\".format(BODY_RADIUS, BODY_RADIUS, BODY_RADIUS / 2)\n",
        "\n",
        "def make_creature(num_legs):\n",
        "  \"\"\"Constructs a creature with `num_legs` legs.\"\"\"\n",
        "  rgba = random_state.uniform([0, 0, 0, 1], [1, 1, 1, 1])\n",
        "  spec = mj.MjSpec.from_string(creature_model)\n",
        "\n",
        "  # Attach legs to equidistant sites on the circumference.\n",
        "  spec.worldbody.first_geom().rgba = rgba\n",
        "  leg = Leg(length=BODY_RADIUS, rgba=rgba)\n",
        "  for i in range(num_legs):\n",
        "    theta = 2 * i * np.pi / num_legs\n",
        "    hip_pos = BODY_RADIUS * np.array([np.cos(theta), np.sin(theta), 0])\n",
        "    hip_site = spec.worldbody.add_site(pos=hip_pos, euler=[0, 0, theta])\n",
        "    hip_site.attach(leg.spec.find_body('thigh'), '', '-' + str(i))\n",
        "\n",
        "  return spec"
      ]
    },
    {
      "cell_type": "markdown",
      "metadata": {
        "id": "QMQ3jc6-_toj"
      },
      "source": [
        "The `make_creature` function uses the `attach()` method to procedurally attach legs to the torso. Note that at this stage both the torso and hip attachment sites are children of the `worldbody`, since their parent body has yet to be instantiated. We'll now make an arena with a chequered floor and two lights, and place our creatures in a grid."
      ]
    },
    {
      "cell_type": "code",
      "execution_count": null,
      "metadata": {
        "id": "vt2JwXd__1cT"
      },
      "outputs": [],
      "source": [
        "#@title Six Creatures on a floor.{vertical-output: true}\n",
        "\n",
        "arena = mj.MjSpec()\n",
        "\n",
        "if hasattr(arena, 'compiler'):\n",
        "  arena.compiler.degree = False  # MuJoCo dev (next release).\n",
        "else:\n",
        "  arena.degree = False  # MuJoCo release\n",
        "\n",
        "# Make arena with textured floor.\n",
        "chequered = arena.add_texture(\n",
        "    name=\"chequered\", type=mj.mjtTexture.mjTEXTURE_2D,\n",
        "    builtin=mj.mjtBuiltin.mjBUILTIN_CHECKER,\n",
        "    width=300, height=300, rgb1=[.2, .3, .4], rgb2=[.3, .4, .5])\n",
        "grid = arena.add_material(\n",
        "    name='grid', texrepeat=[5, 5], reflectance=.2\n",
        "    ).textures[mj.mjtTextureRole.mjTEXROLE_RGB] = 'chequered'\n",
        "arena.worldbody.add_geom(\n",
        "    type=mj.mjtGeom.mjGEOM_PLANE, size=[2, 2, .1], material='grid')\n",
        "for x in [-2, 2]:\n",
        "  arena.worldbody.add_light(pos=[x, -1, 3], dir=[-x, 1, -2])\n",
        "\n",
        "# Instantiate 6 creatures with 3 to 8 legs.\n",
        "creatures = [make_creature(num_legs=num_legs) for num_legs in range(3, 9)]\n",
        "\n",
        "# Place them on a grid in the arena.\n",
        "height = .15\n",
        "grid = 5 * BODY_RADIUS\n",
        "xpos, ypos, zpos = np.meshgrid([-grid, 0, grid], [0, grid], [height])\n",
        "for i, spec in enumerate(creatures):\n",
        "  # Place spawn sites on a grid.\n",
        "  spawn_pos = (xpos.flat[i], ypos.flat[i], zpos.flat[i])\n",
        "  spawn_site = arena.worldbody.add_site(pos=spawn_pos, group=3)\n",
        "  # Attach to the arena at the spawn sites, with a free joint.\n",
        "  spawn_body = spawn_site.attach(spec.worldbody, '', '-' + str(i))\n",
        "  spawn_body.add_freejoint()\n",
        "\n",
        "# Instantiate the physics and render.\n",
        "model = arena.compile()\n",
        "render(model)"
      ]
    },
    {
      "cell_type": "markdown",
      "metadata": {
        "id": "mPUGkrCzAFMg"
      },
      "source": [
        "Multi-legged creatures, ready to roam! Let's inject some controls and watch them move. We'll generate a sinusoidal open-loop control signal of fixed frequency and random phase, recording both video frames and the horizontal positions of the torso geoms, in order to plot the movement trajectories."
      ]
    },
    {
      "cell_type": "code",
      "execution_count": null,
      "metadata": {
        "id": "7gz9FfNzGxPO"
      },
      "outputs": [],
      "source": [
        "#@title Video of the movement{vertical-output: true}\n",
        "\n",
        "duration = 10   # (Seconds)\n",
        "framerate = 30  # (Hz)\n",
        "video = []\n",
        "pos_x = []\n",
        "pos_y = []\n",
        "geoms = arena.worldbody.find_all(mj.mjtObj.mjOBJ_GEOM)\n",
        "torsos = [geom.id for geom in geoms if 'torso' in geom.name]\n",
        "actuators = [actuator.id for actuator in arena.actuators]\n",
        "\n",
        "# Control signal frequency, phase, amplitude.\n",
        "freq = 5\n",
        "phase = 2 * np.pi * random_state.rand(len(arena.actuators))\n",
        "amp = 0.9\n",
        "\n",
        "# Simulate, saving video frames and torso locations.\n",
        "data = mj.MjData(model)\n",
        "mj.mj_resetData(model, data)\n",
        "with mj.Renderer(model) as renderer:\n",
        "  while data.time < duration:\n",
        "    # Inject controls and step the physics.\n",
        "    data.ctrl[actuators] = amp * np.sin(freq * data.time + phase)\n",
        "    mj.mj_step(model, data)\n",
        "\n",
        "    # Save torso horizontal positions using name indexing.\n",
        "    pos_x.append(data.geom_xpos[torsos, 0].copy())\n",
        "    pos_y.append(data.geom_xpos[torsos, 1].copy())\n",
        "\n",
        "    # Save video frames.\n",
        "    if len(video) < data.time * framerate:\n",
        "      renderer.update_scene(data)\n",
        "      pixels = renderer.render()\n",
        "      video.append(pixels.copy())\n",
        "\n",
        "media.show_video(video, fps=framerate)"
      ]
    },
    {
      "cell_type": "code",
      "execution_count": null,
      "metadata": {
        "id": "qt2L52e_Tcgt"
      },
      "outputs": [],
      "source": [
        "#@title Movement trajectories{vertical-output: true}\n",
        "\n",
        "creature_colors = model.geom_rgba[torsos][:, :3]\n",
        "fig, ax = plt.subplots(figsize=(4, 4))\n",
        "ax.set_prop_cycle(color=creature_colors)\n",
        "_ = ax.plot(pos_x, pos_y, linewidth=4)"
      ]
    },
    {
      "cell_type": "markdown",
      "metadata": {
        "id": "kSEUoxifxYJ4"
      },
      "source": [
        "The plot above shows the corresponding movement trajectories of creature positions. Note how `mjSpec` attribute `id` were used to access both `xpos` and `rgba` values. This attribute is valid only after a model is compiled."
      ]
    },
    {
      "cell_type": "markdown",
      "metadata": {
        "id": "QZ8alJZz8cB1"
      },
      "source": [
        "# Model editing"
      ]
    },
    {
      "cell_type": "markdown",
      "metadata": {
        "id": "JN3Z4v0PyXKa"
      },
      "source": [
        "`mjSpec` elements can be traversed in two ways:\n",
        "- For elements inside the kinematic tree, the tree can be traversed using the `first` and `next` functions.\n",
        "- For all other elements, we provide a list.\n",
        "\n"
      ]
    },
    {
      "cell_type": "code",
      "execution_count": null,
      "metadata": {
        "id": "8IcB7nezblyT"
      },
      "outputs": [],
      "source": [
        "#@title Traversing the spec.{vertical-output: true}\n",
        "\n",
        "spec = mj.MjSpec.from_file(humanoid_file)\n",
        "\n",
        "# Function that recursively prints all body names\n",
        "def print_bodies(parent, level=0):\n",
        "  body = parent.first_body()\n",
        "  while body:\n",
        "    print(''.join(['-' for i in range(level)]) + body.name)\n",
        "    print_bodies(body, level + 1)\n",
        "    body = parent.next_body(body)\n",
        "\n",
        "print(\"The spec has the following actuators:\")\n",
        "for actuator in spec.actuators:\n",
        "  print(actuator.name)\n",
        "\n",
        "print(\"\\nThe spec has the following bodies:\")\n",
        "print_bodies(spec.worldbody)"
      ]
    },
    {
      "cell_type": "markdown",
      "metadata": {
        "id": "hcGI4orhyzvc"
      },
      "source": [
        "An `mjSpec` can be compiled multiple times. If the state has to be preserved between different compilations, then the function `recompile()` must be used, which returns a new `mjData` that contains the mapped state, possibly having a different dimension from the origin."
      ]
    },
    {
      "cell_type": "code",
      "execution_count": null,
      "metadata": {
        "id": "uh_N1Fkqk-Mi"
      },
      "outputs": [],
      "source": [
        "#@title Model re-compilation with state preservation.{vertical-output: true}\n",
        "\n",
        "spec = mj.MjSpec.from_file(humanoid100_file)\n",
        "model = spec.compile()\n",
        "data = mj.MjData(model)\n",
        "\n",
        "# Run for 5 seconds\n",
        "for i in range(1000):\n",
        "  mj.mj_step(model, data)\n",
        "\n",
        "# Show result\n",
        "render(model, data)\n",
        "\n",
        "# Create list of all bodies we want to delete\n",
        "body = spec.worldbody.first_body()\n",
        "delete_list = []\n",
        "while body:\n",
        "  geom_type = body.first_geom().type\n",
        "  if (geom_type == mj.mjtGeom.mjGEOM_BOX or\n",
        "      geom_type == mj.mjtGeom.mjGEOM_ELLIPSOID):\n",
        "    delete_list.append(body)\n",
        "  body = spec.worldbody.next_body(body)\n",
        "\n",
        "# Remove all bodies in the list from the spec\n",
        "for body in delete_list:\n",
        "  spec.detach_body(body)\n",
        "\n",
        "# # Add another humanoid\n",
        "spec_humanoid = mj.MjSpec.from_file(humanoid_file)\n",
        "attachment_frame = spec.worldbody.add_frame(pos=[0, -1, 2])\n",
        "attachment_frame.attach_body(spec_humanoid.find_body('torso'), 'a', 'b')\n",
        "\n",
        "# Recompile preserving the state\n",
        "new_model, new_data = spec.recompile(model, data)\n",
        "\n",
        "# Show result\n",
        "render(new_model, new_data)"
      ]
    },
    {
      "cell_type": "markdown",
      "metadata": {
        "id": "XmSlXirVzLqt"
      },
      "source": [
        "Let us load the humanoid model and inspect it."
      ]
    },
    {
      "cell_type": "code",
      "execution_count": null,
      "metadata": {
        "id": "UywMzsp5Hnk2"
      },
      "outputs": [],
      "source": [
        "#@title Humanoid model.{vertical-output: true}\n",
        "\n",
        "spec = mj.MjSpec.from_file(humanoid_file)\n",
        "\n",
        "model = spec.compile()\n",
        "render(model)"
      ]
    },
    {
      "cell_type": "markdown",
      "metadata": {
        "id": "owcmKeuSzQRy"
      },
      "source": [
        "We wish to remove the arms and replace them with the legs. This can be done by first storing the arm positions into frames attaches to the torso. Then we can detach the arms and self-attach the legs into the frames."
      ]
    },
    {
      "cell_type": "code",
      "execution_count": null,
      "metadata": {
        "id": "qZCyv-B0IGiG"
      },
      "outputs": [],
      "source": [
        "#@title Humanoid with arms replaced by legs.{vertical-output: true}\n",
        "\n",
        "spec = mj.MjSpec.from_file(humanoid_file)\n",
        "\n",
        "# Get the torso, arm, and leg bodies\n",
        "arm_left = spec.find_body('upper_arm_left')\n",
        "arm_right = spec.find_body('upper_arm_right')\n",
        "leg_left = spec.find_body('thigh_left')\n",
        "leg_right = spec.find_body('thigh_right')\n",
        "torso = spec.find_body('torso')\n",
        "\n",
        "# Attach frames at the arm positions\n",
        "shoulder_left = torso.add_frame(pos=arm_left.pos)\n",
        "shoulder_right = torso.add_frame(pos=arm_right.pos)\n",
        "\n",
        "# Remove the arms\n",
        "spec.detach_body(arm_left)\n",
        "spec.detach_body(arm_right)\n",
        "\n",
        "# Add new legs\n",
        "shoulder_left.attach_body(leg_left, 'shoulder', 'left')\n",
        "shoulder_right.attach_body(leg_right, 'shoulder', 'right')\n",
        "\n",
        "model = spec.compile()\n",
        "render(model, height=400)"
      ]
    },
    {
      "cell_type": "markdown",
      "metadata": {
        "id": "LnEwEjW3zdua"
      },
      "source": [
        "Similarly, different models can be attach together. Here, the right arm is detached and a robot arm from a different model is attached in its place."
      ]
    },
    {
      "cell_type": "code",
      "execution_count": null,
      "metadata": {
        "id": "w-NdFhSIIrLL"
      },
      "outputs": [],
      "source": [
        "#@title Humanoid with Franka arm.{vertical-output: true}\n",
        "\n",
        "spec = mj.MjSpec.from_file(humanoid_file)\n",
        "franka = mj.MjSpec.from_file(franka_file)\n",
        "\n",
        "if hasattr(spec, 'compiler'):\n",
        "  spec.compiler.degree = False  # MuJoCo dev (next release).\n",
        "else:\n",
        "  spec.degree = False  # MuJoCo release\n",
        "\n",
        "# Replace right arm with frame\n",
        "arm_right = spec.find_body('upper_arm_right')\n",
        "torso = spec.find_body('torso')\n",
        "shoulder_right = torso.add_frame(pos=arm_right.pos, quat=[0, 0.8509035, 0, 0.525322])\n",
        "spec.detach_body(arm_right)\n",
        "\n",
        "# Attach Franka arm to humanoid\n",
        "franka_arm = franka.find_body('fr3_link2')\n",
        "shoulder_right.attach_body(franka_arm, 'franka', '')\n",
        "\n",
        "model = spec.compile()\n",
        "render(model, height=400)"
      ]
    },
    {
      "cell_type": "markdown",
      "metadata": {
        "id": "e_idaggAznXu"
      },
      "source": [
        "When doing this, the actuators and all other objects referenced by the attached sub-tree are imported in the new model. All assets are currently imported, referenced or not."
      ]
    },
    {
      "cell_type": "code",
      "execution_count": null,
      "metadata": {
        "id": "50lOgJ7mQ2bV"
      },
      "outputs": [],
      "source": [
        "#@title Imported actuators.{vertical-output: true}\n",
        "\n",
        "for actuator in spec.actuators:\n",
        "  print(actuator.name)"
      ]
    },
    {
      "cell_type": "markdown",
      "metadata": {
        "id": "APDoWK4mz0aJ"
      },
      "source": [
        "Domain randomization can be performed by attaching multiple times the same spec, edited each time with a new instance of randomized parameters."
      ]
    },
    {
      "cell_type": "code",
      "execution_count": null,
      "metadata": {
        "id": "oHjdgkISNLKy"
      },
      "outputs": [],
      "source": [
        "#@title Humanoid with randomized heads and arm poses.{vertical-output: true}\n",
        "\n",
        "humanoid = mj.MjSpec.from_file(humanoid_file)\n",
        "spec = mj.MjSpec()\n",
        "\n",
        "# Delete all key frames to avoid name conflicts\n",
        "while humanoid.keys:\n",
        "  humanoid.keys[-1].delete()\n",
        "\n",
        "# Create a grid of humanoids by attaching humanoid to spec multiple times\n",
        "for i in range(4):\n",
        "  for j in range(4):\n",
        "    humanoid.materials[0].rgba = [\n",
        "        np.random.uniform(), np.random.uniform(),\n",
        "        np.random.uniform(), 1]  # Randomize color\n",
        "    humanoid.find_body('head').first_geom().size = [\n",
        "        .18*np.random.uniform(), 0, 0]  # Randomize head size\n",
        "    humanoid.find_body('upper_arm_left').quat = [\n",
        "        np.random.uniform(), np.random.uniform(),\n",
        "        np.random.uniform(), np.random.uniform()]  # Randomize left arm orientation\n",
        "    humanoid.find_body('upper_arm_right').quat = [\n",
        "        np.random.uniform(), np.random.uniform(),\n",
        "        np.random.uniform(), np.random.uniform()]  # Randomize right arm orientation\n",
        "\n",
        "    # attach randomized humanoid to parent spec\n",
        "    frame = spec.worldbody.add_frame(pos=[i, j, 0])\n",
        "    frame.attach_body(humanoid.find_body('torso'), str(i), str(j))\n",
        "\n",
        "spec.worldbody.add_light(mode=mj.mjtCamLight.mjCAMLIGHT_TARGETBODYCOM,\n",
        "                         targetbody='3torso3', diffuse=[.8, .8, .8],\n",
        "                         specular=[0.3, 0.3, 0.3], pos=[0, -6, 4], cutoff=30)\n",
        "model = spec.compile()\n",
        "render(model, height=400)"
      ]
    },
    {
      "cell_type": "markdown",
      "metadata": {
        "id": "eaEloZNMEYYH"
      },
      "source": [
        "### Creating kinematic tree"
      ]
    },
    {
      "cell_type": "code",
      "source": [
        "def create_tree(root_body,props:typing.List[dict]):\n",
        "  body = root_body\n",
        "  for prop in props:\n",
        "    body = body.add_body(**prop['body'])\n",
        "    for g in prop['geoms']:\n",
        "      body.add_geom(**g)\n",
        "\n",
        "    if 'joint' in prop.keys():\n",
        "      body.add_joint(**prop['joint'])"
      ],
      "metadata": {
        "id": "5HX57xMWQCM0"
      },
      "execution_count": null,
      "outputs": []
    },
    {
      "cell_type": "markdown",
      "source": [
        "### Replicating Leap Hand - first Attempt"
      ],
      "metadata": {
        "id": "PYib6hIht12g"
      }
    },
    {
      "cell_type": "code",
      "execution_count": null,
      "metadata": {
        "id": "pyy2q_mSVAX1"
      },
      "outputs": [],
      "source": [
        "\n",
        "\n",
        "class Finger(object):\n",
        "  def __init__(self,asset_path:str,filenames:typing.List[str]):\n",
        "    self.spec = mj.MjSpec()\n",
        "    self.model = self.spec.worldbody\n",
        "\n",
        "    # add meshes\n",
        "    for filename in filenames:\n",
        "      self.spec.add_mesh(name=filename, file=asset_path+filename+'.stl')\n",
        "\n",
        "    # add material\n",
        "    self.spec.add_material(name='black',rgba=[.2, .2, .2, 1])\n",
        "\n",
        "    # defaults\n",
        "    main = self.spec.default()\n",
        "\n",
        "    main.geom.type = mj.mjtGeom.mjGEOM_MESH\n",
        "\n",
        "    main.joint.axis = [0, 0, -1]\n",
        "    main.joint.armature = 0.01\n",
        "\n",
        "    # main.position.inheritrange = 1\n",
        "    # main.position.kp = 20\n",
        "    # main.position.dampratio = 1\n",
        "\n",
        "    def_collision = self.spec.add_default('collision',main)\n",
        "    def_collision.geom.group = 3\n",
        "\n",
        "    def_visual = self.spec.add_default('visual',main)\n",
        "    def_visual.geom.group = 2\n",
        "    def_visual.contype = 0\n",
        "    def_visual.conaffinity = 0\n",
        "    def_visual.density = 0\n",
        "    def_visual.material = 'black'\n",
        "\n",
        "    # mcp_joint data\n",
        "    mcp_joint = {\n",
        "      'body':{\n",
        "        # inertia\n",
        "        'mass':0.044,\n",
        "        'iquat':[0.388585, 0.626468, -0.324549, 0.592628],\n",
        "        'inertia': [1.47756e-05, 1.31982e-05, 6.0802e-06]\n",
        "      },\n",
        "      'joint':{\n",
        "        'name':'1',\n",
        "        'range':[-0.314, 2.23],\n",
        "        'actuatorfrcrange':[-0.95, 0.95]\n",
        "      },\n",
        "      'geoms':[\n",
        "        {\n",
        "        'pos':[0.0084069, 0.00776624, 0.0146574],\n",
        "        'quat':[1, 0, 0, 0],\n",
        "        'meshname':'mcp_joint',\n",
        "        'classname':'visual'\n",
        "\n",
        "        },\n",
        "        {\n",
        "          'pos':[0.0084069, 0.00776624, 0.0146574],\n",
        "          'quat':[1, 0, 0, 0],\n",
        "          'meshname':'mcp_joint',\n",
        "          'classname':'collision'\n",
        "        }\n",
        "      ]\n",
        "    }\n",
        "    # pip data\n",
        "    pip = {\n",
        "      'body':{\n",
        "        'pos':[-0.0122, 0.0381, 0.0145],\n",
        "        'quat':[1, -1, -1, 1],\n",
        "        # inertia\n",
        "        'mass':0.032,\n",
        "        'iquat':[0.709913, 0.704273, -0.000363156, 0.00475427],\n",
        "        'inertia': [4.7981e-06, 4.23406e-06, 2.86184e-06]\n",
        "      },\n",
        "      'joint':{\n",
        "        'name':'0',\n",
        "        'range':[-1.047, 1.047],\n",
        "        'actuatorfrcrange':[-0.95, 0.95]\n",
        "      },\n",
        "      'geoms':[\n",
        "        {\n",
        "        'pos':[0.00964336, 0.0003, 0.000784034],\n",
        "        'quat':[1, -1, -1, -1],\n",
        "        'meshname':'pip',\n",
        "        'classname':'visual'\n",
        "        },\n",
        "        {\n",
        "          'pos':[0.00964336, 0.0003, 0.000784034],\n",
        "          'quat':[1, -1, -1, -1],\n",
        "          'meshname':'pip',\n",
        "          'classname':'collision'\n",
        "        }\n",
        "      ]\n",
        "    }\n",
        "    # dip data\n",
        "    dip = {\n",
        "      'body':{\n",
        "        'pos':[0.015, 0.0143, -0.013],\n",
        "        'quat':[1, 1, -1, 1],\n",
        "        # inertia\n",
        "        'mass':0.037,\n",
        "        'iquat':[-0.252689, 0.659216, 0.238844, 0.666735],\n",
        "        'inertia': [6.68256e-06, 6.24841e-06, 5.02002e-06]\n",
        "      },\n",
        "      'joint':{\n",
        "        'name':'2',\n",
        "        'range':[-0.506, 1.885],\n",
        "        'actuatorfrcrange':[-0.95, 0.95]\n",
        "      },\n",
        "      'geoms':[\n",
        "        {\n",
        "        'pos':[0.0211334, -0.00843212, 0.00978509],\n",
        "        'quat':[0, -1, 0, 0],\n",
        "        'meshname':'dip',\n",
        "        'classname':'visual'\n",
        "        },\n",
        "        {\n",
        "          'pos':[0.0211334, -0.00843212, 0.00978509],\n",
        "          'quat':[0, -1, 0, 0],\n",
        "          'meshname':'dip',\n",
        "          'classname':'collision'\n",
        "        }\n",
        "      ]\n",
        "    }\n",
        "    # fingertip\n",
        "    fingertip = {\n",
        "      'body':{\n",
        "        'pos':[-4.08806e-09, -0.0361, 0.0002],\n",
        "        # inertia\n",
        "        'mass':0.016,\n",
        "        'iquat':[0.706755, 0.706755, 0.0223155, 0.0223155],\n",
        "        'inertia': [3.37527e-06, 2.863e-06, 1.54873e-06]\n",
        "      },\n",
        "      'joint':{\n",
        "        'name':'3',\n",
        "        'range':[-0.366, 2.042],\n",
        "        'actuatorfrcrange':[-0.95, 0.95]\n",
        "      },\n",
        "      'geoms':[\n",
        "        {\n",
        "        'pos':[0.0132864, -0.00611424, 0.0145],\n",
        "        'quat':[0, 1, 0, 0],\n",
        "        'meshname':'fingertip',\n",
        "        'classname':'visual'\n",
        "        },\n",
        "        {\n",
        "          'pos':[0.0132864, -0.00611424, 0.0145],\n",
        "          'quat':[0, 1, 0, 0],\n",
        "          'meshname':'fingertip',\n",
        "          'classname':'collision'\n",
        "        }\n",
        "      ]\n",
        "    }\n",
        "\n",
        "    # tree\n",
        "    props = [mcp_joint, pip, dip, fingertip]\n",
        "    create_tree(self.model,props)\n",
        "\n",
        "\n",
        "FF = Finger(leap_assets,['mcp_joint','pip','dip','fingertip'])\n",
        "\n",
        "\n",
        "\n",
        "\n"
      ]
    },
    {
      "cell_type": "markdown",
      "source": [
        "### Replicating Leap hand - clean design"
      ],
      "metadata": {
        "id": "vmEYvLaNr-Nw"
      }
    },
    {
      "cell_type": "code",
      "source": [
        "class FingerAlt(object):\n",
        "  def __init__(self,props,asset_path:str,filenames:typing.List[str]):\n",
        "    self.spec = mj.MjSpec()\n",
        "    self.model = self.spec.worldbody\n",
        "\n",
        "    # add meshes\n",
        "    for filename in filenames:\n",
        "      self.spec.add_mesh(name=filename, file=asset_path+filename+'.stl')\n",
        "\n",
        "    # add material\n",
        "    self.spec.add_material(name='black',rgba=[.2, .2, .2, 1])\n",
        "\n",
        "    # defaults\n",
        "    main = self.spec.default()\n",
        "\n",
        "    main.geom.type = mj.mjtGeom.mjGEOM_MESH\n",
        "\n",
        "    main.joint.axis = [0, 0, -1]\n",
        "    main.joint.armature = 0.01\n",
        "\n",
        "    # creating tree\n",
        "    create_tree(self.model,props)\n",
        "\n",
        "\n"
      ],
      "metadata": {
        "id": "5OvhoFDBFO-C"
      },
      "execution_count": null,
      "outputs": []
    },
    {
      "cell_type": "markdown",
      "source": [
        "### Loading Leap hand data"
      ],
      "metadata": {
        "id": "YckQTW8Vozy3"
      }
    },
    {
      "cell_type": "code",
      "source": [
        "with open(leap_data_file, 'r') as file:\n",
        "    leap_data = json.load(file)\n",
        "\n",
        "print(leap_data)"
      ],
      "metadata": {
        "id": "QgtCRCcyo5dl"
      },
      "execution_count": null,
      "outputs": []
    },
    {
      "cell_type": "markdown",
      "source": [
        "### Creating Finger"
      ],
      "metadata": {
        "id": "9CPs8ELKYfdF"
      }
    },
    {
      "cell_type": "code",
      "source": [
        "# default data\n",
        "geom_vis_default = leap_data['geom_vis_default']\n",
        "geom_col_default = leap_data['geom_col_default']"
      ],
      "metadata": {
        "id": "Sz8kGHjSbYrM"
      },
      "execution_count": null,
      "outputs": []
    },
    {
      "cell_type": "code",
      "source": [
        "ff_props = [leap_data['mcp_joint'],\n",
        "            leap_data['pip'],\n",
        "            leap_data['dip'],\n",
        "            leap_data['fingertip']\n",
        "]\n",
        "# adding defaults to visual geoms\n",
        "for prop in ff_props:\n",
        "  prop['geoms'][0] |= geom_vis_default\n",
        "  prop['geoms'][1] |= geom_col_default\n",
        "\n",
        "ff_filenames = ['mcp_joint','pip','dip','fingertip']\n",
        "\n",
        "FF = FingerAlt(ff_props,leap_assets,ff_filenames)\n",
        "FF.spec.worldbody.add_light(name=\"top\", pos=[0, 0, 1])\n",
        "model = FF.spec.compile()\n",
        "FF.spec.to_xml()\n",
        "\n",
        "render(model, height=400)"
      ],
      "metadata": {
        "id": "zp3Aihu5RNNH"
      },
      "execution_count": null,
      "outputs": []
    },
    {
      "cell_type": "markdown",
      "source": [
        "### Creating Thumb"
      ],
      "metadata": {
        "id": "BoMJCJ0FYiTF"
      }
    },
    {
      "cell_type": "code",
      "source": [
        "th_props = [leap_data['pip_4'],\n",
        "            leap_data['thumb_pip'],\n",
        "            leap_data['thumb_dip'],\n",
        "            leap_data['thumb_fingertip']\n",
        "]\n",
        "th_filenames = ['pip','thumb_pip','thumb_dip','thumb_fingertip']\n",
        "TH = FingerAlt(th_props,leap_assets,th_filenames)\n",
        "TH.spec.worldbody.add_light(name=\"top\", pos=[0, 0, 1])\n",
        "model = TH.spec.compile()\n",
        "TH.spec.to_xml()\n",
        "\n",
        "render(model, height=400)"
      ],
      "metadata": {
        "id": "RUygmvPPX_7e"
      },
      "execution_count": null,
      "outputs": []
    },
    {
      "cell_type": "code",
      "source": [
        "class Hand(object):\n",
        "  def __init__(self,asset_path:str,finger_data:dict,thumb_data:dict):\n",
        "    self.spec = mj.MjSpec()\n",
        "\n",
        "    # defaults\n",
        "    main = self.spec.default()\n",
        "\n",
        "    main.geom.type = mj.mjtGeom.mjGEOM_MESH\n",
        "    # add mesh\n",
        "    self.spec.add_mesh(name='palm_lower', file=asset_path+'palm_lower_left.stl')\n",
        "\n",
        "    # add material\n",
        "    self.spec.add_material(name='black',rgba=[.2, .2, .2, 1])\n",
        "\n",
        "    self.model = self.spec.worldbody\n",
        "    body = self.model.add_body(pos=[0, 0, .1],quat=[0, 1, 0, 0],\n",
        "                               iquat=[0.704257, -0.0014136, 0.00678547, 0.709911],\n",
        "                               mass=0.235,\n",
        "                               inertia = [0.000523252, 0.000351001, 0.000256955]\n",
        "                               )\n",
        "    geom_prop = {\n",
        "        'pos':[-0.0955742, -0.11704, 0.0207796],\n",
        "        'quat':[0, 0, 1, 1],\n",
        "        'meshname':'palm_lower'\n",
        "    }\n",
        "    vis_prop = geom_prop| geom_vis_default\n",
        "    col_prop = geom_prop| geom_col_default\n",
        "\n",
        "    #visual\n",
        "    body.add_geom(**vis_prop)\n",
        "    #collision\n",
        "    body.add_geom(**col_prop)\n",
        "\n",
        "    # Frames\n",
        "    finger_frame_quat = [1, 1, 1, -1]\n",
        "    thumb_frame_quat = [1, 0, 1, 0]\n",
        "    frames = [\n",
        "        [-0.0825742, -0.08574, 0.00780089],\n",
        "        [-0.0825742, -0.04029, 0.00780089],\n",
        "        [-0.0825742, 0.00515999, 0.00780089],\n",
        "        [-0.144874, -0.09004, 0.00490089]\n",
        "    ]\n",
        "\n",
        "    # attaching fingers\n",
        "    for idx,frame in enumerate(frames[:-1]):\n",
        "      f = body.add_frame(pos=frame, quat=finger_frame_quat)\n",
        "      f.attach_body(FingerAlt(finger_data['props'],asset_path,finger_data['filenames']).model,'a_'+str(idx),'b_'+str(idx))\n",
        "    # attaching thumb\n",
        "    f = body.add_frame(pos=frames[-1], quat=thumb_frame_quat)\n",
        "    f.attach_body(FingerAlt(thumb_data['props'],asset_path,thumb_data['filenames']).model,'a_thumb','b_thumb')\n",
        "\n",
        "\n"
      ],
      "metadata": {
        "id": "TvrhH3xkeceN"
      },
      "execution_count": null,
      "outputs": []
    },
    {
      "cell_type": "code",
      "source": [
        "duration = 10   # (Seconds)\n",
        "framerate = 100  # (Hz)\n",
        "video = []\n",
        "\n",
        "finger_data = {\n",
        "    'props':ff_props,\n",
        "    'filenames':ff_filenames\n",
        "}\n",
        "thumb_data = {\n",
        "    'props':th_props,\n",
        "    'filenames':th_filenames\n",
        "}\n",
        "hand = Hand(leap_assets,finger_data,thumb_data)\n",
        "hand.spec.worldbody.add_light(name=\"top\", pos=[0, 0, 1])\n",
        "model = hand.spec.compile()\n",
        "\n",
        "# enable contact visualization option:\n",
        "scene_option = mj.MjvOption()\n",
        "scene_option.flags[mj.mjtVisFlag.mjVIS_CONTACTPOINT] = True\n",
        "#Mamad: How do I enable the lablels for body?\n",
        "scene_option.flags[mj.mjtLabel.mjLABEL_BODY] = True\n",
        "\n",
        "\n",
        "# Simulate, saving video frames and torso locations.\n",
        "data = mj.MjData(model)\n",
        "mj.mj_resetData(model, data)\n",
        "with mj.Renderer(model,height=480,width=640) as renderer:\n",
        "  while data.time < duration:\n",
        "    mj.mj_step(model, data)\n",
        "\n",
        "\n",
        "    # Save video frames.\n",
        "    if len(video) < data.time * framerate:\n",
        "      renderer.update_scene(data, scene_option=scene_option)\n",
        "      pixels = renderer.render()\n",
        "      video.append(pixels.copy())\n",
        "\n",
        "media.show_video(video, fps=framerate)"
      ],
      "metadata": {
        "id": "IIpv1rq8hdmw"
      },
      "execution_count": null,
      "outputs": []
    },
    {
      "cell_type": "markdown",
      "source": [
        "### Adding contact exclude"
      ],
      "metadata": {
        "id": "Uekft-__SQn1"
      }
    },
    {
      "cell_type": "code",
      "source": [
        "class HandWithContactExcluded(object):\n",
        "  def __init__(self,asset_path:str,finger_data:dict,thumb_data:dict):\n",
        "    self.spec = mj.MjSpec()\n",
        "\n",
        "    # defaults\n",
        "    main = self.spec.default()\n",
        "\n",
        "    main.geom.type = mj.mjtGeom.mjGEOM_MESH\n",
        "    # add mesh\n",
        "    self.spec.add_mesh(name='palm_lower', file=asset_path+'palm_lower_left.stl')\n",
        "\n",
        "    # add material\n",
        "    self.spec.add_material(name='black',rgba=[.2, .2, .2, 1])\n",
        "\n",
        "    self.model = self.spec.worldbody\n",
        "    body = self.model.add_body(pos=[0, 0, .1],quat=[0, 1, 0, 0],\n",
        "                               iquat=[0.704257, -0.0014136, 0.00678547, 0.709911],\n",
        "                               mass=0.235,\n",
        "                               inertia = [0.000523252, 0.000351001, 0.000256955]\n",
        "                               )\n",
        "    geom_prop = {\n",
        "        'pos':[-0.0955742, -0.11704, 0.0207796],\n",
        "        'quat':[0, 0, 1, 1],\n",
        "        'meshname':'palm_lower'\n",
        "    }\n",
        "    vis_prop = geom_prop| geom_vis_default\n",
        "    col_prop = geom_prop| geom_col_default\n",
        "\n",
        "    #visual\n",
        "    body.add_geom(**vis_prop)\n",
        "    #collision\n",
        "    body.add_geom(**col_prop)\n",
        "\n",
        "    # Frames\n",
        "    finger_frame_quat = [1, 1, 1, -1]\n",
        "    thumb_frame_quat = [1, 0, 1, 0]\n",
        "    frames = [\n",
        "        [-0.0825742, -0.08574, 0.00780089],\n",
        "        [-0.0825742, -0.04029, 0.00780089],\n",
        "        [-0.0825742, 0.00515999, 0.00780089],\n",
        "        [-0.144874, -0.09004, 0.00490089]\n",
        "    ]\n",
        "\n",
        "    # attaching fingers\n",
        "    for idx,frame in enumerate(frames[:-1]):\n",
        "      f = body.add_frame(pos=frame, quat=finger_frame_quat)\n",
        "      f.attach_body(FingerAlt(finger_data['props'],asset_path,finger_data['filenames']).model,'a_'+str(idx),'b_'+str(idx))\n",
        "    # attaching thumb\n",
        "    f = body.add_frame(pos=frames[-1], quat=thumb_frame_quat)\n",
        "    f.attach_body(FingerAlt(thumb_data['props'],asset_path,thumb_data['filenames']).model,'a_thumb','b_thumb')\n",
        "\n",
        "    # TODO:\n",
        "    # excluding contact\n",
        "    #  <contact>\n",
        "    #     <exclude body1=\"palm_lower\" body2=\"mcp_joint\"/>\n",
        "    # </contact>\n"
      ],
      "metadata": {
        "id": "3OuRMqc-jI48"
      },
      "execution_count": null,
      "outputs": []
    }
  ],
  "metadata": {
    "accelerator": "GPU",
    "colab": {
      "collapsed_sections": [
        "sJFuNetilv4m"
      ],
      "gpuClass": "premium",
      "private_outputs": true,
      "provenance": []
    },
    "gpuClass": "premium",
    "kernelspec": {
      "display_name": "Python 3",
      "name": "python3"
    },
    "language_info": {
      "codemirror_mode": {
        "name": "ipython",
        "version": 3
      },
      "file_extension": ".py",
      "mimetype": "text/x-python",
      "name": "python",
      "nbconvert_exporter": "python",
      "pygments_lexer": "ipython3",
      "version": "3.11.9"
    }
  },
  "nbformat": 4,
  "nbformat_minor": 0
}
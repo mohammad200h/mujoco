{
  "cells": [
    {
      "cell_type": "markdown",
      "metadata": {
        "id": "klCa_-bdiWv5"
      },
      "source": [
        "![MuJoCo banner](https://raw.githubusercontent.com/google-deepmind/mujoco/main/banner.png)\n",
        "\n",
        "# <h1><center>Model Editing  <a href=\"https://colab.research.google.com/github/google-deepmind/mujoco/blob/main/python/mjspec.ipynb\"><img src=\"https://colab.research.google.com/assets/colab-badge.svg\" width=\"140\" align=\"center\"/></a></center></h1>\n",
        "\n",
        "This notebook provides an introductory tutorial for model editing in MuJoCo using the `mjSpec` API. This notebook assumes that the reader is already familiar with MuJoCo basic concepts, as demostrated in the [introductory tutorial](https://github.com/google-deepmind/mujoco?tab=readme-ov-file#getting-started). Documentation for this API can be found in the [Model Editing](https://mujoco.readthedocs.io/en/latest/programming/modeledit.html) chapter in the documentation (C API) and in the [Python chapter](https://mujoco.readthedocs.io/en/latest/python.html#model-editing). Here we use the Python API.\n",
        "\n",
        "The goal of the API is to allow users to easily interact with and modify MuJoCo\n",
        "models in Python, similarly to what the JavaScript DOM does for HTML.\n",
        "\n",
        "<!-- Copyright 2024 DeepMind Technologies Limited\n",
        "\n",
        "     Licensed under the Apache License, Version 2.0 (the \"License\");\n",
        "     you may not use this file except in compliance with the License.\n",
        "     You may obtain a copy of the License at\n",
        "\n",
        "         http://www.apache.org/licenses/LICENSE-2.0\n",
        "\n",
        "     Unless required by applicable law or agreed to in writing, software\n",
        "     distributed under the License is distributed on an \"AS IS\" BASIS,\n",
        "     WITHOUT WARRANTIES OR CONDITIONS OF ANY KIND, either express or implied.\n",
        "     See the License for the specific language governing permissions and\n",
        "     limitations under the License.\n",
        "-->\n"
      ]
    },
    {
      "cell_type": "markdown",
      "metadata": {
        "id": "sJFuNetilv4m"
      },
      "source": [
        "## All imports"
      ]
    },
    {
      "cell_type": "code",
      "execution_count": null,
      "metadata": {
        "id": "ArmOx3cBDvFR"
      },
      "outputs": [],
      "source": [
        "!pip install mujoco\n",
        "\n",
        "# Set up GPU rendering.\n",
        "from google.colab import files\n",
        "import distutils.util\n",
        "import os\n",
        "import subprocess\n",
        "if subprocess.run('nvidia-smi').returncode:\n",
        "  raise RuntimeError(\n",
        "      'Cannot communicate with GPU. '\n",
        "      'Make sure you are using a GPU Colab runtime. '\n",
        "      'Go to the Runtime menu and select Choose runtime type.')\n",
        "\n",
        "# Add an ICD config so that glvnd can pick up the Nvidia EGL driver.\n",
        "# This is usually installed as part of an Nvidia driver package, but the Colab\n",
        "# kernel doesn't install its driver via APT, and as a result the ICD is missing.\n",
        "# (https://github.com/NVIDIA/libglvnd/blob/master/src/EGL/icd_enumeration.md)\n",
        "NVIDIA_ICD_CONFIG_PATH = '/usr/share/glvnd/egl_vendor.d/10_nvidia.json'\n",
        "if not os.path.exists(NVIDIA_ICD_CONFIG_PATH):\n",
        "  with open(NVIDIA_ICD_CONFIG_PATH, 'w') as f:\n",
        "    f.write(\"\"\"{\n",
        "    \"file_format_version\" : \"1.0.0\",\n",
        "    \"ICD\" : {\n",
        "        \"library_path\" : \"libEGL_nvidia.so.0\"\n",
        "    }\n",
        "}\n",
        "\"\"\")\n",
        "\n",
        "# Configure MuJoCo to use the EGL rendering backend (requires GPU)\n",
        "print('Setting environment variable to use GPU rendering:')\n",
        "%env MUJOCO_GL=egl\n",
        "\n",
        "# Check if installation was succesful.\n",
        "try:\n",
        "  print('Checking that the installation succeeded:')\n",
        "  import mujoco as mj\n",
        "  mj.MjModel.from_xml_string('<mujoco/>')\n",
        "except Exception as e:\n",
        "  raise e from RuntimeError(\n",
        "      'Something went wrong during installation. Check the shell output above '\n",
        "      'for more information.\\n'\n",
        "      'If using a hosted Colab runtime, make sure you enable GPU acceleration '\n",
        "      'by going to the Runtime menu and selecting \"Choose runtime type\".')\n",
        "\n",
        "print('Installation successful.')\n",
        "\n",
        "# Other imports and helper functions\n",
        "import time\n",
        "import itertools\n",
        "import numpy as np\n",
        "import typing\n",
        "import dataclasses\n",
        "import random\n",
        "import math\n",
        "\n",
        "# Graphics and plotting.\n",
        "print('Installing mediapy:')\n",
        "!command -v ffmpeg >/dev/null || (apt update && apt install -y ffmpeg)\n",
        "!pip install -q mediapy\n",
        "import mediapy as media\n",
        "import matplotlib.pyplot as plt\n",
        "\n",
        "# More legible printing from numpy.\n",
        "np.set_printoptions(precision=3, suppress=True, linewidth=100)\n",
        "\n",
        "from IPython.display import clear_output\n",
        "clear_output()\n",
        "\n",
        "from pygments import highlight\n",
        "from pygments.lexers import XmlLexer\n",
        "from pygments.formatters import HtmlFormatter\n",
        "from IPython.core.display import HTML, display\n",
        "\n",
        "def print_xml(xml_string):\n",
        "    formatter = HtmlFormatter(style='lovelace')\n",
        "    highlighted_xml = highlight(xml_string, XmlLexer(), formatter)\n",
        "    display(HTML(f\"<style>{formatter.get_style_defs()}</style>{highlighted_xml}\"))\n",
        "\n",
        "import matplotlib.pyplot as plt\n",
        "import matplotlib.animation as animation\n",
        "\n",
        "def render(model, data=None, height=250):\n",
        "  if data is None:\n",
        "    data = mj.MjData(model)\n",
        "  with mj.Renderer(model, 480, 640) as renderer:\n",
        "    mj.mj_forward(model, data)\n",
        "    renderer.update_scene(data)\n",
        "    media.show_image(renderer.render(), height=height)\n"
      ]
    },
    {
      "cell_type": "markdown",
      "metadata": {
        "id": "iJRNczuyHbuc"
      },
      "source": [
        "# Parsing XML to `mjSpec` and compiling to `mjModel`\n"
      ]
    },
    {
      "cell_type": "markdown",
      "metadata": {
        "id": "MYPbnl3mxvDj"
      },
      "source": [
        "Unlike `mj_loadXML` which combines parsing and compiling, when using `mjSpec`, parsing and compiling are separate, allowing for editing steps:"
      ]
    },
    {
      "cell_type": "code",
      "execution_count": null,
      "metadata": {
        "id": "oummB7I7EfSq"
      },
      "outputs": [],
      "source": [
        "#@title A static model, from string {vertical-output: true}\n",
        "\n",
        "static_model = \"\"\"\n",
        "<mujoco>\n",
        "  <worldbody>\n",
        "    <light name=\"top\" pos=\"0 0 1\"/>\n",
        "    <geom name=\"red_box\" type=\"box\" size=\".2 .2 .2\" rgba=\"1 0 0 1\"/>\n",
        "    <geom name=\"green_sphere\" pos=\".2 .2 .2\" size=\".1\" rgba=\"0 1 0 1\"/>\n",
        "  </worldbody>\n",
        "</mujoco>\n",
        "\"\"\"\n",
        "spec = mj.MjSpec.from_string(static_model)\n",
        "model = spec.compile()\n",
        "render(model)\n",
        "\n",
        "# Change the mjSpec, re-compile and re-render\n",
        "geoms = spec.worldbody.find_all(mj.mjtObj.mjOBJ_GEOM)\n",
        "geoms[0].name = 'blue_box'\n",
        "geoms[0].rgba = [0, 0, 1, 1]\n",
        "geoms[1].name = 'yellow_sphere'\n",
        "geoms[1].rgba = [1, 1, 0, 1]\n",
        "spec.worldbody.add_geom(name='magenta cylinder',\n",
        "                        type=mj.mjtGeom.mjGEOM_CYLINDER,\n",
        "                        rgba=[1, 0, 1, 1],\n",
        "                        pos=[-.2, 0, .2],\n",
        "                        size=[.1, .1, 0])\n",
        "\n",
        "model = spec.compile()\n",
        "render(model)"
      ]
    },
    {
      "cell_type": "markdown",
      "metadata": {
        "id": "Tw_yUwqxKwCI"
      },
      "source": [
        "`mjSpec` can save XML to string, saving all modifications."
      ]
    },
    {
      "cell_type": "code",
      "execution_count": null,
      "metadata": {
        "id": "_7HAcWqNGwyw"
      },
      "outputs": [],
      "source": [
        "#@title Print an XML from an `mjSpec` {vertical-output: true}\n",
        "\n",
        "print_xml(spec.to_xml())"
      ]
    },
    {
      "cell_type": "code",
      "execution_count": null,
      "metadata": {
        "id": "A6EHNulmFHFI"
      },
      "outputs": [],
      "source": [
        "#@title Building an `mjSpec` from scratch {vertical-output: true}\n",
        "\n",
        "spec = mj.MjSpec()\n",
        "spec.worldbody.add_light(name=\"top\", pos=[0, 0, 1])\n",
        "body = spec.worldbody.add_body(name=\"box_and_sphere\", euler=[0, 0, -30])\n",
        "body.add_joint(name=\"swing\", type=mj.mjtJoint.mjJNT_HINGE,\n",
        "               axis=[1, -1, 0], pos=[-.2, -.2, -.2])\n",
        "body.add_geom(name=\"red_box\", type=mj.mjtGeom.mjGEOM_BOX,\n",
        "              size=[.2, .2, .2], rgba=[1, 0, 0, 1])\n",
        "body.add_geom(name=\"green_sphere\", pos=[.2, .2, .2],\n",
        "              size=[.1, 0, 0], rgba=[0, 1, 0, 1])\n",
        "model = spec.compile()\n",
        "\n",
        "duration = 2    # (seconds)\n",
        "framerate = 30  # (Hz)\n",
        "\n",
        "# enable joint visualization option:\n",
        "scene_option = mj.MjvOption()\n",
        "scene_option.flags[mj.mjtVisFlag.mjVIS_JOINT] = True\n",
        "\n",
        "# Simulate and display video.\n",
        "frames = []\n",
        "data = mj.MjData(model)\n",
        "mj.mj_resetData(model, data)\n",
        "with mj.Renderer(model) as renderer:\n",
        "  while data.time < duration:\n",
        "    mj.mj_step(model, data)\n",
        "    if len(frames) < data.time * framerate:\n",
        "      renderer.update_scene(data, scene_option=scene_option)\n",
        "      pixels = renderer.render()\n",
        "      frames.append(pixels)\n",
        "\n",
        "media.show_video(frames, fps=framerate)\n"
      ]
    },
    {
      "cell_type": "markdown",
      "metadata": {
        "id": "3N4YEIVt75_T"
      },
      "source": [
        "# Control example"
      ]
    },
    {
      "cell_type": "markdown",
      "metadata": {
        "id": "TcQuv56BwaJf"
      },
      "source": [
        "A key feature of this library is the ability to easily attach multiple models into a larger one. Disambiguation of duplicated names from different\n",
        "models, or multiple instances of the same model, is handled via user-defined namespacing.\n",
        "\n",
        "One example use case is when we want robots with a variable number of joints, as is a fundamental change to the kinematic structure. The following snippets realise this scenario."
      ]
    },
    {
      "cell_type": "code",
      "execution_count": null,
      "metadata": {
        "id": "7C-hfbtj8nRV"
      },
      "outputs": [],
      "source": [
        "leg_model = \"\"\"\n",
        "<mujoco>\n",
        "  <compiler angle=\"radian\"/>\n",
        "\n",
        "  <default>\n",
        "    <joint damping=\"2\" type=\"hinge\"/>\n",
        "    <geom type=\"capsule\"/>\n",
        "  </default>\n",
        "\n",
        "  <worldbody>\n",
        "    <body name=\"thigh\">\n",
        "      <joint name=\"hip\" axis=\"0 0 1\"/>\n",
        "      <body name=\"shin\">\n",
        "        <joint name=\"knee\" axis=\"0 1 0\"/>\n",
        "      </body>\n",
        "    </body>\n",
        "  </worldbody>\n",
        "\n",
        "  <actuator>\n",
        "    <position joint=\"hip\" kp=\"10\"/>\n",
        "    <position joint=\"knee\" kp=\"10\"/>\n",
        "  </actuator>\n",
        "</mujoco>\n",
        "\"\"\"\n",
        "\n",
        "class Leg(object):\n",
        "  \"\"\"A 2-DoF leg with position actuators.\"\"\"\n",
        "  def __init__(self, length, rgba):\n",
        "    self.spec = mj.MjSpec.from_string(leg_model)\n",
        "\n",
        "    # Thigh:\n",
        "    thigh = self.spec.find_body('thigh')\n",
        "    thigh.add_geom(fromto=[0, 0, 0, length, 0, 0], size=[length/4, 0, 0], rgba=rgba)\n",
        "\n",
        "    # Hip:\n",
        "    shin = self.spec.find_body('shin')\n",
        "    shin.add_geom(fromto=[0, 0, 0, 0, 0, -length], size=[length/5, 0, 0], rgba=rgba)\n",
        "    shin.pos[0] = length"
      ]
    },
    {
      "cell_type": "markdown",
      "metadata": {
        "id": "MQGsxnIB_RLO"
      },
      "source": [
        "The `Leg` class describes an abstract articulated leg, with two joints and corresponding proportional-derivative actuators.\n",
        "\n",
        "Note that:\n",
        "\n",
        "- MJCF attributes correspond directly to arguments of the `add_()` methods.\n",
        "- When referencing elements, e.g when specifying the joint to which an actuator is attached, the name string of the MJCF elements is used."
      ]
    },
    {
      "cell_type": "code",
      "execution_count": null,
      "metadata": {
        "id": "kMiuMyZW_XoB"
      },
      "outputs": [],
      "source": [
        "BODY_RADIUS = 0.1\n",
        "random_state = np.random.RandomState(42)\n",
        "creature_model = \"\"\"\n",
        "<mujoco>\n",
        "  <compiler angle=\"radian\"/>\n",
        "\n",
        "  <worldbody>\n",
        "    <geom name=\"torso\" type=\"ellipsoid\" size=\"{} {} {}\"/>\n",
        "  </worldbody>\n",
        "</mujoco>\n",
        "\"\"\".format(BODY_RADIUS, BODY_RADIUS, BODY_RADIUS / 2)\n",
        "\n",
        "def make_creature(num_legs):\n",
        "  \"\"\"Constructs a creature with `num_legs` legs.\"\"\"\n",
        "  rgba = random_state.uniform([0, 0, 0, 1], [1, 1, 1, 1])\n",
        "  spec = mj.MjSpec.from_string(creature_model)\n",
        "\n",
        "  # Attach legs to equidistant sites on the circumference.\n",
        "  spec.worldbody.first_geom().rgba = rgba\n",
        "  leg = Leg(length=BODY_RADIUS, rgba=rgba)\n",
        "  for i in range(num_legs):\n",
        "    theta = 2 * i * np.pi / num_legs\n",
        "    hip_pos = BODY_RADIUS * np.array([np.cos(theta), np.sin(theta), 0])\n",
        "    hip_site = spec.worldbody.add_site(pos=hip_pos, euler=[0, 0, theta])\n",
        "    hip_site.attach(leg.spec.find_body('thigh'), '', '-' + str(i))\n",
        "\n",
        "  return spec"
      ]
    },
    {
      "cell_type": "markdown",
      "metadata": {
        "id": "QMQ3jc6-_toj"
      },
      "source": [
        "The `make_creature` function uses the `attach()` method to procedurally attach legs to the torso. Note that at this stage both the torso and hip attachment sites are children of the `worldbody`, since their parent body has yet to be instantiated. We'll now make an arena with a chequered floor and two lights, and place our creatures in a grid."
      ]
    },
    {
      "cell_type": "code",
      "execution_count": null,
      "metadata": {
        "id": "vt2JwXd__1cT"
      },
      "outputs": [],
      "source": [
        "#@title Six Creatures on a floor.{vertical-output: true}\n",
        "\n",
        "arena = mj.MjSpec()\n",
        "\n",
        "if hasattr(arena, 'compiler'):\n",
        "  arena.compiler.degree = False  # MuJoCo dev (next release).\n",
        "else:\n",
        "  arena.degree = False  # MuJoCo release\n",
        "\n",
        "# Make arena with textured floor.\n",
        "chequered = arena.add_texture(\n",
        "    name=\"chequered\", type=mj.mjtTexture.mjTEXTURE_2D,\n",
        "    builtin=mj.mjtBuiltin.mjBUILTIN_CHECKER,\n",
        "    width=300, height=300, rgb1=[.2, .3, .4], rgb2=[.3, .4, .5])\n",
        "grid = arena.add_material(\n",
        "    name='grid', texrepeat=[5, 5], reflectance=.2\n",
        "    ).textures[mj.mjtTextureRole.mjTEXROLE_RGB] = 'chequered'\n",
        "arena.worldbody.add_geom(\n",
        "    type=mj.mjtGeom.mjGEOM_PLANE, size=[2, 2, .1], material='grid')\n",
        "for x in [-2, 2]:\n",
        "  arena.worldbody.add_light(pos=[x, -1, 3], dir=[-x, 1, -2])\n",
        "\n",
        "# Instantiate 6 creatures with 3 to 8 legs.\n",
        "creatures = [make_creature(num_legs=num_legs) for num_legs in range(3, 9)]\n",
        "\n",
        "# Place them on a grid in the arena.\n",
        "height = .15\n",
        "grid = 5 * BODY_RADIUS\n",
        "xpos, ypos, zpos = np.meshgrid([-grid, 0, grid], [0, grid], [height])\n",
        "for i, spec in enumerate(creatures):\n",
        "  # Place spawn sites on a grid.\n",
        "  spawn_pos = (xpos.flat[i], ypos.flat[i], zpos.flat[i])\n",
        "  spawn_site = arena.worldbody.add_site(pos=spawn_pos, group=3)\n",
        "  # Attach to the arena at the spawn sites, with a free joint.\n",
        "  spawn_body = spawn_site.attach(spec.worldbody, '', '-' + str(i))\n",
        "  spawn_body.add_freejoint()\n",
        "\n",
        "# Instantiate the physics and render.\n",
        "model = arena.compile()\n",
        "render(model)"
      ]
    },
    {
      "cell_type": "markdown",
      "metadata": {
        "id": "mPUGkrCzAFMg"
      },
      "source": [
        "Multi-legged creatures, ready to roam! Let's inject some controls and watch them move. We'll generate a sinusoidal open-loop control signal of fixed frequency and random phase, recording both video frames and the horizontal positions of the torso geoms, in order to plot the movement trajectories."
      ]
    },
    {
      "cell_type": "code",
      "execution_count": null,
      "metadata": {
        "id": "7gz9FfNzGxPO"
      },
      "outputs": [],
      "source": [
        "#@title Video of the movement{vertical-output: true}\n",
        "\n",
        "duration = 10   # (Seconds)\n",
        "framerate = 30  # (Hz)\n",
        "video = []\n",
        "pos_x = []\n",
        "pos_y = []\n",
        "geoms = arena.worldbody.find_all(mj.mjtObj.mjOBJ_GEOM)\n",
        "torsos = [geom.id for geom in geoms if 'torso' in geom.name]\n",
        "actuators = [actuator.id for actuator in arena.actuators]\n",
        "\n",
        "# Control signal frequency, phase, amplitude.\n",
        "freq = 5\n",
        "phase = 2 * np.pi * random_state.rand(len(arena.actuators))\n",
        "amp = 0.9\n",
        "\n",
        "# Simulate, saving video frames and torso locations.\n",
        "data = mj.MjData(model)\n",
        "mj.mj_resetData(model, data)\n",
        "with mj.Renderer(model) as renderer:\n",
        "  while data.time < duration:\n",
        "    # Inject controls and step the physics.\n",
        "    data.ctrl[actuators] = amp * np.sin(freq * data.time + phase)\n",
        "    mj.mj_step(model, data)\n",
        "\n",
        "    # Save torso horizontal positions using name indexing.\n",
        "    pos_x.append(data.geom_xpos[torsos, 0].copy())\n",
        "    pos_y.append(data.geom_xpos[torsos, 1].copy())\n",
        "\n",
        "    # Save video frames.\n",
        "    if len(video) < data.time * framerate:\n",
        "      renderer.update_scene(data)\n",
        "      pixels = renderer.render()\n",
        "      video.append(pixels.copy())\n",
        "\n",
        "media.show_video(video, fps=framerate)"
      ]
    },
    {
      "cell_type": "code",
      "execution_count": null,
      "metadata": {
        "id": "qt2L52e_Tcgt"
      },
      "outputs": [],
      "source": [
        "#@title Movement trajectories{vertical-output: true}\n",
        "\n",
        "creature_colors = model.geom_rgba[torsos][:, :3]\n",
        "fig, ax = plt.subplots(figsize=(4, 4))\n",
        "ax.set_prop_cycle(color=creature_colors)\n",
        "_ = ax.plot(pos_x, pos_y, linewidth=4)"
      ]
    },
    {
      "cell_type": "markdown",
      "metadata": {
        "id": "kSEUoxifxYJ4"
      },
      "source": [
        "The plot above shows the corresponding movement trajectories of creature positions. Note how `mjSpec` attribute `id` were used to access both `xpos` and `rgba` values. This attribute is valid only after a model is compiled."
      ]
    },
    {
      "cell_type": "markdown",
      "metadata": {
        "id": "QZ8alJZz8cB1"
      },
      "source": [
        "# Model editing"
      ]
    },
    {
      "cell_type": "markdown",
      "source": [
        "First we need to download models from mujoco_menagerie"
      ],
      "metadata": {
        "id": "tOqohQC6w6K4"
      }
    },
    {
      "cell_type": "code",
      "source": [
        "# Get MuJoCo's humanoid model and a Franka arm from the MuJoCo Menagerie.\n",
        "print('Getting MuJoCo humanoid XML description from GitHub:')\n",
        "!git clone https://github.com/google-deepmind/mujoco\n",
        "humanoid_file = 'mujoco/model/humanoid/humanoid.xml'\n",
        "humanoid100_file = 'mujoco/model/humanoid/humanoid100.xml'\n",
        "print('Getting MuJoCo Menagerie Franka XML description from GitHub:')\n",
        "!git clone https://github.com/google-deepmind/mujoco_menagerie\n",
        "franka_file = 'mujoco_menagerie/franka_fr3/fr3.xml'"
      ],
      "metadata": {
        "id": "nWjeITkWw5NX"
      },
      "execution_count": null,
      "outputs": []
    },
    {
      "cell_type": "markdown",
      "metadata": {
        "id": "JN3Z4v0PyXKa"
      },
      "source": [
        "`mjSpec` elements can be traversed in two ways:\n",
        "- For elements inside the kinematic tree, the tree can be traversed using the `first` and `next` functions.\n",
        "- For all other elements, we provide a list.\n",
        "\n"
      ]
    },
    {
      "cell_type": "code",
      "execution_count": null,
      "metadata": {
        "id": "8IcB7nezblyT"
      },
      "outputs": [],
      "source": [
        "#@title Traversing the spec.{vertical-output: true}\n",
        "\n",
        "spec = mj.MjSpec.from_file(humanoid_file)\n",
        "\n",
        "# Function that recursively prints all body names\n",
        "def print_bodies(parent, level=0):\n",
        "  body = parent.first_body()\n",
        "  while body:\n",
        "    print(''.join(['-' for i in range(level)]) + body.name)\n",
        "    print_bodies(body, level + 1)\n",
        "    body = parent.next_body(body)\n",
        "\n",
        "print(\"The spec has the following actuators:\")\n",
        "for actuator in spec.actuators:\n",
        "  print(actuator.name)\n",
        "\n",
        "print(\"\\nThe spec has the following bodies:\")\n",
        "print_bodies(spec.worldbody)"
      ]
    },
    {
      "cell_type": "markdown",
      "metadata": {
        "id": "hcGI4orhyzvc"
      },
      "source": [
        "An `mjSpec` can be compiled multiple times. If the state has to be preserved between different compilations, then the function `recompile()` must be used, which returns a new `mjData` that contains the mapped state, possibly having a different dimension from the origin."
      ]
    },
    {
      "cell_type": "code",
      "execution_count": null,
      "metadata": {
        "id": "uh_N1Fkqk-Mi",
        "cellView": "form"
      },
      "outputs": [],
      "source": [
        "#@title Model re-compilation with state preservation.{vertical-output: true}\n",
        "\n",
        "spec = mj.MjSpec.from_file(humanoid100_file)\n",
        "model = spec.compile()\n",
        "data = mj.MjData(model)\n",
        "\n",
        "# Run for 5 seconds\n",
        "for i in range(1000):\n",
        "  mj.mj_step(model, data)\n",
        "\n",
        "# Show result\n",
        "render(model, data)\n",
        "\n",
        "# Create list of all bodies we want to delete\n",
        "body = spec.worldbody.first_body()\n",
        "delete_list = []\n",
        "while body:\n",
        "  geom_type = body.first_geom().type\n",
        "  if (geom_type == mj.mjtGeom.mjGEOM_BOX or\n",
        "      geom_type == mj.mjtGeom.mjGEOM_ELLIPSOID):\n",
        "    delete_list.append(body)\n",
        "  body = spec.worldbody.next_body(body)\n",
        "\n",
        "# Remove all bodies in the list from the spec\n",
        "for body in delete_list:\n",
        "  spec.detach_body(body)\n",
        "\n",
        "# # Add another humanoid\n",
        "spec_humanoid = mj.MjSpec.from_file(humanoid_file)\n",
        "attachment_frame = spec.worldbody.add_frame(pos=[0, -1, 2])\n",
        "attachment_frame.attach_body(spec_humanoid.find_body('torso'), 'a', 'b')\n",
        "\n",
        "# Recompile preserving the state\n",
        "new_model, new_data = spec.recompile(model, data)\n",
        "\n",
        "# Show result\n",
        "render(new_model, new_data)"
      ]
    },
    {
      "cell_type": "markdown",
      "metadata": {
        "id": "XmSlXirVzLqt"
      },
      "source": [
        "Let us load the humanoid model and inspect it."
      ]
    },
    {
      "cell_type": "code",
      "execution_count": null,
      "metadata": {
        "id": "UywMzsp5Hnk2",
        "cellView": "form"
      },
      "outputs": [],
      "source": [
        "#@title Humanoid model.{vertical-output: true}\n",
        "\n",
        "spec = mj.MjSpec.from_file(humanoid_file)\n",
        "\n",
        "model = spec.compile()\n",
        "render(model)"
      ]
    },
    {
      "cell_type": "markdown",
      "metadata": {
        "id": "owcmKeuSzQRy"
      },
      "source": [
        "We wish to remove the arms and replace them with the legs. This can be done by first storing the arm positions into frames attaches to the torso. Then we can detach the arms and self-attach the legs into the frames."
      ]
    },
    {
      "cell_type": "code",
      "execution_count": null,
      "metadata": {
        "id": "qZCyv-B0IGiG",
        "cellView": "form"
      },
      "outputs": [],
      "source": [
        "#@title Humanoid with arms replaced by legs.{vertical-output: true}\n",
        "\n",
        "spec = mj.MjSpec.from_file(humanoid_file)\n",
        "\n",
        "# Get the torso, arm, and leg bodies\n",
        "arm_left = spec.find_body('upper_arm_left')\n",
        "arm_right = spec.find_body('upper_arm_right')\n",
        "leg_left = spec.find_body('thigh_left')\n",
        "leg_right = spec.find_body('thigh_right')\n",
        "torso = spec.find_body('torso')\n",
        "\n",
        "# Attach frames at the arm positions\n",
        "shoulder_left = torso.add_frame(pos=arm_left.pos)\n",
        "shoulder_right = torso.add_frame(pos=arm_right.pos)\n",
        "\n",
        "# Remove the arms\n",
        "spec.detach_body(arm_left)\n",
        "spec.detach_body(arm_right)\n",
        "\n",
        "# Add new legs\n",
        "shoulder_left.attach_body(leg_left, 'shoulder', 'left')\n",
        "shoulder_right.attach_body(leg_right, 'shoulder', 'right')\n",
        "\n",
        "model = spec.compile()\n",
        "render(model, height=400)"
      ]
    },
    {
      "cell_type": "markdown",
      "metadata": {
        "id": "LnEwEjW3zdua"
      },
      "source": [
        "Similarly, different models can be attach together. Here, the right arm is detached and a robot arm from a different model is attached in its place."
      ]
    },
    {
      "cell_type": "code",
      "execution_count": null,
      "metadata": {
        "id": "w-NdFhSIIrLL"
      },
      "outputs": [],
      "source": [
        "#@title Humanoid with Franka arm.{vertical-output: true}\n",
        "\n",
        "spec = mj.MjSpec.from_file(humanoid_file)\n",
        "franka = mj.MjSpec.from_file(franka_file)\n",
        "\n",
        "if hasattr(spec, 'compiler'):\n",
        "  spec.compiler.degree = False  # MuJoCo dev (next release).\n",
        "else:\n",
        "  spec.degree = False  # MuJoCo release\n",
        "\n",
        "# Replace right arm with frame\n",
        "arm_right = spec.find_body('upper_arm_right')\n",
        "torso = spec.find_body('torso')\n",
        "shoulder_right = torso.add_frame(pos=arm_right.pos, quat=[0, 0.8509035, 0, 0.525322])\n",
        "spec.detach_body(arm_right)\n",
        "\n",
        "# Attach Franka arm to humanoid\n",
        "franka_arm = franka.find_body('fr3_link2')\n",
        "shoulder_right.attach_body(franka_arm, 'franka', '')\n",
        "\n",
        "model = spec.compile()\n",
        "render(model, height=400)"
      ]
    },
    {
      "cell_type": "markdown",
      "metadata": {
        "id": "e_idaggAznXu"
      },
      "source": [
        "When doing this, the actuators and all other objects referenced by the attached sub-tree are imported in the new model. All assets are currently imported, referenced or not."
      ]
    },
    {
      "cell_type": "code",
      "execution_count": null,
      "metadata": {
        "id": "50lOgJ7mQ2bV",
        "cellView": "form"
      },
      "outputs": [],
      "source": [
        "#@title Imported actuators.{vertical-output: true}\n",
        "\n",
        "for actuator in spec.actuators:\n",
        "  print(actuator.name)"
      ]
    },
    {
      "cell_type": "markdown",
      "metadata": {
        "id": "APDoWK4mz0aJ"
      },
      "source": [
        "Domain randomization can be performed by attaching multiple times the same spec, edited each time with a new instance of randomized parameters."
      ]
    },
    {
      "cell_type": "code",
      "execution_count": null,
      "metadata": {
        "id": "oHjdgkISNLKy",
        "cellView": "form"
      },
      "outputs": [],
      "source": [
        "#@title Humanoid with randomized heads and arm poses.{vertical-output: true}\n",
        "\n",
        "humanoid = mj.MjSpec.from_file(humanoid_file)\n",
        "spec = mj.MjSpec()\n",
        "\n",
        "# Delete all key frames to avoid name conflicts\n",
        "while humanoid.keys:\n",
        "  humanoid.keys[-1].delete()\n",
        "\n",
        "# Create a grid of humanoids by attaching humanoid to spec multiple times\n",
        "for i in range(4):\n",
        "  for j in range(4):\n",
        "    humanoid.materials[0].rgba = [\n",
        "        np.random.uniform(), np.random.uniform(),\n",
        "        np.random.uniform(), 1]  # Randomize color\n",
        "    humanoid.find_body('head').first_geom().size = [\n",
        "        .18*np.random.uniform(), 0, 0]  # Randomize head size\n",
        "    humanoid.find_body('upper_arm_left').quat = [\n",
        "        np.random.uniform(), np.random.uniform(),\n",
        "        np.random.uniform(), np.random.uniform()]  # Randomize left arm orientation\n",
        "    humanoid.find_body('upper_arm_right').quat = [\n",
        "        np.random.uniform(), np.random.uniform(),\n",
        "        np.random.uniform(), np.random.uniform()]  # Randomize right arm orientation\n",
        "\n",
        "    # attach randomized humanoid to parent spec\n",
        "    frame = spec.worldbody.add_frame(pos=[i, j, 0])\n",
        "    frame.attach_body(humanoid.find_body('torso'), str(i), str(j))\n",
        "\n",
        "spec.worldbody.add_light(mode=mj.mjtCamLight.mjCAMLIGHT_TARGETBODYCOM,\n",
        "                         targetbody='3torso3', diffuse=[.8, .8, .8],\n",
        "                         specular=[0.3, 0.3, 0.3], pos=[0, -6, 4], cutoff=30)\n",
        "model = spec.compile()\n",
        "render(model, height=400)"
      ]
    },
    {
      "cell_type": "markdown",
      "source": [
        "# Pure Models with `mjspec`\n",
        "\n",
        "A robot operates within an enviornment. We refer to this enviornment as Arena. To add versatility to the enviornment we should be able to add or remove things from enviorment. To add these functionalities to the Arena we will use mjspec's attach, detach and frame functionality.\n",
        "\n"
      ],
      "metadata": {
        "id": "FFAz_uclIfVh"
      }
    },
    {
      "cell_type": "markdown",
      "source": [
        "## Arena"
      ],
      "metadata": {
        "id": "Thd8l6scJgb-"
      }
    },
    {
      "cell_type": "code",
      "source": [
        "class Arena:\n",
        "  def __init__(self):\n",
        "    self.spec = mj.MjSpec()\n",
        "    self.model = self.spec.worldbody\n",
        "    self.spec.compiler.degree = False\n",
        "    self.scene_option = mj.MjvOption()\n",
        "\n",
        "    # Make arena with textured floor.\n",
        "    chequered = self.spec.add_texture(\n",
        "        name=\"chequered\", type=mj.mjtTexture.mjTEXTURE_2D,\n",
        "        builtin=mj.mjtBuiltin.mjBUILTIN_CHECKER,\n",
        "        width=300, height=300, rgb1=[.2, .3, .4], rgb2=[.3, .4, .5])\n",
        "    grid = self.spec.add_material(\n",
        "        name='grid', texrepeat=[5, 5], reflectance=.2\n",
        "        ).textures[mj.mjtTextureRole.mjTEXROLE_RGB] = 'chequered'\n",
        "    self.model.add_geom(\n",
        "        type=mj.mjtGeom.mjGEOM_PLANE, size=[2, 2, .1], material='grid')\n",
        "    for x in [-2, 2]:\n",
        "      self.model.add_light(pos=[x, -1, 3], dir=[-x, 1, -2])\n",
        "\n",
        "  def add_tracking_camera(self,body,name=\"eye\",pos=[0,0,1],euler=[0,0,0]):\n",
        "    # camera\n",
        "    self.model.add_camera(name=name,\n",
        "                          mode =mj.mjtCamLight.mjCAMLIGHT_TRACK ,\n",
        "                          targetbody=body,\n",
        "                          pos= pos,\n",
        "                          euler=euler)\n",
        "    return name\n",
        "\n",
        "  def visulize_camera(self):\n",
        "    self.scene_option.flags[mj.mjtVisFlag.mjVIS_CAMERA] = True\n",
        "\n",
        "  def add_movable_asset(self,asset,pos=[0,0,0],prefix='_'):\n",
        "    frame = self.model.add_frame(pos=pos)\n",
        "    body = frame.attach_body(asset.model,  prefix,'')\n",
        "    body.add_freejoint()\n",
        "    return body\n",
        "\n",
        "  def add_fixed_asset(self,asset,pos=[0,0,0],prefix='_'):\n",
        "    frame = self.model.add_frame(pos=pos)\n",
        "    body = frame.attach_body(asset.model,  prefix,'')\n",
        "    return body\n",
        "\n",
        "  def remove_asset(self,body):\n",
        "    self.spec.detach_body(body)"
      ],
      "metadata": {
        "id": "d44fkEwtJj2J"
      },
      "execution_count": null,
      "outputs": []
    },
    {
      "cell_type": "code",
      "source": [
        "arena = Arena()\n",
        "model = arena.spec.compile()\n",
        "render(model)"
      ],
      "metadata": {
        "id": "QtVw4-D3MNAv"
      },
      "execution_count": null,
      "outputs": []
    },
    {
      "cell_type": "markdown",
      "source": [
        "## Creating a Robot\n",
        "Next, we will look at how to put a robot together. We are going to create a quadruped, which has four identical legs. We break down the leg model into three parts, namely the robot tree structure, actuation, and sensors."
      ],
      "metadata": {
        "id": "vShBTVo2MVlf"
      }
    },
    {
      "cell_type": "markdown",
      "source": [
        "### Robot tree structure\n",
        "we start by setting default values such as color and joint damping, which are shared throughout the entire model. Next, we proceed to define the data belonging to the tree, referred to as properties. Separating the data from the tree-like structure enables quick modifications to the model if needed. Finally, the properties are used to construct the model."
      ],
      "metadata": {
        "id": "3Kuez60fNnlP"
      }
    },
    {
      "cell_type": "code",
      "source": [
        "class LegBase:\n",
        "  def __init__(self,length=0.1):\n",
        "    self.spec = mj.MjSpec()\n",
        "    self.spec.compiler.degree = False\n",
        "    self.model = self.spec.worldbody\n",
        "\n",
        "    # material\n",
        "    self.spec.add_material(name = \"yellow\",rgba=[1,1,0,1])\n",
        "\n",
        "    # defaults\n",
        "    main = self.spec.default()\n",
        "    main.joint.damping = 2\n",
        "\n",
        "    main.geom.material = \"yellow\"\n",
        "    main.geom.type = mj.mjtGeom.mjGEOM_CAPSULE\n",
        "    main.geom.mass = 1\n",
        "\n",
        "    # props\n",
        "    bodies = [\n",
        "        {\n",
        "            \"body\":{\n",
        "                \"name\":\"thigh\"\n",
        "            },\n",
        "            \"joint\":{\n",
        "                \"name\":\"hip\",\n",
        "                \"axis\":[0,0,1],\n",
        "            },\n",
        "            \"geom\":{\n",
        "                \"fromto\":[0]*3+[length]+[0]*2,\n",
        "                \"size\":[length/4,0,0]\n",
        "            }\n",
        "        },\n",
        "        {\n",
        "            \"body\":{\n",
        "                \"name\":\"shin\",\n",
        "                \"pos\":[length,0,0]\n",
        "            },\n",
        "            \"joint\":{\n",
        "                \"name\":\"knee\",\n",
        "                \"axis\":[0, 1, 0],\n",
        "            },\n",
        "            \"geom\":{\n",
        "                \"fromto\":[0]*5+[-length],\n",
        "                \"size\":[length/5,0,0]\n",
        "            },\n",
        "            \"site\":{\n",
        "                \"name\":\"feet\",\n",
        "                \"pos\":[0,0,-length]\n",
        "            }\n",
        "        }\n",
        "    ]\n",
        "    body = self.model\n",
        "    for prop in bodies:\n",
        "      body = body.add_body(**prop['body'])\n",
        "      body.add_joint(**prop['joint'])\n",
        "      body.add_geom(**prop['geom'])\n",
        "      if  \"site\" in prop:\n",
        "        body.add_site(**prop['site'])"
      ],
      "metadata": {
        "id": "zh-YigtROdpE"
      },
      "execution_count": null,
      "outputs": []
    },
    {
      "cell_type": "code",
      "source": [
        "leg = LegBase()\n",
        "model = leg.spec.compile()\n",
        "print_xml(leg.spec.to_xml())"
      ],
      "metadata": {
        "id": "gRdLegMJO2V8"
      },
      "execution_count": null,
      "outputs": []
    },
    {
      "cell_type": "markdown",
      "source": [
        "Next lets have a look at how we can add and remove a model from arena"
      ],
      "metadata": {
        "id": "vJpIVvuGPtgo"
      }
    },
    {
      "cell_type": "code",
      "source": [
        "arena = Arena()\n",
        "body = arena.add_fixed_asset(leg,pos=[0,0,0.15])\n",
        "model = arena.spec.compile()\n",
        "render(model)"
      ],
      "metadata": {
        "id": "Mu9e5EgwPzWg"
      },
      "execution_count": null,
      "outputs": []
    },
    {
      "cell_type": "code",
      "source": [
        "arena.remove_asset(body)\n",
        "model = arena.spec.compile()\n",
        "render(model)"
      ],
      "metadata": {
        "id": "ewOyfKyhSGLL"
      },
      "execution_count": null,
      "outputs": []
    },
    {
      "cell_type": "markdown",
      "source": [
        "### Actuator\n",
        "Here we add positon actuaotors to the model. We start by drving the LegActuated class from LegBase. We need create a position actuator from a general actuator. We achived this by setting default values of the general actuator."
      ],
      "metadata": {
        "id": "MCap3u2WUeX2"
      }
    },
    {
      "cell_type": "code",
      "source": [
        "class LegActuation(LegBase):\n",
        "  def __init__(self,length=0.1,kp=10):\n",
        "    super().__init__(length)\n",
        "\n",
        "    # defaults\n",
        "    main = self.spec.default()\n",
        "\n",
        "    # position actuator defaults\n",
        "    main.actuator.trntype = mj.mjtTrn.mjTRN_JOINT\n",
        "    main.actuator.gaintype = mj.mjtGain.mjGAIN_FIXED\n",
        "    main.actuator.biastype = mj.mjtBias.mjBIAS_AFFINE\n",
        "    main.actuator.gainprm[0] =  kp\n",
        "    main.actuator.biasprm[1] = -kp\n",
        "\n",
        "    actuators =[\n",
        "        {\n",
        "            \"name\":\"hip_act\",\n",
        "            \"target\":\"hip\"\n",
        "        },\n",
        "        {\n",
        "            \"name\":\"knee_act\",\n",
        "            \"target\":\"knee\"\n",
        "        },\n",
        "    ]\n",
        "\n",
        "    for prop in actuators:\n",
        "      self.spec.add_actuator(**prop)"
      ],
      "metadata": {
        "id": "GBWJd__2VJXa"
      },
      "execution_count": null,
      "outputs": []
    },
    {
      "cell_type": "code",
      "source": [
        "leg = LegActuation()\n",
        "model = leg.spec.compile()\n",
        "print_xml(leg.spec.to_xml())"
      ],
      "metadata": {
        "id": "m8As5DxbVWbo"
      },
      "execution_count": null,
      "outputs": []
    },
    {
      "cell_type": "markdown",
      "source": [
        "### Sensors\n",
        "To better understand what is going on with the robot we need to add some sensors. Mujoco support different types of sensors that can be found in: mujoco/introspect\n",
        "/enums.py\n",
        "\n",
        "In order to use a sensor we need to define sensor type, object that it operates on and object name. For example a joint position sensor will have a type `mjtSensor.mjSENS_JOINTPOS` operate on object of type `mjtObj.mjOBJ_JOINT` and a name `super_duper_unique_joint_name`\n"
      ],
      "metadata": {
        "id": "75JFMouYWue-"
      }
    },
    {
      "cell_type": "code",
      "source": [
        "class Leg(LegActuation):\n",
        "  def __init__(self,length=0.1,kp=10,rgba=[1,0,0,1]):\n",
        "    super().__init__(length,kp)\n",
        "\n",
        "    # props\n",
        "    sesnros = [\n",
        "      # joint sensors\n",
        "      {\n",
        "          \"name\":\"hip_jpos\",\n",
        "          \"objname\":\"hip\",\n",
        "          \"type\":mj.mjtSensor.mjSENS_JOINTPOS,\n",
        "          \"objtype\":mj.mjtObj.mjOBJ_JOINT\n",
        "\n",
        "      },\n",
        "      # force sensor\n",
        "      {\n",
        "          \"name\":\"feet_force\",\n",
        "          \"objname\":\"feet\",\n",
        "          \"type\":mj.mjtSensor.mjSENS_FORCE,\n",
        "          \"objtype\":mj.mjtObj.mjOBJ_SITE\n",
        "\n",
        "      },\n",
        "    ]\n",
        "\n",
        "    for prop in sesnros:\n",
        "      self.spec.add_sensor(**prop)"
      ],
      "metadata": {
        "id": "pkUaXS8CZpVg"
      },
      "execution_count": null,
      "outputs": []
    },
    {
      "cell_type": "code",
      "source": [
        "leg = Leg()\n",
        "model = leg.spec.compile()\n",
        "print_xml(leg.spec.to_xml())"
      ],
      "metadata": {
        "id": "hG8Ed5SIaE54"
      },
      "execution_count": null,
      "outputs": []
    },
    {
      "cell_type": "code",
      "source": [
        "arena = Arena()\n",
        "robot = Leg()\n",
        "arena.add_fixed_asset(robot,[0,0,0.11])\n",
        "model = arena.spec.compile()\n",
        "random_state = np.random.RandomState(42)\n",
        "\n",
        "actuators = [actuator.id for actuator in arena.spec.actuators]\n",
        "sensors = dict(zip(\n",
        "    [sensor.name for sensor in arena.spec.sensors],\n",
        "    [sensor.id for sensor in arena.spec.sensors]\n",
        "))\n",
        "\n",
        "print(f\"Sensors: {sensors}\")\n",
        "\n",
        "# Control signal frequency, phase, amplitude.\n",
        "freq = 5\n",
        "phase = 2 * np.pi * random_state.rand(len(arena.spec.actuators))\n",
        "amp = 0.9\n",
        "\n",
        "# Simulate and display video.\n",
        "duration = 3    # (seconds)\n",
        "framerate = 30  # (Hz)\n",
        "frames = []\n",
        "hip_jpos = []\n",
        "data = mj.MjData(model)\n",
        "mj.mj_resetData(model, data)\n",
        "with mj.Renderer(model) as renderer:\n",
        "  while data.time < duration:\n",
        "    # Inject controls and step the physics.\n",
        "    data.ctrl[actuators] = amp * np.sin(freq * data.time + phase)\n",
        "    mj.mj_step(model, data)\n",
        "    if len(frames) < data.time * framerate:\n",
        "      renderer.update_scene(data)\n",
        "      pixels = renderer.render()\n",
        "      frames.append(pixels)\n",
        "      hip_jpos.append(data.sensordata[sensors['_hip_jpos']])\n",
        "\n",
        "media.show_video(frames, fps=framerate)\n",
        "\n",
        "fig, ax = plt.subplots(figsize=(4, 2))\n",
        "_ = ax.plot( range(len(hip_jpos)),hip_jpos, linewidth=1)\n",
        "ax.set_ylabel('hip joint position')\n",
        "\n"
      ],
      "metadata": {
        "id": "P4TMqWYGhOYv"
      },
      "execution_count": null,
      "outputs": []
    },
    {
      "cell_type": "markdown",
      "source": [
        "### Component Reusablity\n",
        "Here we illusterate component reusablity by creating a quadroped using the leg component"
      ],
      "metadata": {
        "id": "x3Zpv-C25I0W"
      }
    },
    {
      "cell_type": "code",
      "source": [
        "class MultiLegRobot:\n",
        "  def __init__(self,body_radius=0.1,kp=10,num_legs=4):\n",
        "    length = body_radius\n",
        "\n",
        "    self.spec = mj.MjSpec()\n",
        "    self.spec.compiler.degree = False\n",
        "    self.model = self.spec.worldbody\n",
        "\n",
        "    # material\n",
        "    self.spec.add_material(name = \"yellow\",rgba=[1,1,0,1])\n",
        "\n",
        "    # props\n",
        "    base = {\n",
        "        \"body\":{\n",
        "            \"name\":\"torso\"\n",
        "        },\n",
        "        \"geom\":{\n",
        "          \"size\":[body_radius]*2+[body_radius/2],\n",
        "          \"material\":\"yellow\",\n",
        "          \"type\":mj.mjtGeom.mjGEOM_ELLIPSOID\n",
        "        }\n",
        "    }\n",
        "\n",
        "\n",
        "    # base\n",
        "    body = self.model.add_body(**base['body'])\n",
        "    body.add_geom(**base['geom'])\n",
        "\n",
        "    # legs\n",
        "    for i in range(num_legs):\n",
        "      theta = 2 * i * np.pi / num_legs\n",
        "      hip_pos = body_radius * np.array([np.cos(theta), np.sin(theta), 0])\n",
        "      frame = body.add_frame(pos = hip_pos,euler = [0,0,theta])\n",
        "      leg = Leg()\n",
        "      frame.attach_body(leg.model, '', '-' + str(i))"
      ],
      "metadata": {
        "id": "LFDZMnXdyBLC"
      },
      "execution_count": null,
      "outputs": []
    },
    {
      "cell_type": "code",
      "source": [
        "robot = MultiLegRobot()\n",
        "model = robot.spec.compile()\n",
        "print_xml(robot.spec.to_xml())"
      ],
      "metadata": {
        "id": "f7YVinQs8ncU"
      },
      "execution_count": null,
      "outputs": []
    },
    {
      "cell_type": "markdown",
      "source": [
        "### Closed Loop Kinematic and Contact Exclusion\n",
        "Here we are going to create a hexapod to iilusterate how to use equaility constraint. The tree-like structure of the hexapod lead to closed loop kinematics. Therefore we need to replace two of the joints with equality contraint. We start by creating the LinearArm that actuates the hexapod. Here is a link to a hexapod: https://www.youtube.com/watch?v=xiECumcaEx0"
      ],
      "metadata": {
        "id": "uBJmeBD_-S_b"
      }
    },
    {
      "cell_type": "code",
      "source": [
        "class LinearArmBase:\n",
        "  def __init__(self,length=0.1):\n",
        "    self.spec = mj.MjSpec()\n",
        "    self.spec.compiler.degree = False\n",
        "    self.model = self.spec.worldbody\n",
        "\n",
        "    # defaults\n",
        "    main = self.spec.default()\n",
        "    main.joint.axis = [0,0,1]\n",
        "\n",
        "    # material\n",
        "    self.spec.add_material(name = \"yellow\",rgba=[1,1,0,1])\n",
        "    self.spec.add_material(name = \"orange\",rgba=[1.0, 0.5, 0.0, 1.0])\n",
        "\n",
        "    bodies = [\n",
        "        {\n",
        "            \"body\":{\n",
        "                \"name\":\"l1\",\n",
        "            },\n",
        "            \"joint\":{\n",
        "                \"type\": mj.mjtJoint.mjJNT_HINGE,\n",
        "                \"axis\":[1,0,0]\n",
        "            },\n",
        "            \"geom\":{\n",
        "                \"fromto\":[0]*5+[length],\n",
        "                \"material\":\"yellow\",\n",
        "                \"size\":[length/5,0,0],\n",
        "                \"type\":mj.mjtGeom.mjGEOM_CAPSULE\n",
        "            }\n",
        "        },\n",
        "        {\n",
        "            \"body\":{\n",
        "                \"name\":\"l2\",\n",
        "                \"pos\":[0,0,length/2]\n",
        "            },\n",
        "            \"joint\":{\n",
        "                \"type\":mj.mjtJoint.mjJNT_SLIDE,\n",
        "                \"range\":[0,0.05],\n",
        "                \"name\":\"linear\",\n",
        "            },\n",
        "            \"geom\":{\n",
        "                \"fromto\":[0]*5+[length*2],\n",
        "                \"size\":[length/5,0,0],\n",
        "                \"material\":\"orange\",\n",
        "                \"type\":mj.mjtGeom.mjGEOM_CAPSULE\n",
        "            },\n",
        "            \"site\":{\n",
        "                \"pos\":[0,0,length*2],\n",
        "                \"name\":\"arm_site\"\n",
        "\n",
        "            }\n",
        "        }\n",
        "    ]\n",
        "\n",
        "    body = self.model\n",
        "    for prop in bodies:\n",
        "      body = body.add_body(**prop['body'])\n",
        "      body.add_joint(**prop['joint'])\n",
        "      body.add_geom(**prop['geom'])\n",
        "      if  \"site\" in prop:\n",
        "        self.site = body.add_site(**prop['site'])"
      ],
      "metadata": {
        "id": "LcP8u8yO8t7G"
      },
      "execution_count": null,
      "outputs": []
    },
    {
      "cell_type": "code",
      "source": [
        "class LinearArm(LinearArmBase):\n",
        "  def __init__(self,length=0.1,kp=20):\n",
        "    super().__init__(length)\n",
        "\n",
        "    # defaults\n",
        "    main = self.spec.default()\n",
        "\n",
        "    # position actuator defaults\n",
        "    main.actuator.trntype = mj.mjtTrn.mjTRN_JOINT\n",
        "    main.actuator.gaintype = mj.mjtGain.mjGAIN_FIXED\n",
        "    main.actuator.biastype = mj.mjtBias.mjBIAS_AFFINE\n",
        "    main.actuator.gainprm[0] =  kp\n",
        "    main.actuator.biasprm[1] = -kp\n",
        "\n",
        "    actuators =[\n",
        "        {\n",
        "            \"name\":\"linear_act\",\n",
        "            \"target\":\"linear\"\n",
        "        }\n",
        "    ]\n",
        "\n",
        "    for prop in actuators:\n",
        "      self.spec.add_actuator(**prop)"
      ],
      "metadata": {
        "id": "UnBLil5z_oWP"
      },
      "execution_count": null,
      "outputs": []
    },
    {
      "cell_type": "code",
      "source": [
        "arm = LinearArm()\n",
        "model = arm.spec.compile()\n",
        "print_xml(arm.spec.to_xml())\n"
      ],
      "metadata": {
        "id": "5-avAt42_6jE"
      },
      "execution_count": null,
      "outputs": []
    },
    {
      "cell_type": "markdown",
      "source": [
        "Let use the LinearArm Component to create an open chain model of Hexapod. Later on, we will create a closed loop model using equality constraint. In addition we will use contact exclude to remove undesirable collsion detection."
      ],
      "metadata": {
        "id": "1ys1vYlUANJa"
      }
    },
    {
      "cell_type": "code",
      "source": [
        "class HexapodOpenChain:\n",
        "  def __init__(self,body_radius=0.1,arm_length=0.1):\n",
        "    self.spec = mj.MjSpec()\n",
        "    self.spec.compiler.degree = False\n",
        "    self.model = self.spec.worldbody\n",
        "    self.scene_option = mj.MjvOption()\n",
        "\n",
        "    # material\n",
        "    self.spec.add_material(name = \"purple\",rgba=[0.5, 0.0, 0.5,1])\n",
        "\n",
        "    base_prop = {\n",
        "      \"body\":{\n",
        "        \"name\":\"base\"\n",
        "      },\n",
        "      \"geom\":{\n",
        "        \"size\":[body_radius]*2+[body_radius/2],\n",
        "        \"type\":mj.mjtGeom.mjGEOM_ELLIPSOID\n",
        "      }\n",
        "    }\n",
        "    top_prop = {\n",
        "        \"body\":{\n",
        "            \"name\":\"top\",\n",
        "            \"pos\":[-body_radius,0,arm_length*2]\n",
        "        },\n",
        "        \"geom\":{\n",
        "        \"size\":[body_radius]*2+[body_radius/2],\n",
        "        \"type\":mj.mjtGeom.mjGEOM_ELLIPSOID,\n",
        "        \"material\":\"purple\"\n",
        "        },\n",
        "        \"joint\":{\n",
        "            # \"type\":mj.mjtJoint.mjJNT_HINGE,\n",
        "            \"type\":mj.mjtJoint.mjJNT_BALL,\n",
        "            # \"axis\":[1,0,0],\n",
        "            \"pos\":[body_radius,0,0]\n",
        "\n",
        "        }\n",
        "\n",
        "    }\n",
        "\n",
        "    # classname\n",
        "\n",
        "\n",
        "    # attaching arms to base\n",
        "    self.base = self.model.add_body(**base_prop['body'])\n",
        "    self.base.add_geom(**base_prop['geom'])\n",
        "\n",
        "    self.arms = []\n",
        "    self.num_arms = 3\n",
        "    for i in range(self.num_arms):\n",
        "      theta = 2 * i * np.pi / self.num_arms\n",
        "      arm_pos = body_radius * np.array([np.cos(theta), np.sin(theta), 0])\n",
        "      frame = self.base.add_frame(pos = arm_pos,euler = [0,0,theta])\n",
        "      arm = LinearArm()\n",
        "      body_frame = frame.attach_body(arm.model, '', '-' + str(i))\n",
        "      self.arms.append(body_frame)\n",
        "\n",
        "    # defining joint between\n",
        "    # first arm and top\n",
        "    first_arm_l1 = self.arms[0].bodies[0]\n",
        "    first_arm_l2 = first_arm_l1.bodies[0]\n",
        "    self.top = first_arm_l2.add_body(**top_prop['body'])\n",
        "    self.top.add_geom(**top_prop['geom'])\n",
        "    self.top.add_joint(**top_prop['joint'])\n",
        "\n",
        "  def visulize_joints(self):\n",
        "    self.scene_option.flags[mj.mjtVisFlag.mjVIS_JOINT] = True\n",
        "\n",
        "  def visulize_contact(self):\n",
        "    self.scene_option.flags[mj.mjtVisFlag.mjVIS_CONTACTPOINT] = True"
      ],
      "metadata": {
        "id": "QgG7Zhkk_7y8"
      },
      "execution_count": null,
      "outputs": []
    },
    {
      "cell_type": "code",
      "source": [
        "hexapod = HexapodOpenChain()\n",
        "model = hexapod.spec.compile()\n",
        "print_xml(hexapod.spec.to_xml())"
      ],
      "metadata": {
        "id": "apewdK2IA4Re"
      },
      "execution_count": null,
      "outputs": []
    },
    {
      "cell_type": "code",
      "source": [
        "arena = Arena()\n",
        "robot = HexapodOpenChain()\n",
        "robot.visulize_joints()\n",
        "robot.visulize_contact()\n",
        "arena.add_fixed_asset(robot,[0,0,0.1])\n",
        "model = arena.spec.compile()\n",
        "random_state = np.random.RandomState(42)\n",
        "\n",
        "actuators = [actuator.id for actuator in arena.spec.actuators]\n",
        "# Control signal frequency, phase, amplitude.\n",
        "freq = 5\n",
        "phase = 2 * np.pi * random_state.rand(len(arena.spec.actuators))\n",
        "amp = 0.9\n",
        "\n",
        "# Simulate and display video.\n",
        "duration = 3    # (seconds)\n",
        "framerate = 30  # (Hz)\n",
        "frames = []\n",
        "data = mj.MjData(model)\n",
        "mj.mj_resetData(model, data)\n",
        "with mj.Renderer(model) as renderer:\n",
        "  while data.time < duration:\n",
        "    # Inject controls and step the physics.\n",
        "    data.ctrl[actuators] = amp * np.sin(freq * data.time + phase)\n",
        "    mj.mj_step(model, data)\n",
        "    if len(frames) < data.time * framerate:\n",
        "      renderer.update_scene(data, scene_option=robot.scene_option)\n",
        "      pixels = renderer.render()\n",
        "      frames.append(pixels)\n",
        "\n",
        "media.show_video(frames, fps=framerate)"
      ],
      "metadata": {
        "id": "INcRgy3dA50c"
      },
      "execution_count": null,
      "outputs": []
    },
    {
      "cell_type": "markdown",
      "source": [
        "Next we will add equality constraint between the top body and second and third linear arm to create a closed loop kinematic. We will also remove undesirable contacts."
      ],
      "metadata": {
        "id": "J52QNgzRBEfy"
      }
    },
    {
      "cell_type": "code",
      "source": [
        "class Hexapod(HexapodOpenChain):\n",
        "  def __init__(self,body_radius=0.1,arm_length=0.1):\n",
        "    super().__init__(body_radius,arm_length)\n",
        "\n",
        "    # adding equality constraint\n",
        "    # between second and third arm\n",
        "    # and top\n",
        "    for i in range(1,self.num_arms):\n",
        "      theta = 2 * i * np.pi / self.num_arms\n",
        "      site_pos = body_radius * np.array([np.cos(theta), np.sin(theta), 0])\n",
        "      top_site = self.top.add_site(pos=site_pos,name=\"top_site-\"+str(i),euler=[0,0,theta])\n",
        "      l2 = self.arms[i].bodies[0].bodies[0]\n",
        "      l2_site = l2.sites[0]\n",
        "      self.spec.add_equality(objtype=mj.mjtObj.mjOBJ_SITE,\n",
        "                            name1=top_site.name,\n",
        "                            name2=l2_site.name)\n",
        "\n",
        "    # contact exclusion\n",
        "    for i in range(self.num_arms):\n",
        "      arm = self.arms[i]\n",
        "      # arm links\n",
        "      l1 = arm.bodies[0]\n",
        "      l2 = l1.bodies[0]\n",
        "      self.spec.add_exclude(bodyname1=self.base.name,bodyname2=l1.name)\n",
        "      self.spec.add_exclude(bodyname1=self.base.name,bodyname2=l2.name)\n",
        "      if i==0:\n",
        "        continue\n",
        "      self.spec.add_exclude(bodyname1=self.top.name,bodyname2=l2.name)\n",
        "\n",
        "  def visulize_equality(self):\n",
        "    self.scene_option.flags[mj.mjtVisFlag.mjVIS_CONSTRAINT] = True"
      ],
      "metadata": {
        "id": "UhBiC-zUA9QM"
      },
      "execution_count": null,
      "outputs": []
    },
    {
      "cell_type": "code",
      "source": [
        "hexapod = Hexapod()\n",
        "model = hexapod.spec.compile()\n",
        "print_xml(hexapod.spec.to_xml())"
      ],
      "metadata": {
        "id": "RVnZk7beCwTh",
        "collapsed": true
      },
      "execution_count": null,
      "outputs": []
    },
    {
      "cell_type": "code",
      "source": [
        "arena = Arena()\n",
        "robot = Hexapod()\n",
        "robot.visulize_joints()\n",
        "robot.visulize_contact()\n",
        "arena.add_fixed_asset(robot,[0,0,0.1])\n",
        "model = arena.spec.compile()\n",
        "random_state = np.random.RandomState(42)\n",
        "\n",
        "actuators = [actuator.id for actuator in arena.spec.actuators]\n",
        "# Control signal frequency, phase, amplitude.\n",
        "freq = 5\n",
        "phase = 2 * np.pi * random_state.rand(len(arena.spec.actuators))\n",
        "amp = 0.9\n",
        "\n",
        "# Simulate and display video.\n",
        "duration = 3    # (seconds)\n",
        "framerate = 30  # (Hz)\n",
        "frames = []\n",
        "data = mj.MjData(model)\n",
        "mj.mj_resetData(model, data)\n",
        "with mj.Renderer(model) as renderer:\n",
        "  while data.time < duration:\n",
        "    # Inject controls and step the physics.\n",
        "    data.ctrl[actuators] = amp * np.sin(freq * data.time + phase)\n",
        "    mj.mj_step(model, data)\n",
        "    if len(frames) < data.time * framerate:\n",
        "      renderer.update_scene(data, scene_option=robot.scene_option)\n",
        "      pixels = renderer.render()\n",
        "      frames.append(pixels)\n",
        "\n",
        "media.show_video(frames, fps=framerate)"
      ],
      "metadata": {
        "id": "AUcFRsvqBY1e"
      },
      "execution_count": null,
      "outputs": []
    },
    {
      "cell_type": "markdown",
      "source": [
        "### Tendons\n",
        "\n",
        "Here we will have a look at spatial and fixed tendon."
      ],
      "metadata": {
        "id": "bq4lG34-yXli"
      }
    },
    {
      "cell_type": "code",
      "source": [
        "class ArmBase:\n",
        "  def __init__(self,create_tree=True,num_bodies=3):\n",
        "    self.spec = mj.MjSpec()\n",
        "    self.spec.compiler.degree = False\n",
        "    self.model = self.spec.worldbody\n",
        "    self.scene_option = mj.MjvOption()\n",
        "\n",
        "    # material\n",
        "    self.spec.add_material(name = \"yellow\",rgba=[1,1,0,1])\n",
        "    self.spec.add_material(name = \"orange\",rgba=[1.0, 0.5, 0.0, 1.0])\n",
        "\n",
        "    # defaults\n",
        "    main = self.spec.default()\n",
        "    main.joint.axis = [0,1,0]\n",
        "\n",
        "    length=0.2\n",
        "    self.bodies = []\n",
        "\n",
        "    for i in range(num_bodies):\n",
        "      if i>0:\n",
        "        pos = [0,0,(length+.03)]\n",
        "      else:\n",
        "        pos = [0]*3\n",
        "\n",
        "      b={\n",
        "        \"body\":{\n",
        "          \"name\":\"l\"+str(i),\n",
        "          \"pos\":pos\n",
        "        },\n",
        "        \"geoms\":[\n",
        "          {\n",
        "            \"mass\":0.001,\n",
        "            \"name\":\"g1_\"+str(i),\n",
        "            \"type\":mj.mjtGeom.mjGEOM_CYLINDER,\n",
        "            \"fromto\":[0, .015, 0, 0, -.015, 0],\n",
        "            \"size\":[.05,0,0],\n",
        "            \"material\":\"orange\"\n",
        "          },\n",
        "          {\n",
        "            \"mass\":0.001,\n",
        "            \"name\":\"g2_\"+str(i),\n",
        "            \"material\":\"yellow\",\n",
        "            \"type\":mj.mjtGeom.mjGEOM_CAPSULE,\n",
        "            \"fromto\":[0]*5+[length],\n",
        "            \"size\":[0.02,0,0]\n",
        "          }\n",
        "        ],\n",
        "        \"joint\":{\n",
        "            \"name\":\"j\"+str(i),\n",
        "            \"range\":[-1,1]\n",
        "        }\n",
        "      }\n",
        "      self.bodies.append(b)\n",
        "\n",
        "    if create_tree:\n",
        "      self._create_tree()\n",
        "\n",
        "  def _create_tree(self):\n",
        "    body = self.model\n",
        "    for prop in self.bodies:\n",
        "      body = body.add_body(**prop['body'])\n",
        "      for geom in prop['geoms']:\n",
        "        body.add_geom(**geom)\n",
        "      if \"joint\" in prop:\n",
        "        body.add_joint(**prop['joint'])\n",
        "      if  \"sites\" in prop:\n",
        "        for site in prop[\"sites\"]:\n",
        "          body.add_site(**site)\n"
      ],
      "metadata": {
        "id": "-g5SI2dQzAKi"
      },
      "execution_count": null,
      "outputs": []
    },
    {
      "cell_type": "code",
      "source": [
        "arm = ArmBase()\n",
        "model = arm.spec.compile()\n",
        "print_xml(arm.spec.to_xml())\n"
      ],
      "metadata": {
        "id": "U5XhHxaNy5W4"
      },
      "execution_count": null,
      "outputs": []
    },
    {
      "cell_type": "code",
      "source": [
        "class ArmFixedTendonCoupling(ArmBase):\n",
        "  def __init__(self):\n",
        "    super().__init__()\n",
        "    # Kinematic coupling: The passive joint’s motion is\n",
        "    # limited or determined by the configuration and\n",
        "    # movement of the active joint.\n",
        "\n",
        "    tendon = \"coupling_j1_j2\"\n",
        "    kinematic_coupling = [\n",
        "      {\n",
        "        \"joint\":\"j1\",\n",
        "        \"coef\":1\n",
        "      },\n",
        "      {\n",
        "        \"joint\":\"j2\",\n",
        "        \"coef\":1\n",
        "      }\n",
        "    ]\n",
        "    tendon = self.spec.add_tendon(name=tendon)\n",
        "    for data in kinematic_coupling:\n",
        "      tendon.wrap_joint(data[\"joint\"],data[\"coef\"])\n"
      ],
      "metadata": {
        "id": "3JuwoacOzI4j"
      },
      "execution_count": null,
      "outputs": []
    },
    {
      "cell_type": "code",
      "source": [
        "arm = ArmFixedTendonCoupling()\n",
        "model = arm.spec.compile()\n",
        "print_xml(arm.spec.to_xml())"
      ],
      "metadata": {
        "id": "UavNpxngzWEc"
      },
      "execution_count": null,
      "outputs": []
    },
    {
      "cell_type": "code",
      "source": [
        "class ArmFixedTendon(ArmFixedTendonCoupling):\n",
        "  def __init__(self):\n",
        "    super().__init__()\n",
        "\n",
        "    kp = 1\n",
        "    # defaults\n",
        "    main = self.spec.default()\n",
        "\n",
        "    # position actuator defaults\n",
        "\n",
        "    main.actuator.gaintype = mj.mjtGain.mjGAIN_FIXED\n",
        "    main.actuator.biastype = mj.mjtBias.mjBIAS_AFFINE\n",
        "    main.actuator.forcerange = [-1,1]\n",
        "\n",
        "    kp = 1\n",
        "    # copying default values\n",
        "    gainprm = main.actuator.gainprm[:]\n",
        "    biasprm = main.actuator.biasprm[:]\n",
        "    # setting kp\n",
        "    gainprm[0] =  kp\n",
        "    biasprm[1] = -kp\n",
        "\n",
        "    t_actuator = {\n",
        "        \"name\":\"act_tendon\",\n",
        "        \"target\":\"coupling_j1_j2\",\n",
        "        \"ctrlrange\":[-1,1],\n",
        "        \"gainprm\":gainprm,\n",
        "        \"biasprm\":biasprm,\n",
        "        \"trntype\":mj.mjtTrn.mjTRN_TENDON\n",
        "    }\n",
        "    p_actuator = {\n",
        "      \"name\":\"act_j0\",\n",
        "      \"target\": \"j0\",\n",
        "      \"trntype\":mj.mjtTrn.mjTRN_JOINT\n",
        "    }\n",
        "\n",
        "    # position actuator\n",
        "    self.spec.add_actuator(**p_actuator)\n",
        "    # tendon drive\n",
        "    self.spec.add_actuator(**t_actuator)\n"
      ],
      "metadata": {
        "id": "aclMre0rzYmt"
      },
      "execution_count": null,
      "outputs": []
    },
    {
      "cell_type": "code",
      "source": [
        "arm = ArmFixedTendon()\n",
        "model = arm.spec.compile()\n",
        "print_xml(arm.spec.to_xml())"
      ],
      "metadata": {
        "id": "HxJnXd5mzgm1"
      },
      "execution_count": null,
      "outputs": []
    },
    {
      "cell_type": "code",
      "source": [
        "arena = Arena()\n",
        "arm = ArmFixedTendon()\n",
        "body = arena.add_fixed_asset(arm,pos=[0,0,0.15])\n",
        "model = arena.spec.compile()\n",
        "render(model)"
      ],
      "metadata": {
        "id": "ahwgb1NZ-iJI"
      },
      "execution_count": null,
      "outputs": []
    },
    {
      "cell_type": "code",
      "source": [
        "class ArmTendonsRouting(ArmBase):\n",
        "  def __init__(self):\n",
        "    super().__init__(create_tree=False,num_bodies=2)\n",
        "    \"\"\"\n",
        "    First joint is position controlled\n",
        "    Second joint\n",
        "    will be go tendon driven\n",
        "    \"\"\"\n",
        "    # adding sites to end of first body\n",
        "    self.bodies[0]['sites'] = [\n",
        "      {\n",
        "        \"name\":\"s1\",\n",
        "        \"pos\":[0.025,0,0.15]\n",
        "      },\n",
        "      {\n",
        "        \"name\":\"s2\",\n",
        "        \"pos\":[-0.025,0,0.15]\n",
        "      },\n",
        "    ]\n",
        "    # adding sites to beginning of first body\n",
        "    self.bodies[1]['sites'] = [\n",
        "      {\n",
        "        \"name\":\"s3\",\n",
        "        \"pos\":[0.025,0,0.08]\n",
        "      },\n",
        "      {\n",
        "        \"name\":\"s4\",\n",
        "        \"pos\":[-0.025,0,0.08]\n",
        "      },\n",
        "      # these sites will be used for routing\n",
        "      {\n",
        "        \"name\":\"sr1\",\n",
        "        \"pos\":[0.08,0,0]\n",
        "      },\n",
        "      {\n",
        "        \"name\":\"sr2\",\n",
        "        \"pos\":[-0.08,0,0]\n",
        "      }\n",
        "    ]\n",
        "    # creating tree like structure of robot\n",
        "    self._create_tree()\n",
        "\n",
        "    # adding tendons to model\n",
        "    tendons = [\n",
        "      # right tendon\n",
        "      {\n",
        "        \"name\":\"left\",\n",
        "        \"data\":[\n",
        "          {\n",
        "            \"name\":\"s1\"\n",
        "          },\n",
        "          {\n",
        "            \"name\":\"g1_1\",\n",
        "            \"sidesite\":\"sr1\"\n",
        "\n",
        "          },\n",
        "          {\n",
        "            \"name\":\"s3\"\n",
        "          }\n",
        "        ]\n",
        "      },\n",
        "      # left tendon\n",
        "      {\n",
        "        \"name\":\"right\",\n",
        "        \"data\":[\n",
        "          {\n",
        "            \"name\":\"s2\"\n",
        "          },\n",
        "          {\n",
        "            \"name\":\"g1_1\",\n",
        "            \"sidesite\":\"sr2\"\n",
        "\n",
        "          },\n",
        "          {\n",
        "            \"name\":\"s4\"\n",
        "          }\n",
        "        ]\n",
        "      },\n",
        "    ]\n",
        "\n",
        "    for prop in tendons:\n",
        "      tendon = self.spec.add_tendon(name=prop[\"name\"])\n",
        "      for d in prop['data']:\n",
        "        if not 'sidesite' in d:\n",
        "          tendon.wrap_site(d['name'])\n",
        "        else:\n",
        "          tendon.wrap_geom(d['name'],d['sidesite'])\n"
      ],
      "metadata": {
        "id": "QGtGHRjbztIk"
      },
      "execution_count": null,
      "outputs": []
    },
    {
      "cell_type": "code",
      "source": [
        "arm = ArmTendonsRouting()\n",
        "model = arm.spec.compile()\n",
        "print_xml(arm.spec.to_xml())"
      ],
      "metadata": {
        "id": "Cbtu_TdU0FeU"
      },
      "execution_count": null,
      "outputs": []
    },
    {
      "cell_type": "code",
      "source": [
        "class ArmMuscle(ArmTendonsRouting):\n",
        "    def __init__(self):\n",
        "      super().__init__()\n",
        "\n",
        "      # defaults\n",
        "      main = self.spec.default()\n",
        "\n",
        "      # muscle defaults\n",
        "      main.actuator.trntype = mj.mjtTrn.mjTRN_TENDON\n",
        "      main.actuator.dyntype  = mj.mjtDyn.mjDYN_MUSCLE\n",
        "      main.actuator.gaintype = mj.mjtGain.mjGAIN_MUSCLE\n",
        "      main.actuator.biastype = mj.mjtBias.mjBIAS_MUSCLE\n",
        "\n",
        "      main.actuator.dynprm[0] = 0.01 # tau act\n",
        "      main.actuator.dynprm[1] = 0.04 # tau deact\n",
        "\n",
        "      # range[0], range [1], force, scale,\n",
        "      # lmin, lmax, vmax, fpmax, fvmax\n",
        "      main.actuator.gainprm[0:9] = [0.75,1.05,-1,200,\n",
        "                                    0.5,1.6,1.5,1.3,1.2]\n",
        "\n",
        "      # biasprm = gainprm\n",
        "      main.actuator.biasprm = main.actuator.gainprm[:]\n",
        "\n",
        "      actuators = [\n",
        "        {\n",
        "          \"name\":\"act_left\",\n",
        "          \"target\":\"left\"\n",
        "        },\n",
        "        {\n",
        "          \"name\":\"act_right\",\n",
        "          \"target\":\"right\"\n",
        "        },\n",
        "      ]\n",
        "      # muscle actuators\n",
        "      for actuator in actuators:\n",
        "        self.spec.add_actuator(**actuator)\n"
      ],
      "metadata": {
        "id": "5EmEx0ff0Qau"
      },
      "execution_count": null,
      "outputs": []
    },
    {
      "cell_type": "code",
      "source": [
        "arm = ArmMuscle()\n",
        "model = arm.spec.compile()\n",
        "print_xml(arm.spec.to_xml())"
      ],
      "metadata": {
        "id": "_hA1CcLv0UYA"
      },
      "execution_count": null,
      "outputs": []
    },
    {
      "cell_type": "code",
      "source": [
        "arena = Arena()\n",
        "arm = ArmMuscle()\n",
        "body = arena.add_fixed_asset(arm,pos=[0,0,0.15])\n",
        "model = arena.spec.compile()\n",
        "render(model)"
      ],
      "metadata": {
        "id": "WnbheMxb-va_"
      },
      "execution_count": null,
      "outputs": []
    },
    {
      "cell_type": "markdown",
      "source": [
        "### Mesh"
      ],
      "metadata": {
        "id": "4agSRb2wMAMC"
      }
    },
    {
      "cell_type": "code",
      "source": [
        "cf2_assets = 'mujoco_menagerie/bitcraze_crazyflie_2/assets/'"
      ],
      "metadata": {
        "id": "IR_sC3BPMmRY"
      },
      "execution_count": null,
      "outputs": []
    },
    {
      "cell_type": "code",
      "source": [
        "@dataclasses.dataclass\n",
        "class CrazyFlieData:\n",
        "  asset_path:str\n",
        "  materials = [\n",
        "    {\n",
        "        \"name\":\"polished_plastic\",\n",
        "        \"rgba\":[0.631, 0.659, 0.678, 1]\n",
        "    },\n",
        "    {\n",
        "        \"name\":\"polished_gold\",\n",
        "        \"rgba\":[0.969, 0.878, 0.6, 1]\n",
        "    },\n",
        "    {\n",
        "        \"name\":\"medium_gloss_plastic\",\n",
        "        \"rgba\":[0.109, 0.184, 0.0, 1]\n",
        "    },\n",
        "    {\n",
        "        \"name\":\"propeller_plastic\",\n",
        "        \"rgba\":[0.792, 0.820, 0.933, 1]\n",
        "    },\n",
        "    {\n",
        "        \"name\":\"white\",\n",
        "        \"rgba\":[1]*4\n",
        "    },\n",
        "    {\n",
        "        \"name\":\"body_frame_plastic\",\n",
        "        \"rgba\":[0.102, 0.102, 0.102, 1]\n",
        "    },\n",
        "    {\n",
        "        \"name\":\"burnished_chrome\",\n",
        "        \"rgba\":[0.898, 0.898, 0.898, 1]\n",
        "    }\n",
        "  ]\n",
        "  # meshes for visulizaition\n",
        "  meshes_vis = {\n",
        "    \"prefix\":\"cf2_\",\n",
        "    \"range\":[0,6]\n",
        "  }\n",
        "  # meshes for collision\n",
        "  meshes_col = {\n",
        "      \"prefix\":\"cf2_collision_\",\n",
        "      \"range\":[0,31]\n",
        "  }\n",
        "  # default\n",
        "  geom_vis_default = {\n",
        "      \"type\":mj.mjtGeom.mjGEOM_MESH,\n",
        "      \"group\":2,\n",
        "      \"contype\":0,\n",
        "      \"conaffinity\":0\n",
        "  }\n",
        "  geom_col_default = {\n",
        "      \"type\":mj.mjtGeom.mjGEOM_MESH,\n",
        "      \"group\":3\n",
        "  }\n",
        "  # props\n",
        "\n",
        "  body = {\n",
        "      \"name\":\"cf2\",\n",
        "      \"pos\": [0, 0, 1],\n",
        "      # ipos and iquat can be removed since they are\n",
        "      # the default values\n",
        "      \"ipos\":[0,0,0],\n",
        "      \"iquat\":[1,0,0,0],\n",
        "      \"mass\":0.027,\n",
        "      \"inertia\":[2.3951e-5, 2.3951e-5, 3.2347e-5],\n",
        "      \"explicitinertial\":True\n",
        "\n",
        "  }\n",
        "  geoms_col = meshes_col\n",
        "  geoms_vis = meshes_vis\n",
        "  geom_vis_material = [\"propeller_plastic\", \"medium_gloss_plastic\",\n",
        "    \"polished_gold\", \"polished_plastic\", \"burnished_chrome\",\n",
        "    \"body_frame_plastic\",\"white\"\n",
        "  ]\n",
        "  sites = [\n",
        "      {\n",
        "          \"name\":\"imu\",\n",
        "          \"group\":5\n",
        "      },\n",
        "      {\n",
        "          \"name\":\"actuation\",\n",
        "          \"group\":5\n",
        "      }\n",
        "  ]\n",
        "  sensors = [\n",
        "       {\n",
        "           \"name\":\"body_gyro\",\n",
        "            \"type\":mj.mjtSensor.mjSENS_GYRO,\n",
        "            \"objtype\":mj.mjtObj.mjOBJ_SITE,\n",
        "            \"objname\":\"imu\"\n",
        "        },\n",
        "       {\n",
        "           \"name\":\"body_linacc\",\n",
        "            \"type\":mj.mjtSensor.mjSENS_ACCELEROMETER,\n",
        "            \"objtype\":mj.mjtObj.mjOBJ_SITE,\n",
        "            \"objname\":\"imu\"\n",
        "        },\n",
        "       {\n",
        "           \"name\":\"body_quat\",\n",
        "            \"type\":mj.mjtSensor.mjSENS_FRAMEQUAT,\n",
        "            \"objtype\":mj.mjtObj.mjOBJ_SITE,\n",
        "            \"objname\":\"imu\"\n",
        "        }\n",
        "  ],\n",
        "  actuation = [\n",
        "    {\n",
        "      \"ctrlrange\":[0, 0.35],\n",
        "      \"gear\":[0, 0, 1, 0, 0, 0],\n",
        "      \"target\":\"actuation\",\n",
        "      \"name\":\"body_thrust\"\n",
        "    },\n",
        "    {\n",
        "      \"ctrlrange\":[-1, 1],\n",
        "      \"gear\":[0, 0, 0, -0.00001, 0, 0],\n",
        "      \"target\":\"actuation\",\n",
        "      \"name\":\"x_moment\"\n",
        "    },\n",
        "    {\n",
        "      \"ctrlrange\":[-1, 1],\n",
        "      \"gear\":[0, 0, 0, 0, -0.00001, 0],\n",
        "      \"target\":\"actuation\",\n",
        "      \"name\":\"y_moment\"\n",
        "    },\n",
        "    {\n",
        "      \"ctrlrange\":[-1, 1],\n",
        "      \"gear\":[0, 0, 0, 0, 0, -0.00001],\n",
        "      \"target\":\"actuation\",\n",
        "      \"name\":\"z_moment\"\n",
        "    }\n",
        "  ]\n",
        "  camera = {\n",
        "      \"name\":\"track\",\n",
        "      \"pos\":[-1, 0, .5],\n",
        "      \"xyaxes\":[0, -1, 0, 1, 0, 2],\n",
        "      \"mode\":mj.mjtCamLight.mjCAMLIGHT_TRACKCOM\n",
        "  }"
      ],
      "metadata": {
        "id": "3qct_R8jMDAW"
      },
      "execution_count": null,
      "outputs": []
    },
    {
      "cell_type": "code",
      "source": [
        "class CrazyFlies:\n",
        "  def __init__(self,data):\n",
        "    self.spec = mj.MjSpec()\n",
        "    self.spec.compiler.degree = False\n",
        "    self.model = self.spec.worldbody\n",
        "\n",
        "    # defaults\n",
        "    main = self.spec.default()\n",
        "\n",
        "    # motor actuation setting\n",
        "    main.actuator.gaintype = mj.mjtGain.mjGAIN_FIXED\n",
        "    main.actuator.biastype = mj.mjtBias.mjBIAS_NONE\n",
        "    main.actuator.dyntype  = mj.mjtDyn.mjDYN_NONE\n",
        "    main.actuator.trntype = mj.mjtTrn.mjTRN_SITE\n",
        "\n",
        "    # add material\n",
        "    for m in data.materials:\n",
        "      self.spec.add_material(**m)\n",
        "    # add mesh\n",
        "    num_col_mesh = data.meshes_col[\"range\"][1]\n",
        "    for i in range(num_col_mesh + 1):\n",
        "      filename = data.meshes_col[\"prefix\"]+str(i)\n",
        "      self.spec.add_mesh(name=filename, file=data.asset_path+filename+'.obj')\n",
        "\n",
        "    num_vis_mesh = data.meshes_vis[\"range\"][1]\n",
        "    for i in range(num_vis_mesh + 1):\n",
        "      filename = data.meshes_vis[\"prefix\"]+str(i)\n",
        "      self.spec.add_mesh(name=filename, file=data.asset_path+filename+'.obj')\n",
        "\n",
        "    # body\n",
        "    body = self.model.add_body(**data.body)\n",
        "    # camera\n",
        "    body.add_camera(**data.camera)\n",
        "    # geoms\n",
        "    num_vis_geoms = data.geoms_vis[\"range\"][1]\n",
        "    for i in range(num_vis_geoms + 1):\n",
        "      mesh = data.geoms_vis[\"prefix\"]+str(i)\n",
        "      geom = {\n",
        "          \"meshname\":mesh,\n",
        "          \"material\":data.geom_vis_material[i]\n",
        "      }\n",
        "      geom |=data.geom_vis_default\n",
        "      body.add_geom(**geom)\n",
        "\n",
        "    num_col_geoms = data.geoms_col[\"range\"][1]\n",
        "    for i in range(num_col_geoms + 1):\n",
        "      mesh = data.geoms_col[\"prefix\"]+str(i)\n",
        "      geom = {\n",
        "          \"meshname\":mesh\n",
        "      }\n",
        "      geom |= data.geom_col_default\n",
        "      body.add_geom(**geom)\n",
        "    # sites\n",
        "    for site in data.sites:\n",
        "      body.add_site(**site)\n",
        "\n",
        "    # actuators\n",
        "    for actuator in data.actuation:\n",
        "      self.spec.add_actuator(**actuator)"
      ],
      "metadata": {
        "id": "gDz-BdSFMd-3"
      },
      "execution_count": null,
      "outputs": []
    },
    {
      "cell_type": "code",
      "source": [
        "cf_data = CrazyFlieData(cf2_assets)\n",
        "cf = CrazyFlies(cf_data)\n",
        "model = cf.spec.compile()\n",
        "print_xml(cf.spec.to_xml())"
      ],
      "metadata": {
        "id": "0YhV226yMigb"
      },
      "execution_count": null,
      "outputs": []
    },
    {
      "cell_type": "markdown",
      "source": [
        "### Height field\n",
        "Height field is used to represent uneaven train or mountains. There are many ways to generated a procedural terrain. Here we will use Perlin Noise to generate hight field:\n",
        "https://www.youtube.com/watch?v=9x6NvGkxXhU\n",
        "\n",
        "For more insperation have a look at:\n",
        "https://www.youtube.com/watch?v=gsJHzBTPG0Y\n",
        "\n",
        "We start by installing python package that helps with generation of Perlin Noise.\n"
      ],
      "metadata": {
        "id": "7m2F12c-fhk3"
      }
    },
    {
      "cell_type": "code",
      "source": [
        "# perlin noise\n",
        "!pip install git+https://github.com/pvigier/perlin-numpy\n",
        "from perlin_numpy import generate_perlin_noise_2d"
      ],
      "metadata": {
        "id": "FG4xYNIwf8Xr"
      },
      "execution_count": null,
      "outputs": []
    },
    {
      "cell_type": "code",
      "source": [
        "np.random.seed(0)\n",
        "noise = generate_perlin_noise_2d((256, 256), (8, 8))\n",
        "plt.imshow(noise, cmap='gray', interpolation='lanczos')\n",
        "plt.colorbar()"
      ],
      "metadata": {
        "id": "FW-xHx_4g9sf"
      },
      "execution_count": null,
      "outputs": []
    },
    {
      "cell_type": "code",
      "source": [
        "class ArenaHFileld:\n",
        "  def __init__(self):\n",
        "    self.spec = mj.MjSpec()\n",
        "    self.model = self.spec.worldbody\n",
        "    self.spec.compiler.degree = False\n",
        "    self.scene_option = mj.MjvOption()\n",
        "\n",
        "\n",
        "    # setting rendring window size\n",
        "    # self.spec.visual.offwidth = 1280\n",
        "    # self.spec.visual.offheight = 720\n",
        "\n",
        "\n",
        "    # adding hfield\n",
        "    noise = generate_perlin_noise_2d((256, 256), (8, 8))\n",
        "    hfield = self.spec.add_hfield(name='hfield',\n",
        "                                  size = [10,10,8,8],\n",
        "                                  nrow = noise.shape[0],\n",
        "                                  ncol = noise.shape[1],\n",
        "                                  userdata=noise.flatten())\n",
        "\n",
        "    # Make arena with textured floor.\n",
        "\n",
        "    chequered = self.spec.add_texture(\n",
        "        name=\"chequered\", type=mj.mjtTexture.mjTEXTURE_2D,\n",
        "        builtin=mj.mjtBuiltin.mjBUILTIN_CHECKER,\n",
        "        width=300, height=300, rgb1=[.2, .3, .4], rgb2=[.3, .4, .5])\n",
        "\n",
        "    grid = self.spec.add_material(\n",
        "        name='chequered', texrepeat=[5, 5], reflectance=.2\n",
        "        ).textures[mj.mjtTextureRole.mjTEXROLE_RGB] = 'chequered'\n",
        "    self.model.add_geom(\n",
        "        type=mj.mjtGeom.mjGEOM_HFIELD, material='chequered',hfieldname='hfield')\n",
        "\n",
        "    for x in [-2, 2]:\n",
        "      self.model.add_light(pos=[x, -1, 3], dir=[-x, 1, -2])\n",
        "\n",
        "\n",
        "\n",
        "  def add_tracking_camera(self,body,name=\"eye\",pos=[0,0,1],euler=[0,0,0]):\n",
        "    # camera\n",
        "    self.model.add_camera(name=name,\n",
        "                          mode =mj.mjtCamLight.mjCAMLIGHT_TRACK ,\n",
        "                          targetbody=body,\n",
        "                          pos= pos,\n",
        "                          euler=euler)\n",
        "    return name\n",
        "\n",
        "  def visulize_camera(self):\n",
        "    self.scene_option.flags[mj.mjtVisFlag.mjVIS_CAMERA] = True\n",
        "\n",
        "  def add_movable_asset(self,asset,pos=[0,0,0],prefix='_'):\n",
        "    frame = self.model.add_frame(pos=pos)\n",
        "    body = frame.attach_body(asset.model,  prefix,'')\n",
        "    body.add_freejoint()\n",
        "    return body\n",
        "\n",
        "  def add_fixed_asset(self,asset,pos=[0,0,0],prefix='_'):\n",
        "    frame = self.model.add_frame(pos=pos)\n",
        "    body = frame.attach_body(asset.model,  prefix,'')\n",
        "    return body\n",
        "\n",
        "  def remove_asset(self,body):\n",
        "    self.spec.detach_body(body)"
      ],
      "metadata": {
        "id": "ZyLY3BFzhG-N"
      },
      "execution_count": null,
      "outputs": []
    },
    {
      "cell_type": "code",
      "source": [
        "arena = ArenaHFileld()\n",
        "model = arena.spec.compile()\n",
        "render(model)"
      ],
      "metadata": {
        "id": "xXwH4P72iPLF"
      },
      "execution_count": null,
      "outputs": []
    },
    {
      "cell_type": "code",
      "source": [
        "arena = ArenaHFileld()\n",
        "robot = MultiLegRobot()\n",
        "arena.add_movable_asset(robot,[0,0,8])\n",
        "camera = arena.add_tracking_camera(\"_world\",euler=[0,0,0],pos=[0,0,10])\n",
        "arena.visulize_camera()\n",
        "model = arena.spec.compile()\n",
        "random_state = np.random.RandomState(42)\n",
        "\n",
        "\n",
        "# print(arena.spec.to_xml())\n",
        "\n",
        "actuators = [actuator.id for actuator in arena.spec.actuators]\n",
        "# Control signal frequency, phase, amplitude.\n",
        "freq = 5\n",
        "phase = 2 * np.pi * random_state.rand(len(arena.spec.actuators))\n",
        "amp = 0.9\n",
        "\n",
        "# Simulate and display video.\n",
        "duration = 5    # (seconds)\n",
        "framerate = 30  # (Hz)\n",
        "frames = []\n",
        "data = mj.MjData(model)\n",
        "mj.mj_resetData(model, data)\n",
        "with mj.Renderer(model,width=640,height=480) as renderer:\n",
        "  while data.time < duration:\n",
        "    # Inject controls and step the physics.\n",
        "    data.ctrl[actuators] = amp * np.sin(freq * data.time + phase)\n",
        "    mj.mj_step(model, data)\n",
        "    if len(frames) < data.time * framerate:\n",
        "      # renderer.update_scene(data,scene_option=arena.scene_option)\n",
        "      renderer.update_scene(data,camera=camera)\n",
        "\n",
        "      pixels = renderer.render()\n",
        "      frames.append(pixels)\n",
        "\n",
        "media.show_video(frames, fps=framerate)"
      ],
      "metadata": {
        "id": "MV8AoDGatOUV"
      },
      "execution_count": null,
      "outputs": []
    },
    {
      "cell_type": "markdown",
      "source": [
        "### Procedural Mesh Generation\n",
        "Mujoco has the functionality to create a mesh given verticies. These verities can be result of Prodcedural mesh generation. A person can use libraires like cad query :https://cadquery.readthedocs.io/en/latest/\n",
        "to generate meshes and then construct them with mujoco. Here we will not demonstrate procedural mesh generation. However we are going to see how the resulting verticies can be used in mujoco.\n",
        "\n",
        "Low poly rock:\n",
        "https://www.youtube.com/watch?v=1H2YaRPfpdM"
      ],
      "metadata": {
        "id": "TPw0DzWaishD"
      }
    },
    {
      "cell_type": "code",
      "source": [
        "# Texture\n",
        "!git clone https://github.com/mohammad200h/dirt.git\n",
        "\n",
        "!cd dirt && ls"
      ],
      "metadata": {
        "id": "zpDDwVpZYDUh"
      },
      "execution_count": null,
      "outputs": []
    },
    {
      "cell_type": "code",
      "source": [
        "textures = [\n",
        "    \"./dirt/black-stone.png\",\n",
        "    \"./dirt/stone-surface-background.png\",\n",
        "    \"./dirt/stone-texture-background.png\",\n",
        "    \"./dirt/top-view-soil.png\",\n",
        "]\n",
        "\n",
        "data = {\n",
        "    \"faces\": [[0, 9, 10], [8, 3, 28], [4, 13, 18], [2, 19, 22], [1, 20, 27],\n",
        " [6, 25, 52], [12, 7, 34], [17, 11, 36], [23, 16, 41], [29, 24, 46], [5, 51, 31],\n",
        "  [14, 30, 35], [15, 37, 42], [21, 43, 48], [26, 47, 50], [32, 54, 55], [39, 33, 56],\n",
        "   [44, 38, 57], [45, 40, 58], [53, 49, 59]],\n",
        "    \"vertices\": [[0.0, -0.01, 0.0], [0.0, -0.01, 0.0], [0.0, -0.01, 0.0], [0.0, -0.01, 0.0],\n",
        "                 [0.0, -0.01, 0.0], [0.007236, -0.004472, 0.005257], [0.007236, -0.004472, 0.005257],\n",
        "                 [0.007236, -0.004472, 0.005257], [0.007236, -0.004472, 0.005257], [0.007236, -0.004472, 0.005257],\n",
        "                 [-0.002764, -0.004472, 0.008506], [-0.002764, -0.004472, 0.008506], [-0.002764, -0.004472, 0.008506],\n",
        "                 [-0.002764, -0.004472, 0.008506], [-0.002764, -0.004472, 0.008506], [-0.008944, -0.004472, 0.0],\n",
        "                 [-0.008944, -0.004472, 0.0], [-0.008944, -0.004472, 0.0], [-0.008944, -0.004472, 0.0],\n",
        "                 [-0.008944, -0.004472, 0.0], [-0.002764, -0.004472, -0.008506], [-0.002764, -0.004472, -0.008506],\n",
        "                 [-0.002764, -0.004472, -0.008506], [-0.002764, -0.004472, -0.008506], [-0.002764, -0.004472, -0.008506],\n",
        "                 [0.007236, -0.004472, -0.005257], [0.007236, -0.004472, -0.005257], [0.007236, -0.004472, -0.005257],\n",
        "                 [0.007236, -0.004472, -0.005257], [0.007236, -0.004472, -0.005257], [0.002764, 0.004472, 0.008506],\n",
        "                 [0.002764, 0.004472, 0.008506], [0.002764, 0.004472, 0.008506], [0.002764, 0.004472, 0.008506],\n",
        "                 [0.002764, 0.004472, 0.008506], [-0.007236, 0.004472, 0.005257], [-0.007236, 0.004472, 0.005257],\n",
        "                 [-0.007236, 0.004472, 0.005257], [-0.007236, 0.004472, 0.005257], [-0.007236, 0.004472, 0.005257],\n",
        "                 [-0.007236, 0.004472, -0.005257], [-0.007236, 0.004472, -0.005257], [-0.007236, 0.004472, -0.005257],\n",
        "                 [-0.007236, 0.004472, -0.005257], [-0.007236, 0.004472, -0.005257], [0.002764, 0.004472, -0.008506],\n",
        "                 [0.002764, 0.004472, -0.008506], [0.002764, 0.004472, -0.008506], [0.002764, 0.004472, -0.008506],\n",
        "                 [0.002764, 0.004472, -0.008506], [0.008944, 0.004472, 0.0], [0.008944, 0.004472, 0.0],\n",
        "                 [0.008944, 0.004472, 0.0], [0.008944, 0.004472, 0.0], [0.008944, 0.004472, 0.0],\n",
        "                 [0.0, 0.01, 0.0], [0.0, 0.01, 0.0], [0.0, 0.01, 0.0], [0.0, 0.01, 0.0], [0.0, 0.01, 0.0]]\n",
        "}\n",
        "\n",
        "class Rock:\n",
        "  def __init__(self,data,textures:typing.List[str],name=\"rock\"):\n",
        "    self.spec = mj.MjSpec()\n",
        "    self.model = self.spec.worldbody\n",
        "    self.spec.compiler.degree = False\n",
        "\n",
        "\n",
        "    main = self.spec.default()\n",
        "    main.mesh.scale = [random.random()*20]*3\n",
        "\n",
        "    self.spec.add_texture(\n",
        "        name=\"rock\", type=mj.mjtTexture.mjTEXTURE_2D,\n",
        "        file = random.choice(textures),\n",
        "        width=300, height=300, rgb1=[.2, .3, .4], rgb2=[.3, .4, .5])\n",
        "    self.spec.add_material(\n",
        "        name='rock',  reflectance=.2\n",
        "        ).textures[mj.mjtTextureRole.mjTEXROLE_RGB] = 'rock'\n",
        "    # defaults\n",
        "    main = self.spec.default()\n",
        "    main.geom.type = mj.mjtGeom.mjGEOM_MESH\n",
        "\n",
        "    self.spec.add_mesh(\n",
        "        name = name,\n",
        "        uservert = np.array(data[\"vertices\"]).flatten() ,\n",
        "        userface = np.array(data[\"faces\"]).flatten()\n",
        "    )\n",
        "    self.model.add_geom(meshname = name , material = \"rock\")"
      ],
      "metadata": {
        "id": "k5dbtrk_iPYR"
      },
      "execution_count": null,
      "outputs": []
    },
    {
      "cell_type": "code",
      "source": [
        "arena = Arena()\n",
        "\n",
        "for i in range(10):\n",
        "  name = \"rock_\"+str(i)\n",
        "  asset = Rock(data,textures,name=name)\n",
        "  arena.add_fixed_asset(asset,[0.1*i,0,0.11],prefix=name)\n",
        "\n",
        "model = arena.spec.compile()\n",
        "render(model)"
      ],
      "metadata": {
        "id": "TtzU4BeDqjWQ"
      },
      "execution_count": null,
      "outputs": []
    },
    {
      "cell_type": "markdown",
      "source": [
        "### Rocky Situation\n",
        "Here we will create a scene using every model we have created.Then we will add more obstacles to the scene by droping cubes eveywhere. We will start creating an arena using the Hfield. The quadroped is used to transfer things from location A to B. To make sure things don't fall off we attach the Hexopaad to the top of quadroped so that the load can be balanced. Finally when the quadroped reaches point B, an arm picks up the object."
      ],
      "metadata": {
        "id": "sROTJQz0xHDs"
      }
    },
    {
      "cell_type": "markdown",
      "source": [
        "https://github.com/google-deepmind/mujoco/blob/main/python/mujoco/renderer_test.py\n"
      ],
      "metadata": {
        "id": "Jvp-YBB8g4nx"
      }
    },
    {
      "cell_type": "markdown",
      "source": [
        "### Transport"
      ],
      "metadata": {
        "id": "y2ugNOGsy39U"
      }
    },
    {
      "cell_type": "code",
      "source": [
        "class Transport:\n",
        "  def __init__(self):\n",
        "    quadroped = MultiLegRobot()\n",
        "    hexopad = Hexapod()\n",
        "\n",
        "    body = hexopad.top\n",
        "\n",
        "    arm_frames = [\n",
        "        {\n",
        "            \"name\":\"left\",\n",
        "            \"pos\":[0.1,0,0],\n",
        "            \"euler\":[0,1.2,0],\n",
        "            \"arm\":ArmFixedTendon().model\n",
        "        },\n",
        "        {\n",
        "            \"name\":\"right\",\n",
        "            \"pos\":[-0.1,0,0],\n",
        "            \"euler\":[0,-1.2,0],\n",
        "            \"arm\":ArmMuscle().model\n",
        "        }\n",
        "    ]\n",
        "\n",
        "    for prop in arm_frames:\n",
        "      frame = body.add_frame(pos = prop['pos'],euler=prop['euler'])\n",
        "      frame.attach_body(prop['arm'],\"\",\"_\"+prop[\"name\"])\n",
        "\n",
        "\n",
        "    frame = quadroped.model.add_frame(pos=[0,0,0])\n",
        "    frame.attach_body(hexopad.model, '','_')\n",
        "\n",
        "    self.spec = quadroped.spec\n",
        "    self.model = quadroped.model\n",
        "\n"
      ],
      "metadata": {
        "id": "2NnNqyl3q7qd"
      },
      "execution_count": null,
      "outputs": []
    },
    {
      "cell_type": "code",
      "source": [
        "arena = Arena()\n",
        "robot = Transport()\n",
        "arena.add_fixed_asset(robot,[0,0,0.15])\n",
        "model = arena.spec.compile()\n",
        "render(model)"
      ],
      "metadata": {
        "id": "SWRpYrfbt19I"
      },
      "execution_count": null,
      "outputs": []
    },
    {
      "cell_type": "code",
      "source": [
        "def circle_coordinates(radius, angle):\n",
        "    x = radius * math.cos(angle)\n",
        "    y = radius * math.sin(angle)\n",
        "    return x, y\n"
      ],
      "metadata": {
        "id": "EQWmXYESbvfz"
      },
      "execution_count": null,
      "outputs": []
    },
    {
      "cell_type": "code",
      "source": [
        "arena = Arena()\n",
        "robot = Transport()\n",
        "\n",
        "# rocks\n",
        "radius = 1\n",
        "for i,angle in enumerate(np.linspace(-3.14,3.14,10)):\n",
        "  x,y = circle_coordinates(radius/2,angle)\n",
        "  name = \"inner_rock_\"+str(i)\n",
        "  asset = Rock(data,textures,name=name)\n",
        "  arena.add_movable_asset(asset,[x,y,0.11],prefix=name)\n",
        "\n",
        "for i,angle in enumerate(np.linspace(-3.14,3.14,20)):\n",
        "  x,y = circle_coordinates(radius,angle)\n",
        "  name = \"outer_rock_\"+str(i)\n",
        "  asset = Rock(data,textures,name=name)\n",
        "  arena.add_movable_asset(asset,[x,y,0.11],prefix=name)\n",
        "\n",
        "\n",
        "\n",
        "arena.add_movable_asset(robot,[0,0,3])\n",
        "camera = arena.add_tracking_camera(\"_world\",euler=[0,0,0],pos=[0,0,3])\n",
        "arena.visulize_camera()\n",
        "model = arena.spec.compile()\n",
        "random_state = np.random.RandomState(42)\n",
        "\n",
        "\n",
        "# print(arena.spec.to_xml())\n",
        "\n",
        "actuators = [actuator.id for actuator in arena.spec.actuators]\n",
        "# Control signal frequency, phase, amplitude.\n",
        "freq = 5\n",
        "phase = 2 * np.pi * random_state.rand(len(arena.spec.actuators))\n",
        "amp = 0.9\n",
        "\n",
        "# Simulate and display video.\n",
        "duration = 10    # (seconds)\n",
        "framerate = 30  # (Hz)\n",
        "frames = []\n",
        "data = mj.MjData(model)\n",
        "mj.mj_resetData(model, data)\n",
        "with mj.Renderer(model,width=640,height=480) as renderer:\n",
        "  while data.time < duration:\n",
        "    # Inject controls and step the physics.\n",
        "    data.ctrl[actuators] = amp * np.sin(freq * data.time + phase)\n",
        "    mj.mj_step(model, data)\n",
        "    if len(frames) < data.time * framerate:\n",
        "      # renderer.update_scene(data,scene_option=arena.scene_option)\n",
        "      renderer.update_scene(data,camera=camera)\n",
        "\n",
        "      pixels = renderer.render()\n",
        "      frames.append(pixels)\n",
        "\n",
        "media.show_video(frames, fps=framerate)"
      ],
      "metadata": {
        "id": "BB9Npa_8_e6p"
      },
      "execution_count": null,
      "outputs": []
    },
    {
      "cell_type": "code",
      "source": [],
      "metadata": {
        "id": "iNSrex8ce6Ar"
      },
      "execution_count": null,
      "outputs": []
    }
  ],
  "metadata": {
    "accelerator": "GPU",
    "colab": {
      "collapsed_sections": [
        "sJFuNetilv4m"
      ],
      "gpuClass": "premium",
      "private_outputs": true,
      "provenance": []
    },
    "gpuClass": "premium",
    "kernelspec": {
      "display_name": "Python 3",
      "name": "python3"
    },
    "language_info": {
      "codemirror_mode": {
        "name": "ipython",
        "version": 3
      },
      "file_extension": ".py",
      "mimetype": "text/x-python",
      "name": "python",
      "nbconvert_exporter": "python",
      "pygments_lexer": "ipython3",
      "version": "3.11.9"
    }
  },
  "nbformat": 4,
  "nbformat_minor": 0
}